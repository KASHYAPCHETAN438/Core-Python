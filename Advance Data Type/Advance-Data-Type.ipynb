{
  "nbformat": 4,
  "nbformat_minor": 0,
  "metadata": {
    "colab": {
      "provenance": [],
      "include_colab_link": true
    },
    "kernelspec": {
      "name": "python3",
      "display_name": "Python 3"
    },
    "language_info": {
      "name": "python"
    }
  },
  "cells": [
    {
      "cell_type": "markdown",
      "metadata": {
        "id": "view-in-github",
        "colab_type": "text"
      },
      "source": [
        "<a href=\"https://colab.research.google.com/github/KASHYAPCHETAN438/Core-Python/blob/main/Advance-Data-Type%20(structure).ipynb\" target=\"_parent\"><img src=\"https://colab.research.google.com/assets/colab-badge.svg\" alt=\"Open In Colab\"/></a>"
      ]
    },
    {
      "cell_type": "markdown",
      "source": [
        "# **Python Advanced Data Types & Structures**\n",
        "\n",
        "\n",
        "\n",
        "\n"
      ],
      "metadata": {
        "id": "KtdlFUaZqGPF"
      }
    },
    {
      "cell_type": "markdown",
      "source": [
        "------\n",
        "# **LIST**\n",
        "\n",
        "* Heterogeneous:\n",
        "  * It can store multiple data types (e.g., int, string, float, etc.)\n",
        "\n",
        "*  Mutable:\n",
        "   * change, add, or remove elements.\n",
        "\n",
        "* Duplicates Allowed:\n",
        "  * Same value can appear multiple times.\n",
        "\n",
        "* Not Unique:\n",
        "    \n",
        "     i). Values don’t need to be unique\n",
        "     \n",
        "     ii). Elements are stored in a contiguous memory location.\n",
        "\n",
        "* Order:\n",
        "  * Maintains insertion order.\n",
        "\n",
        "\n",
        "      Syntax: [item1, item2, ...]\n",
        "\n"
      ],
      "metadata": {
        "id": "rdj81ljbHMXJ"
      }
    },
    {
      "cell_type": "code",
      "source": [
        "# we can define a list with list([1,2,3]) constructor or simple a=[12,5,4,7]\n",
        "# List(1,2,3,8 )---> Give error because List is a constructor which accepts only one argument\")\n",
        "\n",
        "\n",
        "print(\"\\n============ List (Mutable , Duplicate , Order )======================\\n\")\n",
        "\n",
        "\n",
        "l=[1,2,3,1]           # List Type []  it can store multiple types of data , allowed duplicate\n",
        "print(l)\n",
        "print(type(l))\n",
        "\n",
        "\n",
        "cities_and_number=[1,\"Delhi\",2.4,[1,2,3],1]        # Duplicates allowed\n",
        "print(cities_and_number)\n",
        "print(type(cities_and_number))\n",
        "\n",
        "cities_and_number.append(7)                       # Mutable , Order\n",
        "print(\"\\n\",cities_and_number)\n",
        "\n",
        "\n",
        "l=list([1,2,3,8])\n",
        "print(\"\\n\",l)                  # creating list using list() constructor\n",
        "\n",
        "\n",
        "\n",
        " # print(\"\\n\\n\\n\",list(1,2,3,8 ))      # error"
      ],
      "metadata": {
        "colab": {
          "base_uri": "https://localhost:8080/"
        },
        "id": "BCwS1UQWHsBk",
        "outputId": "1719452b-d776-46e1-ba4a-d25ff5e3b0aa"
      },
      "execution_count": null,
      "outputs": [
        {
          "output_type": "stream",
          "name": "stdout",
          "text": [
            "\n",
            "============ List (Mutable , Duplicate , Order )======================\n",
            "\n",
            "[1, 2, 3, 1]\n",
            "<class 'list'>\n",
            "[1, 'Delhi', 2.4, [1, 2, 3], 1]\n",
            "<class 'list'>\n",
            "\n",
            " [1, 'Delhi', 2.4, [1, 2, 3], 1, 7]\n",
            "\n",
            " [1, 2, 3, 8]\n"
          ]
        }
      ]
    },
    {
      "cell_type": "code",
      "source": [
        "# List all method\n",
        "\n",
        "lst = [1,2,3]\n",
        "lst.append(4)       # [1,2,3,4]\n",
        "lst.extend([5,6])   # [1,2,3,4,5,6]\n",
        "lst.insert(1,100)   # [1,100,2,3,...]\n",
        "lst.remove(2)       # removes first occurrence of 2\n",
        "lst.pop()           # removes last item\n",
        "lst.index(3)        # 2\n",
        "lst.count(3)        # 1\n",
        "lst.sort()          # [1,2,3,...]\n",
        "lst.reverse()       # reverse order\n",
        "lst.copy()          # shallow copy\n",
        "lst.clear()         # []\n"
      ],
      "metadata": {
        "id": "_ppKzG8ouQ7B"
      },
      "execution_count": null,
      "outputs": []
    },
    {
      "cell_type": "code",
      "source": [
        "# List method with details\n",
        "\n",
        "lst = [1, 2, 3]\n",
        "print(\"Initial:\", lst)\n",
        "\n",
        "lst.append(4)\n",
        "print(\"After append(4):\", lst)       # [1, 2, 3, 4]\n",
        "\n",
        "lst.extend([5, 6])\n",
        "print(\"After extend([5,6]):\", lst)   # [1, 2, 3, 4, 5, 6]\n",
        "\n",
        "lst.insert(1, 100)\n",
        "print(\"After insert(1,100):\", lst)   # [1, 100, 2, 3, 4, 5, 6]\n",
        "\n",
        "lst.remove(2)\n",
        "print(\"After remove(2):\", lst)       # removes first occurrence of 2\n",
        "\n",
        "popped = lst.pop()\n",
        "print(\"After pop():\", lst, \"| Popped value:\", popped)\n",
        "\n",
        "idx = lst.index(3)\n",
        "print(\"Index of 3:\", idx)\n",
        "\n",
        "cnt = lst.count(3)\n",
        "print(\"Count of 3:\", cnt)\n",
        "\n",
        "lst.sort()\n",
        "print(\"After sort():\", lst)\n",
        "\n",
        "lst.reverse()\n",
        "print(\"After reverse():\", lst)\n",
        "\n",
        "copied = lst.copy()\n",
        "print(\"Copy of list:\", copied)\n",
        "\n",
        "lst.clear()\n",
        "print(\"After clear():\", lst)\n"
      ],
      "metadata": {
        "colab": {
          "base_uri": "https://localhost:8080/"
        },
        "id": "dfWxzgZMIEVR",
        "outputId": "e31852bb-5d13-47e0-ef85-d3f1dfb7f5cb"
      },
      "execution_count": null,
      "outputs": [
        {
          "output_type": "stream",
          "name": "stdout",
          "text": [
            "Initial: [1, 2, 3]\n",
            "After append(4): [1, 2, 3, 4]\n",
            "After extend([5,6]): [1, 2, 3, 4, 5, 6]\n",
            "After insert(1,100): [1, 100, 2, 3, 4, 5, 6]\n",
            "After remove(2): [1, 100, 3, 4, 5, 6]\n",
            "After pop(): [1, 100, 3, 4, 5] | Popped value: 6\n",
            "Index of 3: 2\n",
            "Count of 3: 1\n",
            "After sort(): [1, 3, 4, 5, 100]\n",
            "After reverse(): [100, 5, 4, 3, 1]\n",
            "Copy of list: [100, 5, 4, 3, 1]\n",
            "After clear(): []\n"
          ]
        }
      ]
    },
    {
      "cell_type": "markdown",
      "source": [
        "# List Comprehensions\n",
        "\n",
        "* Compact way to create lists.\n",
        "\n",
        "      Syntax:  \n",
        "                [expression for item in iterable if condition]\n",
        "\n",
        "      * `expression` → value which is store in list  \n",
        "      * `item` → element from iterable  \n",
        "      * `condition` → (optional) use for filter    \n",
        "\n",
        "* Internally uses LIST_APPEND bytecode (optimized append) Not call apped().\n",
        "\n",
        "* Faster execution than normal for loop with append().\n",
        "\n",
        "* Reduces function call overhead.\n",
        "\n",
        "* Cleaner and more readable code.\n",
        "\n",
        "* Can be nested (a comprehension inside another comprehension).\n"
      ],
      "metadata": {
        "id": "Fakup8-PHsjY"
      }
    },
    {
      "cell_type": "code",
      "source": [
        "# Without list comprehension\n",
        "list1 = [\"apple\", \"banana\", \"cherry\"]\n",
        "newlist = []\n",
        "for x in list1:\n",
        "    if \"apple\" in x:\n",
        "        newlist.append(x)\n",
        "print(\"Without list comprehension:\", newlist)\n",
        "\n",
        "# With list comprehension\n",
        "list1 = [\"apple\", \"banana\", \"cherry\"]\n",
        "newlist = [x for x in list1 if \"apple\" in x]\n",
        "print(\"With list comprehension:\", newlist)\n"
      ],
      "metadata": {
        "colab": {
          "base_uri": "https://localhost:8080/"
        },
        "id": "7-4IMqnKH0M7",
        "outputId": "436ebe10-2152-4dc4-8e76-156b4afdd462"
      },
      "execution_count": null,
      "outputs": [
        {
          "output_type": "stream",
          "name": "stdout",
          "text": [
            "Without list comprehension: ['apple']\n",
            "With list comprehension: ['apple']\n"
          ]
        }
      ]
    },
    {
      "cell_type": "code",
      "source": [
        "# Avoid using 'list' as a variable name\n",
        "newlist = [x for x in range(1, 10, 2)]\n",
        "print(newlist)\n",
        "\n",
        "list1 = [x for x in range(1, 10, 2) if x < 5]\n",
        "print(list1)\n",
        "\n",
        "#square = list(map(lambda x:x**2,range(10)))\n",
        "#print(square)\n",
        "\n",
        "sq = [x**2 for x in range(10)]\n",
        "print(sq)\n",
        "\n",
        "pairs = [(x, y) for x in [1, 2, 3] for y in [3, 1, 4] if x != y]\n",
        "print(pairs)\n"
      ],
      "metadata": {
        "colab": {
          "base_uri": "https://localhost:8080/"
        },
        "id": "RTNk1AXFIJNf",
        "outputId": "d74da26c-a8a0-49bd-92ef-0002d34069aa"
      },
      "execution_count": null,
      "outputs": [
        {
          "output_type": "stream",
          "name": "stdout",
          "text": [
            "[1, 3, 5, 7, 9]\n",
            "[1, 3]\n",
            "[0, 1, 4, 9, 16, 25, 36, 49, 64, 81]\n",
            "[(1, 3), (1, 4), (2, 3), (2, 1), (2, 4), (3, 1), (3, 4)]\n"
          ]
        }
      ]
    },
    {
      "cell_type": "code",
      "source": [
        "newlist = [1, 2, 8, 45, 7,\"Ram\",2.5]\n",
        "print(newlist)\n",
        "item=input(\"Enter the item which you want to serach : \")\n",
        "\n",
        "a=isinstance(item,(int, float, bool))\n",
        "print(a)\n",
        "\n",
        "b=isinstance(item,int)\n",
        "print(b)\n",
        "\n",
        "print(item.isdigit())\n",
        "\n",
        "if item in newlist:\n",
        "  print(f\"{item} is present in list\")\n",
        "else:\n",
        "  print(f\"{item} is not present in list\")"
      ],
      "metadata": {
        "colab": {
          "base_uri": "https://localhost:8080/"
        },
        "id": "-7OEwaiKiyOp",
        "outputId": "f2942ffe-ca29-4382-8c88-cf13767f38b4"
      },
      "execution_count": null,
      "outputs": [
        {
          "output_type": "stream",
          "name": "stdout",
          "text": [
            "[1, 2, 8, 45, 7, 'Ram', 2.5]\n",
            "Enter the item which you want to serach : \n",
            "False\n",
            "False\n",
            "False\n",
            " is not present in list\n"
          ]
        }
      ]
    },
    {
      "cell_type": "code",
      "source": [
        "list1 =[22,56,232,29,129,23,88,12,48]\n",
        "# print elements one by one\n",
        "[print(x) for x in list1]\n",
        "# create a list of even numbers from the list1\n",
        "list2 = [x for x in list1 if x%2==0]\n",
        "print(\"List 2 : \", list2)\n",
        "# create a new list of squares of the given values in the list\n",
        "squares = [x*x for x in list1]\n",
        "print(\"Square : \", squares)\n",
        "# filter odd numbers from a range of numbers\n",
        "odds = [num for num in range(11,22) if num%2!=0]\n",
        "print(\"Odd numbers between 11 and 22 : \", odds)\n",
        "# input values in list comprehension\n",
        "# we will create a list from user input which has number separated by space\n",
        "# get the numbers and store them into the list\n",
        "\n",
        "nums = [int(x) for x in input(\"Enter numbers separated by space : \").split()]\n",
        "print(\"Numbers : \", nums)\n",
        "\n",
        "# input in list comprehension by condition\n",
        "nums1 = [int(x) for x in input(\"Enter Numbers : \").split() if int(x)%2==0]\n",
        "print(\"Even Numbers : \", nums1)\n"
      ],
      "metadata": {
        "colab": {
          "base_uri": "https://localhost:8080/"
        },
        "id": "pHiFVu3Hq4DJ",
        "outputId": "61ef4bf5-51ed-4651-fb50-a9373e1f62ea"
      },
      "execution_count": null,
      "outputs": [
        {
          "output_type": "stream",
          "name": "stdout",
          "text": [
            "22\n",
            "56\n",
            "232\n",
            "29\n",
            "129\n",
            "23\n",
            "88\n",
            "12\n",
            "48\n",
            "List 2 :  [22, 56, 232, 88, 12, 48]\n",
            "Square :  [484, 3136, 53824, 841, 16641, 529, 7744, 144, 2304]\n",
            "Odd numbers between 11 and 22 :  [11, 13, 15, 17, 19, 21]\n",
            "Enter numbers separated by space : 01\n",
            "Numbers :  [1]\n",
            "Enter Numbers : 12\n",
            "Even Numbers :  [12]\n"
          ]
        }
      ]
    },
    {
      "cell_type": "markdown",
      "source": [
        "------\n",
        "# **DICTIONARY**\n",
        "\n",
        "* Heterogeneous:\n",
        "  * Both keys and values can be of different data types.\n",
        "\n",
        "* Not Contiguous:\n",
        "  * Does not store elements in contiguous memory.\n",
        "\n",
        "* Order:\n",
        "  * Maintains insertion order (from Python 3.7+).\n",
        "\n",
        "* Mutable:\n",
        "  * Keys and values can be modified, added, or removed.\n",
        "\n",
        "* Keys Unique:\n",
        "  * Keys must be unique, but values can repeat.\n",
        "\n",
        "* Key-Value Pair:\n",
        "  * Each item is stored as key : value\n",
        "  * value may be heterogeneous\n",
        "\n",
        "        Syntax: {key: value, ...}\n",
        "\n",
        "* Key Characteristics\n",
        "\n",
        "   * Keys must be immutable → (str, int, tuple, etc.).\n",
        "\n",
        "   * Values can be anything → mutable or immutable (list, dict, set, str, etc.).\n",
        "\n",
        "* Dictionary stores data as a mapping:\n",
        "    * key → value\n",
        "    * store values in the hash table.\n"
      ],
      "metadata": {
        "id": "4Ppf9lP4I_YS"
      }
    },
    {
      "cell_type": "code",
      "source": [
        "# Each key is unique. If a key is repeated, the last assigned value overwrites the old one.\n",
        "\n",
        "d = {\"a\": 1, \"b\": 2, \"a\": 100}\n",
        "print(d)   # {'a': 100, 'b': 2}\n",
        "\n",
        "print(hash(\"a\"))\n",
        "\n"
      ],
      "metadata": {
        "colab": {
          "base_uri": "https://localhost:8080/"
        },
        "id": "JgpPsuwh4PQK",
        "outputId": "e4a5e036-0f2b-471b-b162-439f605535ba"
      },
      "execution_count": null,
      "outputs": [
        {
          "output_type": "stream",
          "name": "stdout",
          "text": [
            "{'a': 100, 'b': 2}\n",
            "9140978294713537628\n"
          ]
        }
      ]
    },
    {
      "cell_type": "code",
      "source": [
        "print(\"\\n ============ ordered, mutable, No duplicates ================\\n\")\n",
        "\n",
        "\n",
        "# how to create a dictionary?\n",
        "\n",
        "# first option is to provide key value pairs separated by commas inside the curly brackets.\n",
        "\n",
        "d1 = {\"Id\":101, \"Name\": \"Ajay Kumar\", \"Age\":23, \"Salary\": 78000}\n",
        "print(\"\\nd1 : \", d1)\n",
        "\n",
        "# second option is to use the dictionary constructor(dict())\n",
        "d2 = dict(Id=102, Name=\"Garima\", Age=27, Salary=90000)\n",
        "print(\"\\nd2 : \",d2)\n",
        "print(\"\\nId : \", id(d2))\n",
        "\n",
        "\n",
        "\n",
        "\n",
        "d = {\"Name\": \"Chetan\", \"Age\": 20, \"City\": \"Pune\"}\n",
        "print(\"\\n\",d)                                                        # See the order of keys\n",
        "\n",
        "# Add a new key\n",
        "d[\"Country\"] = \"India\"\n",
        "print(\"\\n\",d)                                                          # Check if keys stay in insertion order\n",
        "\n",
        "\n",
        "\n",
        "d[\"Country\"] = \"US\"                                               # Mutable\n",
        "print(\"\\n\",d)\n",
        "\n",
        "d[\"Country\"] = \"US\"                                               # No duplicate allow\n",
        "print(\"\\n\",d)\n",
        "\n",
        "\n",
        "# Iterate over keys\n",
        "for key in d:\n",
        "    print(\"\\n\",key)\n",
        "\n",
        "\n"
      ],
      "metadata": {
        "id": "FV0OJMfeJP3D",
        "colab": {
          "base_uri": "https://localhost:8080/"
        },
        "outputId": "efeeb528-e577-4662-80bf-ee0ad840922e"
      },
      "execution_count": 3,
      "outputs": [
        {
          "output_type": "stream",
          "name": "stdout",
          "text": [
            "\n",
            " ============ ordered, mutable, No duplicates ================\n",
            "\n",
            "\n",
            "d1 :  {'Id': 101, 'Name': 'Ajay Kumar', 'Age': 23, 'Salary': 78000}\n",
            "\n",
            "d2 :  {'Id': 102, 'Name': 'Garima', 'Age': 27, 'Salary': 90000}\n",
            "\n",
            "Id :  132785915828288\n",
            "\n",
            " {'Name': 'Chetan', 'Age': 20, 'City': 'Pune'}\n",
            "\n",
            " {'Name': 'Chetan', 'Age': 20, 'City': 'Pune', 'Country': 'India'}\n",
            "\n",
            " {'Name': 'Chetan', 'Age': 20, 'City': 'Pune', 'Country': 'US'}\n",
            "\n",
            " {'Name': 'Chetan', 'Age': 20, 'City': 'Pune', 'Country': 'US'}\n",
            "\n",
            " Name\n",
            "\n",
            " Age\n",
            "\n",
            " City\n",
            "\n",
            " Country\n"
          ]
        }
      ]
    },
    {
      "cell_type": "code",
      "source": [
        "# Dictionary method\n",
        "\n",
        "d = {\"a\":1, \"b\":2}\n",
        "d.keys()          # dict_keys(['a','b'])\n",
        "d.values()        # dict_values([1,2])\n",
        "d.items()         # dict_items([('a',1),('b',2)])\n",
        "d.get(\"a\")        # 1\n",
        "d.update({\"c\":3}) # {'a':1,'b':2,'c':3}\n",
        "d.pop(\"b\")        # remove key 'b'\n",
        "d.popitem()       # removes last inserted\n",
        "d.setdefault(\"x\",0) # adds key if missing\n",
        "d.clear()         # {}\n"
      ],
      "metadata": {
        "id": "nuzMsHZmwjWw"
      },
      "execution_count": null,
      "outputs": []
    },
    {
      "cell_type": "code",
      "source": [
        "# with output\n",
        "\n",
        "d = {\"a\": 1, \"b\": 2}\n",
        "print(\"Initial:\", d)\n",
        "\n",
        "print(\"Keys:\", d.keys())              # dict_keys(['a','b'])\n",
        "print(\"Values:\", d.values())          # dict_values([1,2])\n",
        "print(\"Items:\", d.items())            # dict_items([('a',1),('b',2)])\n",
        "\n",
        "print(\"Get 'a':\", d.get(\"a\"))         # 1\n",
        "\n",
        "d.update({\"c\": 3})\n",
        "print(\"After update({'c':3}):\", d)    # {'a':1,'b':2,'c':3}\n",
        "\n",
        "removed = d.pop(\"b\")\n",
        "print(\"After pop('b'):\", d, \"| Removed value:\", removed)  # remove key 'b'\n",
        "\n",
        "last_item = d.popitem()\n",
        "print(\"After popitem():\", d, \"| Removed item:\", last_item) # removes last inserted\n",
        "\n",
        "d.setdefault(\"x\", 0)\n",
        "print(\"After setdefault('x',0):\", d)   # adds 'x' if missing\n",
        "\n",
        "d.clear()\n",
        "print(\"After clear():\", d)             # {}\n"
      ],
      "metadata": {
        "colab": {
          "base_uri": "https://localhost:8080/"
        },
        "id": "j_xtBO_KwqWE",
        "outputId": "deee6a80-9f1b-4e02-d07e-5cedbdcb0862"
      },
      "execution_count": null,
      "outputs": [
        {
          "output_type": "stream",
          "name": "stdout",
          "text": [
            "Initial: {'a': 1, 'b': 2}\n",
            "Keys: dict_keys(['a', 'b'])\n",
            "Values: dict_values([1, 2])\n",
            "Items: dict_items([('a', 1), ('b', 2)])\n",
            "Get 'a': 1\n",
            "After update({'c':3}): {'a': 1, 'b': 2, 'c': 3}\n",
            "After pop('b'): {'a': 1, 'c': 3} | Removed value: 2\n",
            "After popitem(): {'a': 1} | Removed item: ('c', 3)\n",
            "After setdefault('x',0): {'a': 1, 'x': 0}\n",
            "After clear(): {}\n"
          ]
        }
      ]
    },
    {
      "cell_type": "code",
      "source": [
        "list1 = [34,53,29,19,49,348,359,29]\n",
        "print(\"List before Sort : \", list1)\n",
        "list1.sort()\n",
        "print(\"List after Sort : \", list1)\n",
        "\n",
        "list1.sort(reverse=True)\n",
        "print(\"List after Sort (descending): \", list1)\n",
        "\n",
        "\n",
        "list2 = [\"banana\", \"apple\", \"mango\", \"kiwi\", \"cherry\"]\n",
        "list2.sort(key=len)\n",
        "print(\"list2 with len as key\", list2)\n",
        "\n",
        "\n",
        "# list1.sort(key=len)\n",
        "print(\"list1 with len as key : \", list1)\n",
        "\n",
        "# key=abs  = absolute value  : it will sort values according to their absolute value\n",
        "\n",
        "list3 = [-5,-3,-2,7,-9,3,-1]\n",
        "list3.sort(key=abs)\n",
        "print(\"List 3 after sorting with key=abs: \\n\",list3)\n",
        "\n",
        "# key=str :  it will sort only the strings and will ignore the case of\n",
        "# the strings.\n",
        "names = [\"Mamta\", \"Chetan\", \"Chandresh\", \" Anand\", \"Kavya\",\"komal\", \"nitesh\", \"mohit\",\"naina\"]\n",
        "print(\"names before sorting : \", names)\n",
        "names.sort()\n",
        "print(\"names after sorting : \", names)\n",
        "names.sort(key=str.lower)\n",
        "# # str.upper\n",
        "print(\"names after sorting(key=str) : \", names)\n",
        "\n",
        "# key=lambda\n",
        "list2 = [\"banana\", \"apple\", \"mango\", \"kiwi\", \"cherry\", \"banama\", \"banaoa\"]\n",
        "# eg  lambda x : x[-1] : it will sort the list by checking the last character\n",
        "list2.sort(key=lambda x:x[-1])\n",
        "# x = banana  , x[-1]- a,  x=apple   x[-1]=e\n",
        "print(\"list 2 according to the last character :\\n \", list2)\n",
        "\n",
        "# lambda x: len(x)\n",
        "list2.sort(key=lambda x:len(x))\n",
        "print(\"list2 with length: \", list2)\n",
        "\n",
        "list1= [45,13,99,19,29,10,394,29,58,39]\n",
        "print(\"List 1 before Sorting : \", list1)\n",
        "ob1 = sorted(list1)\n",
        "print(\"List 1 after Sorting : \", list1)\n",
        "print(\"ob1 after Sorting : \", ob1)\n",
        "\n",
        "ob1.reverse()\n",
        "print(\"ob1 after reverse : \", ob1)\n",
        "\n",
        "ob2 = ob1.copy()\n",
        "print(\"ob2 : \", ob2)"
      ],
      "metadata": {
        "id": "zJtwigstEwkm",
        "colab": {
          "base_uri": "https://localhost:8080/"
        },
        "outputId": "bc088ce0-5483-4d40-b5a4-17cde64b4105"
      },
      "execution_count": null,
      "outputs": [
        {
          "output_type": "stream",
          "name": "stdout",
          "text": [
            "List before Sort :  [34, 53, 29, 19, 49, 348, 359, 29]\n",
            "List after Sort :  [19, 29, 29, 34, 49, 53, 348, 359]\n",
            "List after Sort (descending):  [359, 348, 53, 49, 34, 29, 29, 19]\n",
            "list2 with len as key ['kiwi', 'apple', 'mango', 'banana', 'cherry']\n",
            "list1 with len as key :  [359, 348, 53, 49, 34, 29, 29, 19]\n",
            "List 3 after sorting with key=abs: \n",
            " [-1, -2, -3, 3, -5, 7, -9]\n",
            "names before sorting :  ['Mamta', 'Chetan', 'Chandresh', ' Anand', 'Kavya', 'komal', 'nitesh', 'mohit', 'naina']\n",
            "names after sorting :  [' Anand', 'Chandresh', 'Chetan', 'Kavya', 'Mamta', 'komal', 'mohit', 'naina', 'nitesh']\n",
            "names after sorting(key=str) :  [' Anand', 'Chandresh', 'Chetan', 'Kavya', 'komal', 'Mamta', 'mohit', 'naina', 'nitesh']\n",
            "list 2 according to the last character :\n",
            "  ['banana', 'banama', 'banaoa', 'apple', 'kiwi', 'mango', 'cherry']\n",
            "list2 with length:  ['kiwi', 'apple', 'mango', 'banana', 'banama', 'banaoa', 'cherry']\n",
            "List 1 before Sorting :  [45, 13, 99, 19, 29, 10, 394, 29, 58, 39]\n",
            "List 1 after Sorting :  [45, 13, 99, 19, 29, 10, 394, 29, 58, 39]\n",
            "ob1 after Sorting :  [10, 13, 19, 29, 29, 39, 45, 58, 99, 394]\n",
            "ob1 after reverse :  [394, 99, 58, 45, 39, 29, 29, 19, 13, 10]\n",
            "ob2 :  [394, 99, 58, 45, 39, 29, 29, 19, 13, 10]\n"
          ]
        }
      ]
    },
    {
      "cell_type": "markdown",
      "source": [
        "\n",
        "# Dictionary Comprehensions\n",
        "\n",
        "* Create dictionary in one line.\n",
        "\n",
        "   Syntax:\n",
        "   \n",
        "      {key: value for item in iterable if condition}\n",
        "\n",
        "* Useful for transformations, filtering.\n"
      ],
      "metadata": {
        "id": "sQ3R5wBoJQUs"
      }
    },
    {
      "cell_type": "code",
      "source": [
        "# Even numbers ka square store karna\n",
        "even_squares = {x: x**2 for x in range(1, 11) if x % 2 == 0}\n",
        "print(even_squares)\n"
      ],
      "metadata": {
        "id": "ULXLjLhgw4vo",
        "colab": {
          "base_uri": "https://localhost:8080/"
        },
        "outputId": "a110cda9-22e7-444c-daf2-e493347b6cd9"
      },
      "execution_count": 2,
      "outputs": [
        {
          "output_type": "stream",
          "name": "stdout",
          "text": [
            "{2: 4, 4: 16, 6: 36, 8: 64, 10: 100}\n"
          ]
        }
      ]
    },
    {
      "cell_type": "markdown",
      "source": [
        "------\n",
        "# **TUPLE**\n",
        "\n",
        "* Heterogeneous:\n",
        "  * Can store multiple data types.\n",
        "\n",
        "* Contiguous:\n",
        "  * Elements are stored in contiguous memory.\n",
        "\n",
        "* Order:\n",
        "  * Maintains insertion order.\n",
        "\n",
        "* Immutable:\n",
        "  * Cannot change, add, or remove elements after creation.\n",
        "\n",
        "* Duplicates Allowed:\n",
        "  * Same value can appear multiple times.\n",
        "\n",
        "* Not Unique:\n",
        "  * Values don’t need to be unique.\n",
        "\n",
        "          Syntax: (item1, item2, ...)"
      ],
      "metadata": {
        "id": "humvCKypxpio"
      }
    },
    {
      "cell_type": "code",
      "execution_count": null,
      "metadata": {
        "colab": {
          "base_uri": "https://localhost:8080/"
        },
        "id": "9lrPoJp7xeOI",
        "outputId": "e11c704b-37e6-4f33-91db-2da5060a47ce"
      },
      "outputs": [
        {
          "output_type": "stream",
          "name": "stdout",
          "text": [
            "\n",
            "#============Tuple==================\n",
            "\n",
            "\n",
            "(1, 2, 3, 1)\n",
            "<class 'tuple'>\n",
            "\n",
            "(1, 1, 'Delhi', 2.4, [1, 2, 3])\n",
            "<class 'tuple'>\n",
            "\n",
            "\n",
            "\n",
            " tuple(1,2,3,8 )---> Give error because tuple is a method which accepts only one argument\n",
            "\n",
            " (1, 2, 3)\n"
          ]
        }
      ],
      "source": [
        "# we can define a list with tuple(1,2,3) constructor , and a=(12,5,4,7)\n",
        "\n",
        "\n",
        "\n",
        "print(\"\\n#============Tuple==================\\n\")\n",
        "\n",
        "t=(1,2,3,1)           # Tuple Type ()  it can store multiple types of data , allowed duplicate\n",
        "# t[1]=5              # tuple is immutable we can't change , it don't have any method like add() , append()\n",
        "\n",
        "print()\n",
        "print(t)\n",
        "print(type(t))\n",
        "\n",
        "\n",
        "\n",
        "y=(1,1,\"Delhi\",2.4,[1,2,3])\n",
        "print()\n",
        "print(y)\n",
        "print(type(y))\n",
        "\n",
        "\n",
        "\n",
        "print(\"\\n\\n\\n tuple(1,2,3,8 )---> Give error because tuple is a method which accepts only one argument\")\n",
        "\n",
        "\n",
        "t=tuple([1,2,3])                # create tuple using tuple() constructor\n",
        "print(\"\\n\",t)"
      ]
    },
    {
      "cell_type": "code",
      "source": [
        "t = (1,2,3,2)\n",
        "t.index(2)   # 1\n",
        "t.count(2)   # 2\n"
      ],
      "metadata": {
        "id": "CxrZ8ht3ztY8",
        "colab": {
          "base_uri": "https://localhost:8080/"
        },
        "outputId": "c1bc9377-ec61-48ff-ef31-d99f4d180f36"
      },
      "execution_count": null,
      "outputs": [
        {
          "output_type": "execute_result",
          "data": {
            "text/plain": [
              "2"
            ]
          },
          "metadata": {},
          "execution_count": 23
        }
      ]
    },
    {
      "cell_type": "markdown",
      "source": [
        "------\n",
        "# Sets\n",
        "\n",
        "* Heterogeneous:\n",
        "  * Stores multiple data types but as unique values.\n",
        "\n",
        "* Not Contiguous:\n",
        "  * Elements are not stored in contiguous memory.\n",
        "\n",
        "* Unordered:\n",
        "  * Does not maintain any order.\n",
        "\n",
        "* Mutable:\n",
        "  * You can add or remove elements, but values cannot be changed.\n",
        "\n",
        "* Duplicates\n",
        "  * Not Allowed: Only unique values are stored.\n",
        "\n",
        "* Unique Items:\n",
        "  * Ensures every element is distinct.\n",
        "\n",
        "      Syntax: {item1, item2, ...}\n",
        "\n",
        "* We can apply slicing in set\n"
      ],
      "metadata": {
        "id": "9AkVib35xVw1"
      }
    },
    {
      "cell_type": "code",
      "source": [
        "print(\"\\n ============ Set ================\\n\")\n",
        "\n",
        "\n",
        "# Set (Unordered, Mutable, No duplicates)\n",
        "s = {1, 2, 2, 3}              #  No error but it store only single element\n",
        "print(s)                      # {1, 2, 3}\n",
        "s.add(4)                      #  Works\n",
        "print(s)\n",
        "\n",
        "\n",
        "\n",
        "j={3,2,1,1}                  # unorder\n",
        "print(j)\n",
        "\n"
      ],
      "metadata": {
        "id": "WYh19XwO1Iz4",
        "colab": {
          "base_uri": "https://localhost:8080/"
        },
        "outputId": "a5d5d826-a0ba-420e-934d-827af98e9456"
      },
      "execution_count": null,
      "outputs": [
        {
          "output_type": "stream",
          "name": "stdout",
          "text": [
            "\n",
            " ============ Set ================\n",
            "\n",
            "{1, 2, 3}\n",
            "{1, 2, 3, 4}\n",
            "{1, 2, 3}\n"
          ]
        }
      ]
    },
    {
      "cell_type": "code",
      "source": [
        "s = {1,2,3}\n",
        "s.add(4)            # {1,2,3,4}\n",
        "s.update([5,6])     # {1,2,3,4,5,6}\n",
        "s.remove(2)         # KeyError if not exist\n",
        "s.discard(10)       # safe remove\n",
        "s.pop()             # remove random at star\n",
        "s.clear()           # empty set\n",
        "s.union({7,8})      # {1,2,3,4,5,6,7,8}\n",
        "s.intersection({1,2}) # {1,2}\n",
        "s.difference({2,3})   # {1}\n",
        "s.issubset({1,2,3,4}) # True\n",
        "s.issuperset({1,2})   # True\n"
      ],
      "metadata": {
        "id": "6_8jGoadzqhH",
        "colab": {
          "base_uri": "https://localhost:8080/"
        },
        "outputId": "d92f7352-123c-40f1-a478-99caf11fda0a"
      },
      "execution_count": null,
      "outputs": [
        {
          "output_type": "execute_result",
          "data": {
            "text/plain": [
              "False"
            ]
          },
          "metadata": {},
          "execution_count": 25
        }
      ]
    },
    {
      "cell_type": "markdown",
      "source": [
        "------\n",
        "# Frozensets\n",
        "\n",
        "* frozenset → Immutable set, elements can’t be added/removed.\n",
        "\n"
      ],
      "metadata": {
        "id": "F3lbWJLExWuA"
      }
    },
    {
      "cell_type": "code",
      "source": [
        "print(\"\\n ============ FrozenSet ================\\n\")\n",
        "\n",
        "\n",
        "# FrozenSet (Unordered, immutable, No duplicates)\n",
        "\n",
        "\n",
        "# Normal set (mutable)\n",
        "normal_set = {1, 2, 3}\n",
        "print(normal_set)                            # {1, 2, 3}\n",
        "normal_set.add(4)                            #  Works\n",
        "print(normal_set)                            # {1, 2, 3, 4}\n",
        "\n",
        "\n",
        "\n",
        "# Frozenset (immutable)\n",
        "f_set = frozenset([1, 2, 3, 3, 2])\n",
        "print(f_set)                                   # frozenset({1, 2, 3})\n",
        "\n",
        "# f_set.add(4)                                 # ❌ ERROR: 'frozenset' object has no attribute 'add'\n",
        "\n",
        "\n",
        "\n",
        "\n",
        "print()\n",
        "f_set = frozenset([3, 1, 2])\n",
        "print(f_set)                                       # frozenset({1, 2, 3}) → order may not match insertion\n",
        "\n",
        "\n",
        "\n",
        "\n"
      ],
      "metadata": {
        "id": "se4mzJ5q1Cuk",
        "colab": {
          "base_uri": "https://localhost:8080/"
        },
        "outputId": "3ea88caf-c9e7-42f9-fa80-c0ad1348018f"
      },
      "execution_count": null,
      "outputs": [
        {
          "output_type": "stream",
          "name": "stdout",
          "text": [
            "\n",
            " ============ FrozenSet ================\n",
            "\n",
            "{1, 2, 3}\n",
            "{1, 2, 3, 4}\n",
            "frozenset({1, 2, 3})\n",
            "\n",
            "frozenset({1, 2, 3})\n"
          ]
        }
      ]
    },
    {
      "cell_type": "markdown",
      "source": [
        "# **OPERATION ON DATASTRUCTURE**\n",
        "\n",
        "---\n",
        "# append(item):\n",
        "  * append() is a built-in list method.\n",
        "  * It adds a single element to the end of the list.\n",
        "  * The list grows dynamically when you append\n",
        "  * **Argument**\n",
        "      * item → the element you want to add.\n",
        "      * Only one argument is allowed at a time.\n",
        "      * Can be of any data type:\n",
        "        int, float, string, list, tuple, dict, object, etc\n",
        "\n"
      ],
      "metadata": {
        "id": "fYlGrogF0r_M"
      }
    },
    {
      "cell_type": "code",
      "source": [
        "lst = [1, 2, 3]\n",
        "lst.append(4)\n",
        "print(lst)  # [1, 2, 3, 4]\n"
      ],
      "metadata": {
        "id": "6C-rEp7RgLhj",
        "colab": {
          "base_uri": "https://localhost:8080/"
        },
        "outputId": "180ab20b-e1c3-460f-ee13-92b20c346b1e"
      },
      "execution_count": null,
      "outputs": [
        {
          "output_type": "stream",
          "name": "stdout",
          "text": [
            "[1, 2, 3, 4]\n"
          ]
        }
      ]
    },
    {
      "cell_type": "markdown",
      "source": [
        "\n",
        " ---    \n",
        "# insert(index, item):\n",
        "  * insert() is a built-in list method.\n",
        "  * It inserts a single element at a specified position (index) in the list.\n",
        "  * The list shifts existing elements to the right to make space.\n",
        "  * **Arguments**\n",
        "       * index → position where the element should be inserted.\n",
        "      \n",
        "         (0 means beginning, -1 means before last element).\n",
        "       * item → the element you want to add.\n",
        "       * Only one element can be inserted at a time.\n",
        "       * Can be of any data type:\n",
        "         int, float, string, list, tuple, dict, object, etc.\n"
      ],
      "metadata": {
        "id": "z9-RyqAxgMKj"
      }
    },
    {
      "cell_type": "code",
      "source": [
        "lst = [1, 2, 3]\n",
        "lst.insert(1, 10)\n",
        "print(lst)  # [1, 10, 2, 3]\n"
      ],
      "metadata": {
        "id": "aLa1GgtzgOeV",
        "colab": {
          "base_uri": "https://localhost:8080/"
        },
        "outputId": "e20a9c52-9bca-4b1a-8311-cdee9deac5aa"
      },
      "execution_count": null,
      "outputs": [
        {
          "output_type": "stream",
          "name": "stdout",
          "text": [
            "[1, 10, 2, 3]\n"
          ]
        }
      ]
    },
    {
      "cell_type": "markdown",
      "source": [
        "\n",
        "---\n",
        "# **extend(iterable)**\n",
        "\n",
        "   * extend() is a built-in list method.\n",
        "   * It adds each element from the given iterable (like list, tuple, set, string)\n",
        "     individually to the end of the list.\n",
        "   * The list grows dynamically when you extend.\n",
        "   * **Argument**\n",
        "        * iterable → an iterable whose elements will be added one by one.\n",
        "        * Common iterables: list, tuple, set, string, dictionary (keys only).\n",
        "\n"
      ],
      "metadata": {
        "id": "QkwEZDMCgO0b"
      }
    },
    {
      "cell_type": "code",
      "source": [
        "lst = [1, 2, 3]\n",
        "lst.extend([4, 5])\n",
        "print(lst)  # [1, 2, 3, 4, 5]\n"
      ],
      "metadata": {
        "id": "bD70rsQZgRxk",
        "colab": {
          "base_uri": "https://localhost:8080/"
        },
        "outputId": "4f91326c-6e00-467d-ce17-c95ee0098d93"
      },
      "execution_count": null,
      "outputs": [
        {
          "output_type": "stream",
          "name": "stdout",
          "text": [
            "[1, 2, 3, 4, 5]\n"
          ]
        }
      ]
    },
    {
      "cell_type": "markdown",
      "source": [
        "\n",
        "---\n",
        "# remove(item):\n",
        "   * remove() is a built-in list method.\n",
        "   * It removes the **first occurrence** of the specified item from the list.\n",
        "   * If the item is not found, it raises a **ValueError**.\n",
        "   * **Argument**\n",
        "        * item → the element you want to remove.\n",
        "        * Only one argument is allowed.\n",
        "        * Can be of any data type:\n",
        "          int, float, string, list, tuple, dict, object, etc.\n",
        "\n"
      ],
      "metadata": {
        "id": "RVT0dWCegSGu"
      }
    },
    {
      "cell_type": "code",
      "source": [
        "lst = [1, 2, 3, 2]\n",
        "lst.remove(2)\n",
        "print(lst)  # [1, 3, 2]  # first 2 removed\n"
      ],
      "metadata": {
        "id": "w1DU2k82gUcC",
        "colab": {
          "base_uri": "https://localhost:8080/"
        },
        "outputId": "b5fc0c95-fd01-40a7-835a-efdc5627e369"
      },
      "execution_count": null,
      "outputs": [
        {
          "output_type": "stream",
          "name": "stdout",
          "text": [
            "[1, 3, 2]\n"
          ]
        }
      ]
    },
    {
      "cell_type": "markdown",
      "source": [
        "---\n",
        "# pop(index , dealut=None):\n",
        "   * pop() is a built-in list method.\n",
        "   * It removes and **returns the item** at the specified index.\n",
        "   * If no index is provided, it removes and returns the **last item**.\n",
        "   * If the key is not found, it returns the default value\n",
        "    \n",
        "     (or raises a KeyError if not specified).\n",
        "   * **Argument**\n",
        "        * index (optional) → position of the element to remove.\n",
        "          * Default: -1 (last element)\n",
        "        * Must be an integer.\n",
        "\n"
      ],
      "metadata": {
        "id": "8O-lLBKZgUuy"
      }
    },
    {
      "cell_type": "code",
      "source": [
        "lst = [1, 2, 3]\n",
        "item = lst.pop(1)\n",
        "print(item)  # 2\n",
        "print(lst)   # [1, 3]\n"
      ],
      "metadata": {
        "id": "fGxYznyvgXBP",
        "colab": {
          "base_uri": "https://localhost:8080/"
        },
        "outputId": "5e745013-7986-465a-e22b-5d7aaba64c33"
      },
      "execution_count": null,
      "outputs": [
        {
          "output_type": "stream",
          "name": "stdout",
          "text": [
            "2\n",
            "[1, 3]\n"
          ]
        }
      ]
    },
    {
      "cell_type": "markdown",
      "source": [
        "---\n",
        "# sort(key=None, reverse=False):\n",
        "   * sort() is a built-in list method.\n",
        "   * It sorts the elements of the list in **ascending order** by default.\n",
        "   * The list is **modified in place** (does not return a new list).\n",
        "   * **Arguments**\n",
        "        * key (optional) → a function that serves as a key for sorting.\n",
        "          \n",
        "          Example: key = len, key = lambda x: x[1], etc.\n",
        "        * reverse (optional) → Boolean, if True sorts in descending order.\n",
        "          Default: False.\n"
      ],
      "metadata": {
        "id": "PUxEiK_5gXSq"
      }
    },
    {
      "cell_type": "code",
      "source": [
        "lst = [3, 1, 2]\n",
        "lst.sort()\n",
        "print(lst)  # [1, 2, 3]\n",
        "\n",
        "lst.sort(reverse=True)\n",
        "print(lst)  # [3, 2, 1]\n"
      ],
      "metadata": {
        "id": "AXj9K93GgZSM",
        "colab": {
          "base_uri": "https://localhost:8080/"
        },
        "outputId": "33850910-a420-4534-86b5-6b6130501cda"
      },
      "execution_count": null,
      "outputs": [
        {
          "output_type": "stream",
          "name": "stdout",
          "text": [
            "[1, 2, 3]\n",
            "[3, 2, 1]\n"
          ]
        }
      ]
    },
    {
      "cell_type": "markdown",
      "source": [
        "\n",
        "---\n",
        "# reverse():\n",
        "   * reverse() is a built-in list method.\n",
        "   * It **reverses the order** of the elements in the list.\n",
        "   * The list is **modified in place** (does not return a new list).\n",
        "   * **Arguments**\n",
        "        * None → takes no arguments.\n"
      ],
      "metadata": {
        "id": "m0ZPV1aQgZj8"
      }
    },
    {
      "cell_type": "code",
      "source": [
        "lst = [1, 2, 3]\n",
        "lst.reverse()\n",
        "print(lst)  # [3, 2, 1]\n"
      ],
      "metadata": {
        "id": "R0_cydVGgbb8",
        "colab": {
          "base_uri": "https://localhost:8080/"
        },
        "outputId": "acc8b35e-8013-416f-e64f-26316e2a5832"
      },
      "execution_count": null,
      "outputs": [
        {
          "output_type": "stream",
          "name": "stdout",
          "text": [
            "[3, 2, 1]\n"
          ]
        }
      ]
    },
    {
      "cell_type": "markdown",
      "source": [
        "---\n",
        "\n",
        "# count(item):\n",
        "   * count() is a built-in list method.\n",
        "   * Returns the number of times the specified item appears in the list.\n",
        "   * **Argument**\n",
        "        * item → the element whose occurrences are to be counted.\n",
        "        * Only one argument is allowed.\n",
        "        * Can be of any data type: int, float, string, list, tuple, dict, object, etc.\n",
        "\n"
      ],
      "metadata": {
        "id": "raJn0u-1gbuF"
      }
    },
    {
      "cell_type": "code",
      "source": [
        "lst = [1, 2, 2,2, 3]\n",
        "print(lst.count(2))  # 3\n"
      ],
      "metadata": {
        "colab": {
          "base_uri": "https://localhost:8080/"
        },
        "id": "sDonM0tHoBLB",
        "outputId": "9b6db178-e13b-4f7c-9b1f-eb8d9c8006b2"
      },
      "execution_count": null,
      "outputs": [
        {
          "output_type": "stream",
          "name": "stdout",
          "text": [
            "3\n"
          ]
        }
      ]
    },
    {
      "cell_type": "markdown",
      "source": [
        "---\n",
        "# index(item, start=0, end=len(list)):\n",
        "   * index() is a built-in list method.\n",
        "   * Returns the **index of the first occurrence** of the specified item in the list.\n",
        "   * **Arguments**\n",
        "        * item → the element whose index is to be found.\n",
        "        * start (optional) → starting index to search. Default: 0.\n",
        "        * end (optional) → ending index to search. Default: len(list).\n",
        "   * Raises **ValueError** if item is not found.\n"
      ],
      "metadata": {
        "id": "aET6zvAvoBfz"
      }
    },
    {
      "cell_type": "code",
      "source": [
        "lst = [1, 2, 3, 2]\n",
        "print(lst.index(2))      # 1\n",
        "print(lst.index(2, 2))   # 3\n"
      ],
      "metadata": {
        "colab": {
          "base_uri": "https://localhost:8080/"
        },
        "id": "6R9vtkvgoFkd",
        "outputId": "7e7bfce3-8efa-4056-d948-3b337f3da91e"
      },
      "execution_count": null,
      "outputs": [
        {
          "output_type": "stream",
          "name": "stdout",
          "text": [
            "1\n",
            "3\n"
          ]
        }
      ]
    },
    {
      "cell_type": "markdown",
      "source": [
        "\n",
        "\n",
        "---\n",
        "\n",
        "# copy():\n",
        "   * copy() is a built-in list method.\n",
        "   * Creates a **shallow copy** of the list.\n",
        "   * The original list is **not affected**.\n",
        "   * **Arguments**\n",
        "        * None → takes no arguments.\n"
      ],
      "metadata": {
        "id": "31Ke4DzcoF1I"
      }
    },
    {
      "cell_type": "code",
      "source": [
        "lst = [1, 2, 3]\n",
        "new_lst = lst.copy()\n",
        "print(new_lst)  # [1, 2, 3]\n"
      ],
      "metadata": {
        "colab": {
          "base_uri": "https://localhost:8080/"
        },
        "id": "wFjN9YJ6oUkS",
        "outputId": "ad888cc4-c04f-4fae-e4a2-88d7e47efef9"
      },
      "execution_count": null,
      "outputs": [
        {
          "output_type": "stream",
          "name": "stdout",
          "text": [
            "[1, 2, 3]\n"
          ]
        }
      ]
    },
    {
      "cell_type": "markdown",
      "source": [
        "---\n",
        "# clear():\n",
        "   * clear() is a built-in list method.\n",
        "   * Removes **all elements** from the list, leaving it empty.\n",
        "   * Modifies the list in place.\n",
        "   * **Arguments**\n",
        "        * None → takes no arguments.\n",
        "\n",
        "\n"
      ],
      "metadata": {
        "id": "WL1eE9SZoU9T"
      }
    },
    {
      "cell_type": "code",
      "source": [
        "lst = [1, 2, 3]\n",
        "lst.clear()\n",
        "print(lst)  # []\n"
      ],
      "metadata": {
        "colab": {
          "base_uri": "https://localhost:8080/"
        },
        "id": "qeOftg7vokMx",
        "outputId": "fa024d84-d6d3-422c-e73d-02d82264cda4"
      },
      "execution_count": null,
      "outputs": [
        {
          "output_type": "stream",
          "name": "stdout",
          "text": [
            "[]\n"
          ]
        }
      ]
    },
    {
      "cell_type": "markdown",
      "source": [
        "---\n",
        "\n",
        "# join(iterable):\n",
        "   * join() is a **string method**, not a list method.\n",
        "   * It joins elements of a list (or any iterable of strings) into a **single string** using the string as a separator.\n",
        "   * **Argument**\n",
        "        * iterable → an iterable containing **only string elements** (list, tuple, etc.).\n",
        "        * If any element is not a string, it raises a **TypeError**.\n",
        "   * Returns a **new string**. The original list is not modified.\n"
      ],
      "metadata": {
        "id": "l7fZt7V8okeY"
      }
    },
    {
      "cell_type": "code",
      "source": [
        "lst = ['a', 'b', 'c']\n",
        "result = '-'.join(lst)\n",
        "print(result)  # \"a-b-c\"\n"
      ],
      "metadata": {
        "colab": {
          "base_uri": "https://localhost:8080/"
        },
        "id": "TcIgH2YAooXK",
        "outputId": "302c9c6f-53d6-4de1-de5b-85552f4be071"
      },
      "execution_count": null,
      "outputs": [
        {
          "output_type": "stream",
          "name": "stdout",
          "text": [
            "a-b-c\n"
          ]
        }
      ]
    },
    {
      "cell_type": "markdown",
      "source": [
        "\n",
        "----\n",
        "# **get(key, default=None):**\n",
        "   * get() is a built-in dictionary method.\n",
        "   * Returns the value associated with the specified key.\n",
        "   * If the key is not found, it returns the **default value** (None if not specified).\n",
        "   * **Arguments:**\n",
        "        * key → the key whose value you want to retrieve.\n",
        "        * default (optional) → value to return if the key is not found.\n",
        "   * **Example:**\n",
        "            \n",
        "         python\n",
        "         my_dict = {\"a\": 1, \"b\": 2}\n",
        "         print(my_dict.get(\"a\"))          # 1\n",
        "         print(my_dict.get(\"c\", 0))       # 0\n"
      ],
      "metadata": {
        "id": "CdCWvo_3ooop"
      }
    },
    {
      "cell_type": "code",
      "source": [
        "my_dict = {\"a\": 1, \"b\": 2}\n",
        "print(my_dict.get(\"a\"))       # 1\n",
        "print(my_dict.get(\"c\", 0))    # 0\n"
      ],
      "metadata": {
        "colab": {
          "base_uri": "https://localhost:8080/"
        },
        "id": "IFjWnBarosuT",
        "outputId": "2cddc295-8a47-4c0f-89da-9ed2f63edd17"
      },
      "execution_count": null,
      "outputs": [
        {
          "output_type": "stream",
          "name": "stdout",
          "text": [
            "1\n",
            "0\n"
          ]
        }
      ]
    },
    {
      "cell_type": "markdown",
      "source": [
        "\n",
        "-------\n",
        "\n",
        "# **items():**\n",
        "   * items() is a built-in dictionary method.\n",
        "   * Returns a **view object** of the dictionary’s (key, value) pairs.\n",
        "   * Can be converted to a list using `list(dict.items())`.\n",
        "   * **Arguments:**\n",
        "        * None → takes no arguments.\n",
        "   * **Example:**\n",
        "          \n",
        "          python\n",
        "          my_dict = {\"a\": 1, \"b\": 2}\n",
        "          print(list(my_dict.items()))     # [('a', 1), ('b', 2)]\n",
        "\n"
      ],
      "metadata": {
        "id": "tMnXtQAkos_z"
      }
    },
    {
      "cell_type": "code",
      "source": [
        "my_dict = {\"a\": 1, \"b\": 2}\n",
        "print(list(my_dict.items()))  # [('a', 1), ('b', 2)]\n"
      ],
      "metadata": {
        "colab": {
          "base_uri": "https://localhost:8080/"
        },
        "id": "gs-ECw-ZoyJr",
        "outputId": "b4318c0d-6cc5-4b09-ff5b-56b68378fad7"
      },
      "execution_count": null,
      "outputs": [
        {
          "output_type": "stream",
          "name": "stdout",
          "text": [
            "[('a', 1), ('b', 2)]\n"
          ]
        }
      ]
    },
    {
      "cell_type": "markdown",
      "source": [
        "\n",
        "------\n",
        "# **keys():**\n",
        "   * keys() is a built-in dictionary method.\n",
        "   * Returns a **view object** of all the keys in the dictionary.\n",
        "   * Can be converted to a list using `list(dict.keys())`.\n",
        "   * **Arguments:**\n",
        "        * None → takes no arguments.\n",
        "   \n"
      ],
      "metadata": {
        "id": "z9IKMoHioteA"
      }
    },
    {
      "cell_type": "code",
      "source": [
        "my_dict = {\"a\": 1, \"b\": 2}\n",
        "print(list(my_dict.keys()))   # ['a', 'b']\n"
      ],
      "metadata": {
        "colab": {
          "base_uri": "https://localhost:8080/"
        },
        "id": "ohmfBBPqo40e",
        "outputId": "30795154-f631-4975-bfbd-8124d52377b0"
      },
      "execution_count": null,
      "outputs": [
        {
          "output_type": "stream",
          "name": "stdout",
          "text": [
            "['a', 'b']\n"
          ]
        }
      ]
    },
    {
      "cell_type": "markdown",
      "source": [
        "\n",
        "------\n",
        "\n",
        "# **values()**\n",
        "\n",
        "  * values() is a built-in dictionary method.\n",
        "\n",
        "  * It returns a view object of all the values in the dictionary.\n",
        "\n",
        "  * The view object can be converted to a list using list(dict.values()).\n",
        "\n",
        "  * **Arguments**\n",
        "\n",
        "      * None → takes no arguments.\n",
        "\n"
      ],
      "metadata": {
        "id": "aid6hqBvopGU"
      }
    },
    {
      "cell_type": "code",
      "source": [
        "my_dict = {\"a\": 1, \"b\": 2}\n",
        "print(list(my_dict.values()))  # [1, 2]\n"
      ],
      "metadata": {
        "colab": {
          "base_uri": "https://localhost:8080/"
        },
        "id": "TAcpNbOZo_EM",
        "outputId": "9e381a84-06f5-4bdd-b9f7-e9d5d94082ef"
      },
      "execution_count": null,
      "outputs": [
        {
          "output_type": "stream",
          "name": "stdout",
          "text": [
            "[1, 2]\n"
          ]
        }
      ]
    },
    {
      "cell_type": "markdown",
      "source": [
        "-------\n",
        "\n",
        "# **update(other_dict / iterable)**\n",
        "\n",
        "  * update() is a built-in dictionary method.\n",
        "\n",
        "  * It updates the dictionary with key-value pairs from another dictionary or iterable of pairs.\n",
        "\n",
        "  * Existing keys are overwritten, new keys are added.\n",
        "\n",
        "  * **Arguments**\n",
        "\n",
        "      * other_dict → dictionary or iterable of key-value pairs to update.\n",
        "\n",
        "      * Can be any dictionary or iterable like list of tuples, etc.\n",
        "\n"
      ],
      "metadata": {
        "id": "PsNACQNwolRq"
      }
    },
    {
      "cell_type": "code",
      "source": [
        "my_dict = {\"a\": 1, \"b\": 2}\n",
        "my_dict.update({\"b\": 3, \"c\": 4})\n",
        "print(my_dict)  # {'a': 1, 'b': 3, 'c': 4}\n"
      ],
      "metadata": {
        "colab": {
          "base_uri": "https://localhost:8080/"
        },
        "id": "PZvuluJGpDda",
        "outputId": "92b11536-6177-47c0-cd75-1cc54e506bc3"
      },
      "execution_count": null,
      "outputs": [
        {
          "output_type": "stream",
          "name": "stdout",
          "text": [
            "{'a': 1, 'b': 3, 'c': 4}\n"
          ]
        }
      ]
    },
    {
      "cell_type": "markdown",
      "source": [
        "\n",
        "-----\n",
        "# **fromkeys(iterable, value=None)**\n",
        "\n",
        "  * fromkeys() is a built-in dictionary class method.\n",
        "\n",
        "  * It creates a new dictionary with keys from the given iterable and assigns them all the same value.\n",
        "\n",
        "  * **Arguments**\n",
        "\n",
        "      * iterable → an iterable containing keys.\n",
        "\n",
        "      * value (optional) → value to assign to each key (default: None).\n",
        "\n",
        "      * Returns a new dictionary."
      ],
      "metadata": {
        "id": "JHCi7DSfpDw2"
      }
    },
    {
      "cell_type": "code",
      "source": [
        "keys = ['a', 'b', 'c']\n",
        "new_dict = dict.fromkeys(keys, 0)\n",
        "print(new_dict)  # {'a': 0, 'b': 0, 'c': 0}\n"
      ],
      "metadata": {
        "colab": {
          "base_uri": "https://localhost:8080/"
        },
        "id": "xMZc2-q6pEsE",
        "outputId": "e0e4225e-3e55-4851-eae1-23caa26d6897"
      },
      "execution_count": null,
      "outputs": [
        {
          "output_type": "stream",
          "name": "stdout",
          "text": [
            "{'a': 0, 'b': 0, 'c': 0}\n"
          ]
        }
      ]
    },
    {
      "cell_type": "markdown",
      "source": [
        "\n",
        "-------\n",
        "\n",
        "\n",
        "# isinstance() :  \n",
        "   * it is used to check whether the given object is an instance of a particular class or not.\n",
        "\n",
        "   * Python uses this method to check whether the given object is part of the given class or not.\n",
        "\n",
        "      Syntax :     \n",
        "              \n",
        "         isinstance(object, classinfo)\n",
        "   * object :  the variable or the reference variable\n",
        "   * classinfo:  the type of class you want to check against(like int, float, str, tuple etc.)\n",
        "\n",
        "\n"
      ],
      "metadata": {
        "id": "eSLJ4ce9ybeG"
      }
    },
    {
      "cell_type": "code",
      "source": [
        "x = 10\n",
        "print(isinstance(x, int))   # True\n",
        "print(isinstance(x, float)) # False\n",
        "\n",
        "y = [1, 2, 3]\n",
        "print(isinstance(y, list))  # True\n",
        "print(isinstance(y, tuple)) # False\n"
      ],
      "metadata": {
        "colab": {
          "base_uri": "https://localhost:8080/"
        },
        "id": "hrjxizFopRjG",
        "outputId": "96a46351-45b9-4d98-f32a-2d4ba46d0c04"
      },
      "execution_count": null,
      "outputs": [
        {
          "output_type": "stream",
          "name": "stdout",
          "text": [
            "True\n",
            "False\n",
            "True\n",
            "False\n"
          ]
        }
      ]
    },
    {
      "cell_type": "markdown",
      "source": [
        "\n",
        "---\n",
        "# eval() :\n",
        "   \n",
        "   * eval() evaluates a string as a Python expression.\n",
        "\n",
        "   * When we take input from a user using input(), it is always a string.\n",
        "\n",
        "   * We can use eval() to convert that string into its corresponding Python object like int, float, list, tuple, etc.\n",
        "   * Converts a **string into its corresponding Python literal**.\n",
        "   \n",
        "\n",
        "      Syntax:\n",
        "                    \n",
        "          eval(expression, globals=None, locals=None)\n",
        "\n",
        "   * **Arguments**:\n",
        "      * expression →  A string containing a valid Python expression, must required.\n",
        "      * globals →  A dictionary to specify global variables for evaluation.\n",
        "      * locals →   A dictionary to specify local variables for evaluation.\n",
        "   * Returns the evaluated Python object.\n",
        "\n"
      ],
      "metadata": {
        "id": "T2VelbP_pRy9"
      }
    },
    {
      "cell_type": "code",
      "source": [
        "x = \"3 + 5\"\n",
        "print(eval(x))  # 8\n",
        "\n",
        "y = \"[1, 2, 3]\"\n",
        "print(eval(y))  # [1, 2, 3]\n",
        "\n",
        "z = \"2.5 * 2\"\n",
        "print(eval(z))  # 5.0\n"
      ],
      "metadata": {
        "colab": {
          "base_uri": "https://localhost:8080/"
        },
        "id": "eR9Zw-7cpU13",
        "outputId": "813d7fb1-ec73-4032-b940-5d0dfbd0db41"
      },
      "execution_count": null,
      "outputs": [
        {
          "output_type": "stream",
          "name": "stdout",
          "text": [
            "8\n",
            "[1, 2, 3]\n",
            "5.0\n"
          ]
        }
      ]
    },
    {
      "cell_type": "markdown",
      "source": [
        "---\n",
        "# Enumerate() :\n",
        "  * it is used to traverse a list of elements. It provides the given elements in an iterable.\n",
        "  * Basically it returns two values when used, first is index of the  current element and second is the current element.\n",
        "\n",
        "       Syntax:\n",
        "                 \n",
        "            enumerate(iterable, start=0)\n",
        "  * iterable means any iterable object like list, tuple,string etc.\n",
        "  * start is the default index from which it starts traversing.\n"
      ],
      "metadata": {
        "id": "1DO7pcD5pVNk"
      }
    },
    {
      "cell_type": "code",
      "source": [
        "lst = ['a', 'b', 'c']\n",
        "for index, value in enumerate(lst):\n",
        "    print(index, value)\n",
        "\n",
        "\n",
        "# Custom start index\n",
        "for index, value in enumerate(lst, start=1):\n",
        "    print(index, value)\n",
        "\n"
      ],
      "metadata": {
        "colab": {
          "base_uri": "https://localhost:8080/"
        },
        "id": "heryZkyzpWfJ",
        "outputId": "1f6df648-0cc2-4da7-f2ef-91cab5213b33"
      },
      "execution_count": null,
      "outputs": [
        {
          "output_type": "stream",
          "name": "stdout",
          "text": [
            "0 a\n",
            "1 b\n",
            "2 c\n",
            "1 a\n",
            "2 b\n",
            "3 c\n"
          ]
        }
      ]
    },
    {
      "cell_type": "code",
      "source": [
        "# Take input from user\n",
        "l=[1,2,2.5,\"ram\"]\n",
        "user_input = input(\"Enter a number: \")  # e.g., user enters 10\n",
        "\n",
        "# Convert input to its literal using eval\n",
        "value = eval(user_input)\n",
        "\n",
        "print(\"Value:\", value)\n",
        "print(\"Type:\", type(value))\n"
      ],
      "metadata": {
        "colab": {
          "base_uri": "https://localhost:8080/"
        },
        "id": "LcPPhI3-Px8J",
        "outputId": "4b4bb811-e1c1-4f6c-e7b9-b06f3c88c4a5"
      },
      "execution_count": null,
      "outputs": [
        {
          "output_type": "stream",
          "name": "stdout",
          "text": [
            "Enter a number: 15\n",
            "Value: 15\n",
            "Type: <class 'int'>\n"
          ]
        }
      ]
    },
    {
      "cell_type": "code",
      "source": [
        "l=[1,2,4,5,1.2,\"Hello\"]\n",
        "\n",
        "l.insert( 3,\"World\")\n",
        "print(l)"
      ],
      "metadata": {
        "colab": {
          "base_uri": "https://localhost:8080/"
        },
        "id": "Ej12OZusH5fv",
        "outputId": "eb4db726-d183-470c-8b77-7f50719a6e93"
      },
      "execution_count": null,
      "outputs": [
        {
          "output_type": "stream",
          "name": "stdout",
          "text": [
            "[1, 2, 4, 'World', 5, 1.2, 'Hello']\n"
          ]
        }
      ]
    },
    {
      "cell_type": "markdown",
      "source": [
        "------\n",
        "\n",
        "# Extra Knowledge\n",
        "\n",
        "# Which one is best Dictionary or Comprehensive dictionary and why ?"
      ],
      "metadata": {
        "id": "QSqSiwwR7T_e"
      }
    },
    {
      "cell_type": "markdown",
      "source": [
        " **Normal Dictionary (with loop)**\n",
        "\n",
        "    d = {}\n",
        "    for x in range(5):\n",
        "    d[x] = x * x\n",
        "\n",
        "    # internally __setitem__  special method automatically call"
      ],
      "metadata": {
        "id": "zSXVIGzn8GSf"
      }
    },
    {
      "cell_type": "markdown",
      "source": [
        "👉 What happens internally:\n",
        "\n",
        "* __setitem__(self, key, value) is called each time you write d[x] = x*x.\n",
        "\n",
        "    * That means:  d.__setitem__(x, x*x) is executed.    \n",
        "    \n",
        "    * internally __setitem__  special method automatically call\n",
        "\n",
        "    * Every loop iteration has a function call overhead.\n",
        "\n",
        "* If the key already exists → Python may use __delitem__ first before overwriting.\n",
        "\n",
        "* The loop itself requires bytecode jumps + function calls every iteration."
      ],
      "metadata": {
        "id": "OPK2J9PW7wzA"
      }
    },
    {
      "cell_type": "markdown",
      "source": [
        "**Dictionary Comprehension**\n",
        "    \n",
        "    d = {x: x*x for x in range(5)}\n"
      ],
      "metadata": {
        "id": "DLZmSDl88RbR"
      }
    },
    {
      "cell_type": "markdown",
      "source": [
        "👉 What happens internally:\n",
        "\n",
        "* A dictionary comprehension runs in optimized C-level code.\n",
        "\n",
        "* It builds the dictionary in one pass, directly creating key–value pairs.\n",
        "\n",
        "* There is no repeated __setitem__ function call overhead.\n",
        "\n",
        "* Fewer bytecode instructions are executed compared to the loop."
      ],
      "metadata": {
        "id": "8J4LSQfi8X6u"
      }
    },
    {
      "cell_type": "code",
      "source": [
        "s=[1,2,5,4]\n",
        "s.pop(2)\n",
        "print(s)"
      ],
      "metadata": {
        "id": "cOspr1Q38fHq",
        "outputId": "e2a6ba36-8014-44e7-8abc-3ef9051b5c69",
        "colab": {
          "base_uri": "https://localhost:8080/"
        }
      },
      "execution_count": null,
      "outputs": [
        {
          "output_type": "stream",
          "name": "stdout",
          "text": [
            "[1, 2, 4]\n"
          ]
        }
      ]
    },
    {
      "cell_type": "code",
      "source": [
        "# Proof that set.pop() is random (order not guaranteed)\n",
        "\n",
        "for run in range(5):\n",
        "    s = {10, 20, 30, 40, 50}\n",
        "    popped = []\n",
        "    while s:\n",
        "        popped.append(s.pop())\n",
        "    print(f\"Run {run+1}: {popped}\")\n"
      ],
      "metadata": {
        "id": "TvEbhzLf58YP",
        "colab": {
          "base_uri": "https://localhost:8080/"
        },
        "outputId": "a2858dcc-7ac8-4e68-f8cb-5508a03893a6"
      },
      "execution_count": null,
      "outputs": [
        {
          "output_type": "stream",
          "name": "stdout",
          "text": [
            "Run 1: [50, 20, 40, 10, 30]\n",
            "Run 2: [50, 20, 40, 10, 30]\n",
            "Run 3: [50, 20, 40, 10, 30]\n",
            "Run 4: [50, 20, 40, 10, 30]\n",
            "Run 5: [50, 20, 40, 10, 30]\n"
          ]
        }
      ]
    },
    {
      "cell_type": "code",
      "source": [
        "s = {10, 20, 30, 40, 50}\n",
        "popped = []\n",
        "while s:\n",
        "    popped.append(s.pop())\n",
        "print(popped)\n"
      ],
      "metadata": {
        "colab": {
          "base_uri": "https://localhost:8080/"
        },
        "id": "30SODzIDafJk",
        "outputId": "313122e8-cdb5-40d8-e5bd-c77c82ab2251"
      },
      "execution_count": null,
      "outputs": [
        {
          "output_type": "stream",
          "name": "stdout",
          "text": [
            "[50, 20, 40, 10, 30]\n"
          ]
        }
      ]
    }
  ]
}