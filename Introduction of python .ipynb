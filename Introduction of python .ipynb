{
  "nbformat": 4,
  "nbformat_minor": 0,
  "metadata": {
    "colab": {
      "provenance": [],
      "authorship_tag": "ABX9TyOsQFguFqz7z6i9m5lxTfkv",
      "include_colab_link": true
    },
    "kernelspec": {
      "name": "python3",
      "display_name": "Python 3"
    },
    "language_info": {
      "name": "python"
    }
  },
  "cells": [
    {
      "cell_type": "markdown",
      "metadata": {
        "id": "view-in-github",
        "colab_type": "text"
      },
      "source": [
        "<a href=\"https://colab.research.google.com/github/KASHYAPCHETAN438/Core-Python/blob/main/Introduction%20of%20python%20.ipynb\" target=\"_parent\"><img src=\"https://colab.research.google.com/assets/colab-badge.svg\" alt=\"Open In Colab\"/></a>"
      ]
    },
    {
      "cell_type": "markdown",
      "source": [
        "**INTRODUCTION OF PYTHON**\n",
        "\n",
        "\n",
        "\n",
        "1.   Variable\n",
        "2.   Data type\n",
        "3.   Operator\n",
        "4.   Conditional Statement\n",
        "\n",
        "\n"
      ],
      "metadata": {
        "id": "7NhA5MhQr-Lc"
      }
    },
    {
      "cell_type": "markdown",
      "source": [
        "======Variable=======\n",
        "\n",
        "It like a container or a label for data.\n",
        "which refer the chunks of memory block\n",
        "\n",
        "In python variable is dyamically type so we don't need Specifie it's type"
      ],
      "metadata": {
        "id": "JpS1yo0XtfFr"
      }
    },
    {
      "cell_type": "markdown",
      "source": [
        "Allowed:\n",
        "\n",
        "Letters: a-z, A-Z\n",
        "\n",
        "Digits: 0-9 (but start me digit nahi aa sakta)\n",
        "\n",
        "Underscore (_): variable name underscore se start ya beech me ho sakta hai.\n",
        "\n",
        "\n",
        "Not Allowed:\n",
        "\n",
        "Digit se start\n",
        "1name = \"abc\"      ❌\n",
        "\n",
        "Special symbols (@, #, $, %, etc.)\n",
        "na@me = \"abc\"      ❌  \n",
        "\n",
        "Python keywords (reserved words)\n",
        "\n",
        "Keywords are special words Python already uses for its syntax, so unhe variable name nahi bana sakte.\n",
        "\n",
        "Example keywords: if, for, while, class, True, False, None, def, return...\n",
        "\n",
        "if = 5          ❌\n",
        "class = \"A\"     ❌"
      ],
      "metadata": {
        "id": "qP5NlXoEt6PC"
      }
    },
    {
      "cell_type": "code",
      "source": [
        "1a=\"name\"\n",
        "if=5\n",
        "class=\"A\"\n",
        "@xyz=15                           # this code give error because we don't follow variable declation rules"
      ],
      "metadata": {
        "id": "J0d5uzVEr9M-"
      },
      "execution_count": null,
      "outputs": []
    },
    {
      "cell_type": "markdown",
      "source": [
        "**=====================DATA TYPE===================**\n",
        "\n",
        "\n",
        "1. Definition\n",
        "\n",
        "    A data type tells what kind of value a variable can store.\n",
        "\n",
        "    Python is dynamically typed → you don’t need to declare the type, it is decided automatically based on the value.\n",
        "\n",
        "    \n",
        "\n",
        "\n",
        "\n",
        "2. Main Categories\n",
        "\n",
        "\n",
        " i. Numeric Types\n",
        "\n",
        "    int → whole numbers (e.g., 10, -5)\n",
        "\n",
        "    float → decimal numbers (e.g., 3.14, -2.5)\n",
        "\n",
        "    complex → complex numbers (e.g., 3+4j)\n",
        "\n",
        "\n",
        " ii. Sequence Types\n",
        "\n",
        "    str → strings/text (e.g., \"Hello\")\n",
        "\n",
        "    list → ordered, mutable collection (e.g., [1, 2, 3])\n",
        "\n",
        "    tuple → ordered, immutable collection (e.g., (1, 2, 3))\n",
        "\n",
        "    range(start,end,step) , Immutable coolection (e.g ,range(1, 10, 2)\n",
        "\n",
        "\n",
        "\n",
        " iii. Set Types\n",
        "\n",
        "    set → unordered, mutable collection of unique items (e.g., {1, 2, 3})\n",
        "\n",
        "    frozenset → unordered, immutable set (e.g., frozenset({1, 2, 3}))\n",
        "\n",
        "\n",
        " iv. Mapping Type\n",
        "\n",
        "    dict → mutable , order but in python 3.7 and above , key-value pairs\n",
        "           (e.g., {\"name\": \"Chetan\", \"age\": 20})\n",
        "\n",
        " v. Boolean Type\n",
        "\n",
        "    bool → immutable , unorder because it has only one value at a time (0,1) ,\n",
        "          logical values True or False\n",
        "\n",
        " vi. None Type\n",
        "\n",
        "    NoneType → represents the absence of a value (None)"
      ],
      "metadata": {
        "id": "E3JI1JUfvJlu"
      }
    },
    {
      "cell_type": "code",
      "source": [
        "print(\"# ========= Numaric Data Type ==============\\n\")\n",
        "\n",
        "a=5           # int type\n",
        "print(a)\n",
        "print(type(a))\n",
        "\n",
        "b=5.2        # float type\n",
        "print(b)\n",
        "print(type(b))\n",
        "\n",
        "c=2+3j       # complex type\n",
        "print(c)\n",
        "print(type(c))\n",
        "\n"
      ],
      "metadata": {
        "colab": {
          "base_uri": "https://localhost:8080/"
        },
        "id": "swKvLUH5yiGa",
        "outputId": "a2364e7c-79bc-487d-ea6a-09a8f1e4c70a"
      },
      "execution_count": null,
      "outputs": [
        {
          "output_type": "stream",
          "name": "stdout",
          "text": [
            "# ========= Numaric Data Type ==============\n",
            "\n",
            "5\n",
            "<class 'int'>\n",
            "5.2\n",
            "<class 'float'>\n",
            "(2+3j)\n",
            "<class 'complex'>\n"
          ]
        }
      ]
    },
    {
      "cell_type": "code",
      "source": [
        "print(\"# ============String=================\\n\")\n",
        "\n",
        "\n",
        "s='Single Quote used'           # String Type ''\n",
        "print(s)\n",
        "print(type(s))\n",
        "\n",
        "\n",
        "k=\"Double Quote used\"           # String Type \"\"\n",
        "print(\"\\n\",k)\n",
        "print(type(k))\n",
        "\n",
        "\n",
        "j='''Triple Quote used\n",
        "     my name is Ram\n",
        "                    '''                                      # String Type ''''''   allowed multiple line of code\n",
        "print(\"\\n\",j)\n",
        "print(type(j))"
      ],
      "metadata": {
        "colab": {
          "base_uri": "https://localhost:8080/"
        },
        "id": "75lZlWsDxdg6",
        "outputId": "65e3ab1a-26b2-468a-f9da-8bc84acef904"
      },
      "execution_count": null,
      "outputs": [
        {
          "output_type": "stream",
          "name": "stdout",
          "text": [
            "# ============String=================\n",
            "\n",
            "Single Quote used\n",
            "<class 'str'>\n",
            "\n",
            " Double Quote used\n",
            "<class 'str'>\n",
            "\n",
            " Triple Quote used\n",
            "     my name is Ram\n",
            "                    \n",
            "<class 'str'>\n"
          ]
        }
      ]
    },
    {
      "cell_type": "code",
      "source": [
        "# we can define a list with list([1,2,3]) methon , and a=[12,5,4,7]\n",
        "# List(1,2,3,8 )---> Give error because List is a method which accepts only one argument\")\n",
        "\n",
        "\n",
        "print(\"\\n#============List=============================\\n\")\n",
        "\n",
        "\n",
        "l=[1,2,3,1]           # List Type []  it can store multiple types of data , allowed duplicate\n",
        "print(l)\n",
        "print(type(l))\n",
        "\n",
        "\n",
        "cities_and_number=[1,\"Delhi\",2.4,[1,2,3]]\n",
        "print()\n",
        "print(cities_and_number)\n",
        "print(type(cities_and_number))\n",
        "\n",
        "print(\"\\n\\n\\n\",list([1,2,3,8]))\n",
        "\n",
        "\n",
        "\n",
        " # print(\"\\n\\n\\n\",list(1,2,3,8 ))      # error"
      ],
      "metadata": {
        "colab": {
          "base_uri": "https://localhost:8080/"
        },
        "id": "QrayULNIxd6o",
        "outputId": "cb340b67-599a-4628-a73d-80bd4d9994af"
      },
      "execution_count": null,
      "outputs": [
        {
          "output_type": "stream",
          "name": "stdout",
          "text": [
            "\n",
            "#============List=============================\n",
            "\n",
            "[1, 2, 3, 1]\n",
            "<class 'list'>\n",
            "\n",
            "[1, 'Delhi', 2.4, [1, 2, 3]]\n",
            "<class 'list'>\n",
            "\n",
            "\n",
            "\n",
            " [1, 2, 3, 8]\n"
          ]
        }
      ]
    },
    {
      "cell_type": "code",
      "source": [
        "# we can define a list with tuple(1,2,3) methon , and a=(12,5,4,7)\n",
        "\n",
        "\n",
        "\n",
        "print(\"\\n#============Tuple==================\\n\")\n",
        "\n",
        "t=(1,2,3,1)           # Tuple Type ()  it can store multiple types of data , allowed duplicate\n",
        "# t[1]=5              # tuple is immutable we can't change\n",
        "print()\n",
        "print(t)\n",
        "print(type(t))\n",
        "\n",
        "\n",
        "\n",
        "y=(1,1,\"Delhi\",2.4,[1,2,3])\n",
        "print()\n",
        "print(y)\n",
        "print(type(y))\n",
        "\n",
        "\n",
        "\n",
        "print(\"\\n\\n\\n tuple(1,2,3,8 )---> Give error because tuple is a method which accepts only one argument\")\n",
        "print(\"\\n\",tuple([1,2,3])),"
      ],
      "metadata": {
        "colab": {
          "base_uri": "https://localhost:8080/"
        },
        "id": "9lrPoJp7xeOI",
        "outputId": "2b0537d5-3155-453f-85ea-dd497ea9f62b"
      },
      "execution_count": null,
      "outputs": [
        {
          "output_type": "stream",
          "name": "stdout",
          "text": [
            "\n",
            "#============Tuple==================\n",
            "\n",
            "\n",
            "(1, 2, 3, 1)\n",
            "<class 'tuple'>\n",
            "\n",
            "(1, 1, 'Delhi', 2.4, [1, 2, 3])\n",
            "<class 'tuple'>\n",
            "\n",
            "\n",
            "\n",
            " tuple(1,2,3,8 )---> Give error because tuple is a method which accepts only one argument\n",
            "\n",
            " (1, 2, 3)\n"
          ]
        },
        {
          "output_type": "execute_result",
          "data": {
            "text/plain": [
              "(None,)"
            ]
          },
          "metadata": {},
          "execution_count": 77
        }
      ]
    },
    {
      "cell_type": "code",
      "source": [
        "\n",
        "print(\"\\n#=============== Range ==============================\\n\")\n",
        "\n",
        "print(\"range(1, 5)\\n\")\n",
        "\n",
        "print(\"Why range 1 to 5 not print :\")\n",
        "print(\"because range is a special object that represents a sequence,\")\n",
        "print(\"but it doesn’t store all numbers directly — it’s lazy (generated on demand).\")\n",
        "print(\"We need to type caste it\\n\")\n",
        "\n",
        "print([1, 2, 3, 4])\n",
        "print((1, 2, 3, 4))\n",
        "\n",
        "print(\"\\nRange with step\")\n",
        "print([1, 3, 5, 7, 9])\n"
      ],
      "metadata": {
        "colab": {
          "base_uri": "https://localhost:8080/"
        },
        "id": "1wfkcf_F5IQq",
        "outputId": "f426ab3f-d9a0-42ad-e5e2-60ec06188373"
      },
      "execution_count": null,
      "outputs": [
        {
          "output_type": "stream",
          "name": "stdout",
          "text": [
            "\n",
            "#=============== Range ==============================\n",
            "\n",
            "range(1, 5)\n",
            "\n",
            "Why range 1 to 5 not print :\n",
            "because range is a special object that represents a sequence,\n",
            "but it doesn’t store all numbers directly — it’s lazy (generated on demand).\n",
            "We need to type caste it\n",
            "\n",
            "[1, 2, 3, 4]\n",
            "(1, 2, 3, 4)\n",
            "\n",
            "Range with step\n",
            "[1, 3, 5, 7, 9]\n"
          ]
        }
      ]
    },
    {
      "cell_type": "markdown",
      "source": [
        "**Type Checking**\n",
        "\n",
        "Use type() to check a variable’s type\n",
        "\n"
      ],
      "metadata": {
        "id": "rRoYBl6Ixe6Y"
      }
    },
    {
      "cell_type": "code",
      "source": [
        "a=4\n",
        "print(type(a))\n",
        "\n",
        "b=5.2\n",
        "print(type(b))\n",
        "\n",
        "c=2+3j\n",
        "print(type(c))\n",
        "\n",
        "d='Single Quote used'\n",
        "print(type(d))\n",
        "\n",
        "e=list([1,2,3])\n",
        "print(type(e))"
      ],
      "metadata": {
        "colab": {
          "base_uri": "https://localhost:8080/"
        },
        "id": "iWKoRDBGxino",
        "outputId": "e2647b7d-9c2b-4429-b437-3058e812a8ca"
      },
      "execution_count": null,
      "outputs": [
        {
          "output_type": "stream",
          "name": "stdout",
          "text": [
            "<class 'int'>\n",
            "<class 'float'>\n",
            "<class 'complex'>\n"
          ]
        }
      ]
    },
    {
      "cell_type": "markdown",
      "source": [
        "**Type Conversion**\n",
        "\n",
        "Convert data types using built-in functions:\n",
        "\n",
        "int(), float(), str(), list(), tuple(), set(), dict()\n"
      ],
      "metadata": {
        "id": "ChI39spqxjE1"
      }
    },
    {
      "cell_type": "code",
      "source": [
        "# Integer\n",
        "a = 5\n",
        "print(a)\n",
        "print(type(a))                   # int\n",
        "print()\n",
        "\n",
        "\n",
        "# Integer → Float\n",
        "q = float(a)\n",
        "print(q)\n",
        "print(type(q))                   # float\n",
        "print()\n",
        "\n",
        "\n",
        "# Integer → String\n",
        "b = str(a)\n",
        "print(b)\n",
        "print(type(b))                  # str\n",
        "print()\n",
        "\n",
        "# Integer → List (must give inside an iterable like range or string)\n",
        "c = list(str(a))                # '5' → ['5']\n",
        "print(c)\n",
        "print(type(c))                  # list\n",
        "print()\n",
        "\n",
        "\n",
        "\n",
        "# Integer → Tuple\n",
        "d = tuple(str(a))               # '5' → ('5',)\n",
        "print(d)\n",
        "print(type(d))                  # tuple\n",
        "print()\n",
        "\n",
        "\n",
        "\n",
        "# List → Set (removes duplicates)\n",
        "my_list = [1, 2, 2, 3]\n",
        "e = set(my_list)\n",
        "print(e)\n",
        "print(type(e))                # set\n",
        "print()\n",
        "\n",
        "\n",
        "\n",
        "# List of pairs → Dictionary\n",
        "pairs = [(1, 'one'), (2, 'two')]\n",
        "f = dict(pairs)\n",
        "print(f)\n",
        "print(type(f))  # dict\n"
      ],
      "metadata": {
        "colab": {
          "base_uri": "https://localhost:8080/"
        },
        "id": "EjKXrgLGxtk0",
        "outputId": "6a705045-e084-4ba7-c5b6-8f9087cba2f5"
      },
      "execution_count": null,
      "outputs": [
        {
          "output_type": "stream",
          "name": "stdout",
          "text": [
            "5\n",
            "<class 'int'>\n",
            "\n",
            "5.0\n",
            "<class 'float'>\n",
            "\n",
            "5\n",
            "<class 'str'>\n",
            "\n",
            "['5']\n",
            "<class 'list'>\n",
            "\n",
            "('5',)\n",
            "<class 'tuple'>\n",
            "\n",
            "{1, 2, 3}\n",
            "<class 'set'>\n",
            "\n",
            "{1: 'one', 2: 'two'}\n",
            "<class 'dict'>\n"
          ]
        }
      ]
    },
    {
      "cell_type": "code",
      "source": [
        "a=5                   # Question of day-2\n",
        "                      # Becasue integer is not iterble like string ,list, tuple\n",
        "# b=list(a)\n",
        "# print(type(b))\n"
      ],
      "metadata": {
        "id": "mShYkFJc91iS"
      },
      "execution_count": null,
      "outputs": []
    },
    {
      "cell_type": "code",
      "source": [
        "print(\"\\n# ============ Mapping Type ================\\n\")\n",
        "\n",
        "# Dictionaries (ordered, immutable, No duplicates)\n",
        "d = {\"Name\": \"Chetan\", \"Age\": 20, \"City\": \"Pune\"}\n",
        "print(d)                                                        # See the order of keys\n",
        "\n",
        "# Add a new key\n",
        "d[\"Country\"] = \"India\"\n",
        "print(d)                                                          # Check if keys stay in insertion order\n",
        "\n",
        "\n",
        "\n",
        "d[\"Country\"] = \"US\"                                               # Mutable\n",
        "print(d)\n",
        "\n",
        "d[\"Country\"] = \"US\"                                               # No duplicate allow\n",
        "print(d)\n",
        "\n",
        "\n",
        "# Iterate over keys\n",
        "for key in d:\n",
        "    print(key)\n",
        "\n",
        "\n"
      ],
      "metadata": {
        "colab": {
          "base_uri": "https://localhost:8080/"
        },
        "id": "mRb50IrBBY3G",
        "outputId": "17843157-724d-4b47-f2d8-a510072a69a8"
      },
      "execution_count": null,
      "outputs": [
        {
          "output_type": "stream",
          "name": "stdout",
          "text": [
            "\n",
            "# ============ Mapping Type ================\n",
            "\n",
            "{'Name': 'Chetan', 'Age': 20, 'City': 'Pune'}\n",
            "{'Name': 'Chetan', 'Age': 20, 'City': 'Pune', 'Country': 'India'}\n",
            "{'Name': 'Chetan', 'Age': 20, 'City': 'Pune', 'Country': 'US'}\n",
            "{'Name': 'Chetan', 'Age': 20, 'City': 'Pune', 'Country': 'US'}\n",
            "Name\n",
            "Age\n",
            "City\n",
            "Country\n"
          ]
        }
      ]
    },
    {
      "cell_type": "code",
      "source": [
        "print(\"\\n# ============ Set ================\\n\")\n",
        "\n",
        "\n",
        "# Set (Unordered, Mutable, No duplicates)\n",
        "s = {1, 2, 2, 3}              #  No error but it store only single element\n",
        "print(s)                      # {1, 2, 3}\n",
        "s.add(4)                      #  Works\n",
        "print(s)\n",
        "\n",
        "\n",
        "\n",
        "j={3,2,1,1}                  # unorder\n",
        "print(j)\n",
        "\n"
      ],
      "metadata": {
        "colab": {
          "base_uri": "https://localhost:8080/"
        },
        "id": "WeO9rMsjBZGD",
        "outputId": "a4fa5ef3-f67b-4764-cb67-42d27b5f3733"
      },
      "execution_count": null,
      "outputs": [
        {
          "output_type": "stream",
          "name": "stdout",
          "text": [
            "\n",
            "# ============ Set ================\n",
            "\n",
            "{1, 2, 3}\n",
            "{1, 2, 3, 4}\n",
            "{1, 2, 3}\n"
          ]
        }
      ]
    },
    {
      "cell_type": "code",
      "source": [
        "print(\"\\n# ============ FrozenSet ================\\n\")\n",
        "\n",
        "\n",
        "# Set (Unordered, immutable, No duplicates)\n",
        "\n",
        "\n",
        "# Normal set (mutable)\n",
        "normal_set = {1, 2, 3}\n",
        "print(normal_set)                            # {1, 2, 3}\n",
        "normal_set.add(4)                            #  Works\n",
        "print(normal_set)                            # {1, 2, 3, 4}\n",
        "\n",
        "\n",
        "\n",
        "# Frozenset (immutable)\n",
        "f_set = frozenset([1, 2, 3, 3, 2])\n",
        "print(f_set)                                   # frozenset({1, 2, 3})\n",
        "\n",
        "# f_set.add(4)                                 # ❌ ERROR: 'frozenset' object has no attribute 'add'\n",
        "\n",
        "\n",
        "\n",
        "\n",
        "print()\n",
        "f_set = frozenset([3, 1, 2])\n",
        "print(f_set)                                       # frozenset({1, 2, 3}) → order may not match insertion\n",
        "\n",
        "\n",
        "\n",
        "\n"
      ],
      "metadata": {
        "colab": {
          "base_uri": "https://localhost:8080/"
        },
        "id": "SfpI_kivBZRA",
        "outputId": "930d1515-bba5-4dab-f289-8c1801b1d274"
      },
      "execution_count": null,
      "outputs": [
        {
          "output_type": "stream",
          "name": "stdout",
          "text": [
            "\n",
            "# ============ FrozenSet ================\n",
            "\n",
            "{1, 2, 3}\n",
            "{1, 2, 3, 4}\n",
            "frozenset({1, 2, 3})\n",
            "\n",
            "frozenset({1, 2, 3})\n"
          ]
        }
      ]
    },
    {
      "cell_type": "code",
      "source": [
        "\n",
        "print(\"\\n# ============ Boolean ================\\n\")\n",
        "\n",
        "\n",
        "a = True\n",
        "b = False\n",
        "\n",
        "print(\"Value of a:\", a)\n",
        "print(type(a))\n",
        "\n",
        "print(\"Value of b:\", b)\n",
        "print(type(b))\n",
        "\n"
      ],
      "metadata": {
        "colab": {
          "base_uri": "https://localhost:8080/"
        },
        "id": "viu-HrYHBZeR",
        "outputId": "21a37241-7abe-4e56-d7b3-836018c1809c"
      },
      "execution_count": null,
      "outputs": [
        {
          "output_type": "stream",
          "name": "stdout",
          "text": [
            "\n",
            "# ============ Boolean ================\n",
            "\n",
            "Value of a: True\n",
            "<class 'bool'>\n",
            "Value of b: False\n",
            "<class 'bool'>\n"
          ]
        }
      ]
    },
    {
      "cell_type": "code",
      "source": [
        "# Byte and ByteArray give ASCII Values crossponding to symbole or alphabet\n",
        "# It is a method byte() bytearray()\n",
        "#                 ex : let 65 --> A\n",
        "\n",
        "\n",
        "\n",
        "print(\"\\n# ============ Bytes , ByteArray , MemoryView ================\\n\")\n",
        "\n",
        "\n",
        "# Bytes (immutable)\n",
        "\n",
        "a=bytes([65, 66, 67])\n",
        "print(a)                                # b'ABC'\n",
        "print(type(a))\n",
        "print()\n",
        "\n",
        "\n",
        "\n",
        "\n",
        "# Bytearray (mutable)\n",
        "\n",
        "b=bytearray([65, 66, 67])              # bytearray(b'ABC')\n",
        "print(b)\n",
        "b.append(68)                          # Mutable\n",
        "print(b)\n",
        "print(type(b))\n",
        "print()\n",
        "\n",
        "\n",
        "f = bytes(\"@\", \"utf-8\")               # String ko bytes me convert\n",
        "print(f)                              # b'@'\n",
        "\n",
        "\n"
      ],
      "metadata": {
        "colab": {
          "base_uri": "https://localhost:8080/"
        },
        "id": "KUQZf9igBZvI",
        "outputId": "dbbbaa82-9ba0-4483-a0e6-6e00fa22ce29"
      },
      "execution_count": null,
      "outputs": [
        {
          "output_type": "stream",
          "name": "stdout",
          "text": [
            "\n",
            "# ============ Bytes , ByteArray , MemoryView ================\n",
            "\n",
            "b'ABC'\n",
            "<class 'bytes'>\n",
            "\n",
            "bytearray(b'ABC')\n",
            "bytearray(b'ABCD')\n",
            "<class 'bytearray'>\n",
            "\n",
            "b'@'\n",
            "10769040\n"
          ]
        }
      ]
    },
    {
      "cell_type": "code",
      "source": [
        "# memoryview(obj)\n",
        "# obj → Required.\n",
        "# Must be a bytes-like object (e.g., bytes, bytearray, array.array, or any object supporting the buffer protocol).\n",
        "\n",
        "\n",
        "\n",
        "print(\"\\n# ======== Memoryview ==============\")\n",
        "\n",
        "print(memoryview(b'ABC'))            # <memory at 0x...>  here b'ABC' --> b define bytes\n",
        "print(type(memoryview(b'ABC')))\n",
        "print()"
      ],
      "metadata": {
        "id": "soBcMFREbMRm"
      },
      "execution_count": null,
      "outputs": []
    },
    {
      "cell_type": "markdown",
      "source": [
        "**Sumrazies**\n",
        "\n",
        "\n",
        "\n",
        "\n",
        "\n",
        "| Data Type       | Ordered? | Mutable? | Duplicates Allowed? | Example                | Notes                           |\n",
        "| --------------- | -------- | -------- | ------------------- | ---------------------- | ------------------------------- |\n",
        "| **list**        | ✅ Yes    | ✅ Yes    | ✅ Yes               | `[1, 2, 2, 3]`         | Sequence, can store mixed types |\n",
        "| **tuple**       | ✅ Yes    | ❌ No     | ✅ Yes               | `(1, 2, 2, 3)`         | Immutable list                  |\n",
        "| **set**         | ❌ No     | ✅ Yes    | ❌ No                | `{1, 2, 3}`            | Unordered, no duplicates        |\n",
        "| **frozenset**   | ❌ No     | ❌ No     | ❌ No                | `frozenset({1, 2, 3})` | Immutable set                   |\n",
        "| **dict** (keys) | ✅ Yes\\*  | ✅ Yes    | ❌ No (keys)         | `{\"a\": 1, \"b\": 2}`     | Keys ordered since Python 3.7   |\n",
        "| **str**         | ✅ Yes    | ❌ No     | ✅ Yes               | `\"hello\"`              | Immutable text sequence         |\n",
        "| **range**       | ✅ Yes    | ❌ No     | ❌ No                | `range(1, 5)`          | Sequence of numbers             |\n",
        "| **bool**        | ❌ No     | ❌ No     | ❌ No                | `True`, `False`        | Only two values                 |\n",
        "| **int**         | ❌ No     | ❌ No     | ❌ No                | `42`                   | Immutable number                |\n",
        "| **float**       | ❌ No     | ❌ No     | ❌ No                | `3.14`                 | Immutable number                |\n",
        "| **complex**     | ❌ No     | ❌ No     | ❌ No                | `2+3j`                 | Immutable number type           |\n",
        "| **bytes**       | ✅ Yes    | ❌ No     | ✅ Yes               | `b\"abc\"`               | Immutable byte sequence         |\n",
        "| **bytearray**   | ✅ Yes    | ✅ Yes    | ✅ Yes               | `bytearray(b\"abc\")`    | Mutable byte sequence           |\n"
      ],
      "metadata": {
        "id": "3u1AG19YVJVE"
      }
    },
    {
      "cell_type": "markdown",
      "source": [
        "**==========OPERATOR===========**\n",
        "\n",
        "Types of operator\n",
        "\n",
        "\n",
        "1. Arithmetic Operators → Maths operations (+, -, *, /, %, **, //).\n",
        "2. Assignment Operators → Assign or update variable value (=, +=, -=, *=, /=, %=).\n",
        "\n",
        "3. Relational / Comparison Operators → Compare values, result is True or alse (==, !=, >, <, >=, <=).\n",
        "\n",
        "4. Logical Operators → Combine conditions (and, or, not).\n",
        "\n",
        "5. Bitwise Operators → Work on bits (&, |, ^, ~, <<, >>).\n",
        "\n",
        "6. Identity Operators → Check if two objects are the same in memory (is, is not).\n",
        "\n",
        "7. Membership Operators → Check if value is in a sequence (in, not in)\n",
        "\n",
        "\n"
      ],
      "metadata": {
        "id": "o3MSOeIux29L"
      }
    },
    {
      "cell_type": "code",
      "source": [
        "# Arithmatic Operator\n",
        "\n",
        "a = 10          # Assignment Operatore ( assign right to left)\n",
        "b = 12\n",
        "\n",
        "print(a + b)    # Addition → 10 + 12 = 22\n",
        "print(a - b)    # Subtraction → 10 - 12 = -2\n",
        "print(a * b)    # Multiplication → 10 * 12 = 120\n",
        "print(a / b)    # Division (float) → 10 / 12 ≈ 0.8333\n",
        "print(a % b)    # Modulus → remainder of 10 ÷ 12 = 10\n",
        "print(a // b)   # Floor Division → integer part of division = 0\n",
        "print(a ** b)   # Exponentiation → 10 raised to the power 12 = 1000000000000\n",
        "\n"
      ],
      "metadata": {
        "id": "GVoXfwrKx1w0",
        "colab": {
          "base_uri": "https://localhost:8080/"
        },
        "outputId": "40d286ce-f1ff-4da8-dd48-1adeb231df80"
      },
      "execution_count": 1,
      "outputs": [
        {
          "output_type": "stream",
          "name": "stdout",
          "text": [
            "22\n",
            "-2\n",
            "120\n",
            "0.8333333333333334\n",
            "10\n",
            "0\n",
            "1000000000000\n"
          ]
        }
      ]
    },
    {
      "cell_type": "code",
      "source": [
        "# Assignment Operator\n",
        "\n",
        "\n",
        "a = 10     # Assign → a = 10\n",
        "print(a)   # Output: 10\n",
        "\n",
        "a += 5     # Add and assign → a = a + 5 = 15\n",
        "print(a)   # Output: 15\n",
        "\n",
        "a -= 3     # Subtract and assign → a = a - 3 = 12\n",
        "print(a)   # Output: 12\n",
        "\n",
        "a *= 2     # Multiply and assign → a = a * 2 = 24\n",
        "print(a)   # Output: 24\n",
        "\n",
        "a /= 4     # Divide and assign → a = a / 4 = 6.0\n",
        "print(a)   # Output: 6.0\n",
        "\n",
        "a %= 4     # Modulus and assign → a = a % 4 = 2.0\n",
        "print(a)   # Output: 2.0\n"
      ],
      "metadata": {
        "id": "YYPE6ctGokWE"
      },
      "execution_count": null,
      "outputs": []
    },
    {
      "cell_type": "code",
      "source": [
        "# Relational / Comparison Operator\n",
        "\n",
        "a = 10\n",
        "b = 12\n",
        "\n",
        "print(a == b)   # Equal to → False (10 is not equal to 12)\n",
        "print(a != b)   # Not equal to → True (10 is not equal to 12)\n",
        "print(a > b)    # Greater than → False (10 is not greater than 12)\n",
        "print(a < b)    # Less than → True (10 is less than 12)\n",
        "print(a >= b)   # Greater than or equal to → False (10 is not >= 12)\n",
        "print(a <= b)   # Less than or equal to → True (10 is <= 12)\n"
      ],
      "metadata": {
        "colab": {
          "base_uri": "https://localhost:8080/"
        },
        "id": "EI9PsUwEmmll",
        "outputId": "ab7e18c0-f554-4320-b4f4-b34e030b2502"
      },
      "execution_count": 2,
      "outputs": [
        {
          "output_type": "stream",
          "name": "stdout",
          "text": [
            "False\n",
            "True\n",
            "False\n",
            "True\n",
            "False\n",
            "True\n"
          ]
        }
      ]
    },
    {
      "cell_type": "code",
      "source": [
        "# Why logical operator is used ----> just for checking multiple condtional statement\n",
        "\n",
        "\n",
        "a = 10\n",
        "b = 12\n",
        "\n",
        "# and → dono conditions True hone chahiye\n",
        "print(a > 5 and b > 5)     # True and True → True\n",
        "print(a > 5 and b < 5)     # True and False → False\n",
        "\n",
        "# or → koi ek condition True ho to result True\n",
        "print(a > 5 or b < 5)      # True or False → True\n",
        "print(a < 5 or b < 5)      # False or False → False\n",
        "\n",
        "# not → condition ka ulta\n",
        "print(not(a > 5))          # not(True) → False\n",
        "print(not(b < 5))          # not(False) → True\n"
      ],
      "metadata": {
        "colab": {
          "base_uri": "https://localhost:8080/"
        },
        "id": "_DZNM_Sa72G0",
        "outputId": "ee7e7918-0a93-4ef5-d831-0fad4b9aa165"
      },
      "execution_count": 5,
      "outputs": [
        {
          "output_type": "stream",
          "name": "stdout",
          "text": [
            "True\n",
            "False\n",
            "True\n",
            "False\n",
            "False\n",
            "True\n"
          ]
        }
      ]
    },
    {
      "cell_type": "code",
      "source": [
        "# Bitwise operator\n",
        "\n",
        "\n",
        "# Bitwise AND → compares each bit of a and b (1 if both bits are 1)\n",
        "print(a & b)  # 10 & 13 → 1010 & 1101 = 1000 (binary) = 8\n",
        "\n",
        "# Bitwise OR → compares each bit (1 if at least one bit is 1)\n",
        "print(a | b)  # 10 | 13 → 1010 | 1101 = 1111 (binary) = 15\n",
        "\n",
        "# Bitwise XOR → compares each bit (1 if bits are different)\n",
        "print(a ^ b)  # 10 ^ 13 → 1010 ^ 1101 = 0111 (binary) = 7\n",
        "\n",
        "# Bitwise NOT → inverts all bits (~x = -(x+1))\n",
        "print(~a)  # ~10 = -(10+1) = -11\n",
        "print(~b)  # ~13 = -(13+1) = -14\n",
        "\n",
        "# Left shift → moves bits to the left (multiply by 2 for each shift)\n",
        "print(a << 1)  # 10 << 1 → 1010 → 10100 (binary) = 20\n",
        "\n",
        "# Right shift → moves bits to the right (divide by 2 for each shift)\n",
        "print(a >> 1)  # 10 >> 1 → 1010 → 0101 (binary) = 5"
      ],
      "metadata": {
        "colab": {
          "base_uri": "https://localhost:8080/"
        },
        "id": "IyedIYkMnjlN",
        "outputId": "b3659b83-501c-4f66-d703-11dcb4fe3619"
      },
      "execution_count": 6,
      "outputs": [
        {
          "output_type": "stream",
          "name": "stdout",
          "text": [
            "8\n",
            "14\n",
            "6\n",
            "-11\n",
            "-13\n",
            "20\n",
            "5\n"
          ]
        }
      ]
    },
    {
      "cell_type": "code",
      "source": [
        "# Identity Operators: 'is' and 'is not'\n",
        "# They check if two variables refer to the SAME object in memory, not just equal values\n",
        "\n",
        "a = [1, 2, 3]\n",
        "b = a          # b points to the SAME list object as a\n",
        "c = [1, 2, 3]  # c has the same values but is a DIFFERENT object\n",
        "\n",
        "print(a is b)      # True → both a and b point to the same object in memory\n",
        "print(a is c)      # False → values are same but memory locations are different\n",
        "print(a is not c)  # True → a and c are different objects\n"
      ],
      "metadata": {
        "colab": {
          "base_uri": "https://localhost:8080/"
        },
        "id": "MIJIzHj-iMbe",
        "outputId": "2930ed7a-3680-47c2-d25f-ed237e4667e8"
      },
      "execution_count": null,
      "outputs": [
        {
          "output_type": "stream",
          "name": "stdout",
          "text": [
            "False\n",
            "True\n"
          ]
        },
        {
          "output_type": "execute_result",
          "data": {
            "text/plain": [
              "True"
            ]
          },
          "metadata": {},
          "execution_count": 11
        }
      ]
    },
    {
      "cell_type": "code",
      "source": [
        "# Membership Operators: 'in' and 'not in'\n",
        "# They check if a value exists inside a sequence (list, tuple, string, set, dictionary)\n",
        "\n",
        "numbers = [1, 2, 3, 4, 5]\n",
        "name = \"Python\"\n",
        "\n",
        "# 'in' → True if present\n",
        "print(3 in numbers)       # True → 3 is in the list\n",
        "print(\"Py\" in name)       # True → \"Py\" is in \"Python\"\n",
        "\n",
        "# 'not in' → True if NOT present\n",
        "print(10 not in numbers)  # True → 10 is not in the list\n",
        "print(\"Java\" not in name) # True → \"Java\" is not in \"Python\"\n"
      ],
      "metadata": {
        "colab": {
          "base_uri": "https://localhost:8080/"
        },
        "id": "YpP92iBgpvDJ",
        "outputId": "c9cf3e24-c773-43d9-b8d5-0f7418b33fe2"
      },
      "execution_count": 7,
      "outputs": [
        {
          "output_type": "stream",
          "name": "stdout",
          "text": [
            "True\n",
            "True\n",
            "True\n",
            "True\n"
          ]
        }
      ]
    },
    {
      "cell_type": "markdown",
      "source": [
        "# **Conditional Statement (if,else,for,while...etc)**"
      ],
      "metadata": {
        "id": "LiqNmsFHAT8q"
      }
    },
    {
      "cell_type": "markdown",
      "source": [
        "**Purpose of Indentation**:\n",
        "\n",
        "It defines which lines of code belong to a specific block (like loops, functions, or conditionals).\n",
        "\n",
        "Makes the code more readable and organized.\n",
        "Standard Practice:\n",
        "\n",
        "Use 4 spaces per indentation level (or 1 tab).\n",
        "Be consistent—don’t mix tabs and spaces in the same file.\n",
        "Indentation Errors:\n",
        "\n",
        "Missing or inconsistent indentation leads to an IndentationError."
      ],
      "metadata": {
        "id": "iA6qvJwEBu_5"
      }
    },
    {
      "cell_type": "code",
      "source": [
        "a=2\n",
        "b=3\n",
        "if(a>b):\n",
        "  print(\"If condition \")\n",
        "elif a==b:\n",
        " print(\"else condition\")\n",
        "else:\n",
        " print(\"Edunet foundation \")"
      ],
      "metadata": {
        "id": "uMQqgC2djE7d",
        "colab": {
          "base_uri": "https://localhost:8080/"
        },
        "outputId": "4e506157-5364-49af-c28b-8e6571e5069e"
      },
      "execution_count": null,
      "outputs": [
        {
          "output_type": "stream",
          "name": "stdout",
          "text": [
            "Edunet foundation \n"
          ]
        }
      ]
    },
    {
      "cell_type": "code",
      "source": [
        "number = 5\n",
        "\n",
        "if number > 0:\n",
        "    print(\"The number is positive.\")\n",
        "    if number % 2 == 0:\n",
        "        print(\"The number is even.\")\n",
        "    else:\n",
        "        print(\"The number is odd.\")\n",
        "elif number < 0:\n",
        "    print(\"The number is negative.\")\n",
        "else:\n",
        "    print(\"The number is zero.\")\n"
      ],
      "metadata": {
        "colab": {
          "base_uri": "https://localhost:8080/"
        },
        "id": "B57BBzEEf6il",
        "outputId": "99d3517d-999e-45c8-c927-15ecb89a5e5b"
      },
      "execution_count": null,
      "outputs": [
        {
          "output_type": "stream",
          "name": "stdout",
          "text": [
            "The number is positive.\n",
            "The number is odd.\n"
          ]
        }
      ]
    },
    {
      "cell_type": "markdown",
      "source": [
        "\n",
        "**for Loop:**\n",
        "It is used to repeat a block of code for a fixed number of iterations.\n",
        "Each iteration assigns a value from the sequence (created by range(3)) to the variable i.\n",
        "\n",
        "range(start,stop,step):\n",
        "range(n) generates a sequence of numbers starting from 0 up to (but not including) n.\n",
        "In this case, range(3) produces the numbers: 0, 1, 2.\n",
        "\n",
        "**Variable i:**\n",
        "i is a loop variable that takes on the values in the sequence one by one during each iteration.\n",
        "\n",
        "**Colon : and Indented Block:**\n",
        "The colon : marks the start of the code block.\n",
        "Indented lines below the for loop are executed once for each value of i.\n",
        "\n",
        "**key points**\n",
        "1. The step is 1 by default.\n",
        "2. if we gives only one values it's consider as stop but it's execute (n-1) times"
      ],
      "metadata": {
        "id": "cURlpm6VJs-h"
      }
    },
    {
      "cell_type": "code",
      "source": [
        "for i in range(5):\n",
        "  print(i)\n",
        "\n",
        "print(\"Understanding the range function with start and stop \")\n",
        "\n",
        "for i in range(1,5):\n",
        "  print(i)\n",
        "\n",
        "print(\"Understanding the range function with start and stop and step \")\n",
        "\n",
        "for i in range(1,5,2):\n",
        "  print(i)"
      ],
      "metadata": {
        "colab": {
          "base_uri": "https://localhost:8080/"
        },
        "id": "FaSm70F5MYKK",
        "outputId": "8435be07-e045-418e-fee8-feeafb1925a8"
      },
      "execution_count": null,
      "outputs": [
        {
          "output_type": "stream",
          "name": "stdout",
          "text": [
            "0\n",
            "1\n",
            "2\n",
            "3\n",
            "4\n",
            "Understanding the range function with start and stop \n",
            "1\n",
            "2\n",
            "3\n",
            "4\n",
            "Understanding the range function with start and stop and step \n",
            "1\n",
            "3\n"
          ]
        }
      ]
    },
    {
      "cell_type": "code",
      "source": [
        "fruits=[\"apple\",\"banana\",\"cherry\"]\n",
        "for x in fruits:\n",
        "  print(x)\n",
        "  if x == \"banana\":\n",
        "   break\n",
        "\n",
        "print(\"\\n\\n\\n\")\n",
        "fruits=[\"apple\",\"banana\",\"cherry\"]\n",
        "for x in fruits:\n",
        "  print(x)\n",
        "  if x == \"banana\":\n",
        "   continue\n",
        "  print(x)"
      ],
      "metadata": {
        "colab": {
          "base_uri": "https://localhost:8080/"
        },
        "id": "blCMm0X7kgql",
        "outputId": "16936cbe-23e1-42ac-cc46-d32d4e79b68c"
      },
      "execution_count": null,
      "outputs": [
        {
          "output_type": "stream",
          "name": "stdout",
          "text": [
            "apple\n",
            "banana\n",
            "\n",
            "\n",
            "\n",
            "\n",
            "apple\n",
            "apple\n",
            "banana\n",
            "cherry\n",
            "cherry\n"
          ]
        }
      ]
    },
    {
      "cell_type": "markdown",
      "source": [
        "**While Loop**\n",
        "The condition is checked before the loop starts.\n",
        "\n",
        "If the condition is True, the code inside the loop is executed.\n",
        "If the condition is False, the loop ends, and the program continues with the next line of code.\n",
        "After each iteration, the condition is checked again.\n",
        "\n",
        "If the condition never becomes False, the loop will run indefinitely (this is called an infinite loop)\n",
        "\n"
      ],
      "metadata": {
        "id": "UQJiz-4mNk7U"
      }
    },
    {
      "cell_type": "code",
      "source": [
        "print(\"Basic while Loop\")\n",
        "count = 1\n",
        "while count <= 5:\n",
        "    print(count)\n",
        "    count += 1\n",
        "\n",
        "\n",
        "#while True:\n",
        "print(\"Infinite while Loop\")\n",
        "\n",
        "\n",
        "print(\"Using a break Statement\")\n",
        "count = 1\n",
        "while True:\n",
        "    print(count)\n",
        "    count += 1\n",
        "    if count > 5:\n",
        "        break\n",
        "print(\"Using a continue Statement\")\n",
        "count = 0\n",
        "while count < 5:\n",
        "    count += 1\n",
        "    if count == 3:\n",
        "        continue  # Skip the rest of the code for this iteration\n",
        "    print(count)\n",
        "\n",
        "\n",
        "\n"
      ],
      "metadata": {
        "colab": {
          "base_uri": "https://localhost:8080/"
        },
        "id": "4aHldlFHRQey",
        "outputId": "c63a189d-3a9e-4da7-aed6-da4ceea88464"
      },
      "execution_count": null,
      "outputs": [
        {
          "output_type": "stream",
          "name": "stdout",
          "text": [
            "Basic while Loop\n",
            "1\n",
            "2\n",
            "3\n",
            "4\n",
            "5\n",
            "Infinite while Loop\n",
            "This loop run infinite times\n",
            "Using a break Statement\n",
            "1\n",
            "2\n",
            "3\n",
            "4\n",
            "5\n",
            "Using a continue Statement\n",
            "1\n",
            "2\n",
            "4\n",
            "5\n"
          ]
        }
      ]
    },
    {
      "cell_type": "markdown",
      "source": [
        "\n",
        "**Use the for loop**\n",
        "\n",
        "    when iterating over a predefined collection or range.\n",
        "\n",
        "**Use the while loop**\n",
        "\n",
        "    when you don’t know the exact number of iterations and need to loop until a condition is met."
      ],
      "metadata": {
        "id": "lNZpF5XST27v"
      }
    },
    {
      "cell_type": "markdown",
      "source": [
        "**FUNCTION IN PYTHON**\n",
        "\n",
        "Functions are reusable blocks of code, and modules allow us to organize and reuse code.\n",
        "\n",
        "Writing Functions:\n",
        "\n",
        "Functions are defined using the def keyword.\n",
        "\n",
        "===============Syantax===================================\n",
        "\n",
        "**function_name:**\n",
        "\n",
        "The name you give to the function.\n",
        "\n",
        "**parameters:**\n",
        "\n",
        "Optional variables (arguments) passed into the function to be used within it.\n",
        "\n",
        "**return:**\n",
        "\n",
        " Optional statement that returns a value to the caller. If no return is provided, the function will return None by default.\n",
        "\n",
        "\n",
        "\n",
        " def function_name(parameters):\n",
        "    # code block\n",
        "    return value  # optional"
      ],
      "metadata": {
        "id": "57tcPF9LbtP5"
      }
    },
    {
      "cell_type": "code",
      "source": [
        "def even(list1):\n",
        "    even_num = []\n",
        "    for x in list1:\n",
        "        if x % 2 == 0:\n",
        "            even_num.append(x)\n",
        "    return even_num\n",
        "\n",
        "\n",
        "even_num = even([2, 4, 5, 7, 8, 6, 2])\n",
        "\n",
        "print(\"EVEN NUMBERS ARE:\", even_num)\n",
        "\n",
        "total = sum(even_num)\n",
        "print(\"Sum of even numbers is:\", total)\n",
        "\n"
      ],
      "metadata": {
        "colab": {
          "base_uri": "https://localhost:8080/"
        },
        "id": "0pB7D6vDUmJs",
        "outputId": "3eb7ba7d-78ba-4513-8366-61bb619c2630"
      },
      "execution_count": null,
      "outputs": [
        {
          "output_type": "stream",
          "name": "stdout",
          "text": [
            "EVEN NUMBERS ARE: [2, 4, 8, 6, 2]\n",
            "Sum of even numbers is: 22\n"
          ]
        }
      ]
    }
  ]
}