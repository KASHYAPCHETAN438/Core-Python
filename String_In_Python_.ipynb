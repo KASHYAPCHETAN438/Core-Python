{
  "nbformat": 4,
  "nbformat_minor": 0,
  "metadata": {
    "colab": {
      "provenance": [],
      "authorship_tag": "ABX9TyMQeeTU8W2C2QsVS/KUmTwo",
      "include_colab_link": true
    },
    "kernelspec": {
      "name": "python3",
      "display_name": "Python 3"
    },
    "language_info": {
      "name": "python"
    }
  },
  "cells": [
    {
      "cell_type": "markdown",
      "metadata": {
        "id": "view-in-github",
        "colab_type": "text"
      },
      "source": [
        "<a href=\"https://colab.research.google.com/github/KASHYAPCHETAN438/Core-Python/blob/main/String_In_Python_.ipynb\" target=\"_parent\"><img src=\"https://colab.research.google.com/assets/colab-badge.svg\" alt=\"Open In Colab\"/></a>"
      ]
    },
    {
      "cell_type": "markdown",
      "source": [
        "# ============= Basic of String ===============\n",
        "\n",
        "1. **Creation of list**"
      ],
      "metadata": {
        "id": "7AcO0wIUj7ai"
      }
    },
    {
      "cell_type": "code",
      "source": [
        "s = \"Hello World\"\n"
      ],
      "metadata": {
        "id": "nkgZVK8ukFVS"
      },
      "execution_count": null,
      "outputs": []
    },
    {
      "cell_type": "markdown",
      "source": [
        "2. **Accessing Characters**\n",
        "   \n"
      ],
      "metadata": {
        "id": "sQYaZ-epkIU4"
      }
    },
    {
      "cell_type": "code",
      "source": [
        "print(s[0])   # 'H' (first char)\n",
        "print(s[-1])  # 'd' (last char)\n"
      ],
      "metadata": {
        "colab": {
          "base_uri": "https://localhost:8080/"
        },
        "id": "YlIrdO0iki_H",
        "outputId": "d0c3da83-0040-4b4c-9e50-570b6c714f90"
      },
      "execution_count": null,
      "outputs": [
        {
          "output_type": "stream",
          "name": "stdout",
          "text": [
            "H\n",
            "d\n"
          ]
        }
      ]
    },
    {
      "cell_type": "markdown",
      "source": [
        "3. **Slicing**\n",
        "        Slicing in Python means extracting a portion of a string (or list) using [start:end:step]\n",
        "\n",
        "        i). start → where to begin (default = start of string)\n",
        "\n",
        "        ii). end → where to stop (default = end of string)\n",
        "\n",
        "        iii). step → how much to move (positive = left→right, negative = right→left)\n",
        "\n",
        "        Ex: s = \"HelloWorld\"\n",
        "            print(s[::-1])         Negative Move\n",
        "            print(s[: : 1])        Positive move\n",
        "\n",
        "        Ex :   s = \"HelloWorld\"\n",
        "               print(s[0:5])   # by defult one positive move\n",
        "          \n",
        "        Here, it takes characters from index 0 to 4 (start inclusive, end exclusive)\n",
        "\n"
      ],
      "metadata": {
        "id": "glxzONx1klp7"
      }
    },
    {
      "cell_type": "code",
      "source": [
        "print(s[0:5])   # 'Hello'\n",
        "print(s[6:])    # 'World'\n",
        "print(s[:])     # 'Hello World' (whole string)\n",
        "print(s[::-1])  # 'dlroW olleH' (reverse)\n",
        "\n",
        "print(s[: : -2])\n"
      ],
      "metadata": {
        "colab": {
          "base_uri": "https://localhost:8080/"
        },
        "id": "a9Mt7J59lbq2",
        "outputId": "4f854bbe-6138-4e77-9ec8-3bfe86c16d99"
      },
      "execution_count": null,
      "outputs": [
        {
          "output_type": "stream",
          "name": "stdout",
          "text": [
            "Hello\n",
            "World\n",
            "Hello World\n",
            "dlroW olleH\n",
            "drWolH\n"
          ]
        }
      ]
    },
    {
      "cell_type": "markdown",
      "source": [
        "4. **Concatenation & Repetition**\n",
        "   \n"
      ],
      "metadata": {
        "id": "TBaH9Nu5kq-Z"
      }
    },
    {
      "cell_type": "code",
      "source": [
        "a = \"Hello\"\n",
        "b = \"World\"\n",
        "print(a + \" \" + b)   # Hello World\n",
        "print(a * 3)         # HelloHelloHello\n"
      ],
      "metadata": {
        "colab": {
          "base_uri": "https://localhost:8080/"
        },
        "id": "khmlCgGhldAJ",
        "outputId": "d2aad248-8452-492a-f268-99e9dfd2f6e5"
      },
      "execution_count": null,
      "outputs": [
        {
          "output_type": "stream",
          "name": "stdout",
          "text": [
            "Hello World\n",
            "HelloHelloHello\n"
          ]
        }
      ]
    },
    {
      "cell_type": "markdown",
      "source": [
        "  5.  **String Comparison** **bold text**\n",
        "   \n"
      ],
      "metadata": {
        "id": "kzR7uaT_krjC"
      }
    },
    {
      "cell_type": "code",
      "source": [
        "print(\"apple\" == \"apple\")   # True\n",
        "print(\"apple\" < \"banana\")   # True\n",
        "print(\"cat\" > \"bat\")        # True\n"
      ],
      "metadata": {
        "colab": {
          "base_uri": "https://localhost:8080/"
        },
        "id": "5rbISAPnldlZ",
        "outputId": "aae3364b-57a3-463a-b6ad-783a1f27c080"
      },
      "execution_count": null,
      "outputs": [
        {
          "output_type": "stream",
          "name": "stdout",
          "text": [
            "True\n",
            "True\n",
            "True\n"
          ]
        }
      ]
    },
    {
      "cell_type": "markdown",
      "source": [
        "6.  **Membership**\n",
        "   \n"
      ],
      "metadata": {
        "id": "KAl9X5scksKU"
      }
    },
    {
      "cell_type": "code",
      "source": [
        "print(\"Hello\" in s)      # True\n",
        "print(\"Hi\" not in s)     # True\n"
      ],
      "metadata": {
        "colab": {
          "base_uri": "https://localhost:8080/"
        },
        "id": "IaBpMVmclfba",
        "outputId": "3ccb4f02-6636-491d-8bc3-a4c326cdf44e"
      },
      "execution_count": null,
      "outputs": [
        {
          "output_type": "stream",
          "name": "stdout",
          "text": [
            "True\n",
            "True\n"
          ]
        }
      ]
    },
    {
      "cell_type": "markdown",
      "source": [
        "# **============== String Methods =============**\n",
        "\n",
        " # 1. Case Conversion"
      ],
      "metadata": {
        "id": "4ETChCL-lBBX"
      }
    },
    {
      "cell_type": "code",
      "source": [
        "print(s.lower())      # hello world\n",
        "print(s.upper())      # HELLO WORLD\n",
        "print(s.title())      # Hello World\n",
        "print(s.capitalize()) # Hello world\n",
        "print(s.swapcase())   # hELLO wORLD\n"
      ],
      "metadata": {
        "colab": {
          "base_uri": "https://localhost:8080/"
        },
        "id": "_8WVcNLMlZUK",
        "outputId": "0e97f7c6-57cd-4d52-bd39-6a3eee5fe773"
      },
      "execution_count": null,
      "outputs": [
        {
          "output_type": "stream",
          "name": "stdout",
          "text": [
            "hello world\n",
            "HELLO WORLD\n",
            "Hello World\n",
            "Hello world\n",
            "hELLO wORLD\n"
          ]
        }
      ]
    },
    {
      "cell_type": "markdown",
      "source": [
        "# 2. Searching"
      ],
      "metadata": {
        "id": "mx5yruwOlBQJ"
      }
    },
    {
      "cell_type": "code",
      "source": [
        "print(s.find(\"World\"))   # 6\n",
        "print(s.index(\"World\"))  # 6\n",
        "print(s.count(\"l\"))      # 3\n"
      ],
      "metadata": {
        "colab": {
          "base_uri": "https://localhost:8080/"
        },
        "id": "1qJg0-mDloI5",
        "outputId": "f3d76621-36ac-4ebc-dd2a-81ba148874e5"
      },
      "execution_count": null,
      "outputs": [
        {
          "output_type": "stream",
          "name": "stdout",
          "text": [
            "6\n",
            "6\n",
            "3\n"
          ]
        }
      ]
    },
    {
      "cell_type": "markdown",
      "source": [
        "# 3. Checking"
      ],
      "metadata": {
        "id": "jkD9u3EQloxF"
      }
    },
    {
      "cell_type": "code",
      "source": [
        "print(s.isalpha())   # False (space bhi hai)\n",
        "print(\"Hello\".isalpha())  # True\n",
        "print(\"123\".isdigit())    # True\n",
        "print(\"hello\".islower())  # True\n",
        "print(\"HELLO\".isupper())  # True\n",
        "print(\"  \".isspace())     # True\n"
      ],
      "metadata": {
        "colab": {
          "base_uri": "https://localhost:8080/"
        },
        "id": "CYqM1Gi3lroA",
        "outputId": "fab1c6a7-3cbe-48e6-83cb-d0f842ba54b9"
      },
      "execution_count": null,
      "outputs": [
        {
          "output_type": "stream",
          "name": "stdout",
          "text": [
            "False\n",
            "True\n",
            "True\n",
            "True\n",
            "True\n",
            "True\n"
          ]
        }
      ]
    },
    {
      "cell_type": "markdown",
      "source": [
        "# 4. Modifying"
      ],
      "metadata": {
        "id": "LwQbJX2DlsBp"
      }
    },
    {
      "cell_type": "code",
      "source": [
        "print(s.replace(\"World\", \"Python\"))  # Hello Python\n",
        "print(\"   hi   \".strip())            # 'hi'\n",
        "print(\"hi\".center(10, \"-\"))          # ---hi-----\n",
        "print(\",\".join([\"a\",\"b\",\"c\"]))       # a,b,c\n",
        "print(\"a,b,c\".split(\",\"))            # ['a','b','c']\n"
      ],
      "metadata": {
        "colab": {
          "base_uri": "https://localhost:8080/"
        },
        "id": "78KcN5qllvaP",
        "outputId": "e07a350b-7f04-4b65-d09c-658f62d5a219"
      },
      "execution_count": null,
      "outputs": [
        {
          "output_type": "stream",
          "name": "stdout",
          "text": [
            "Hello Python\n",
            "hi\n",
            "----hi----\n",
            "a,b,c\n",
            "['a', 'b', 'c']\n"
          ]
        }
      ]
    },
    {
      "cell_type": "markdown",
      "source": [
        " # 5.  String Formatting\n",
        "\n",
        "\n",
        "\n",
        "# Using % Operator (Old Style)\n",
        "  \n",
        "       i). This method uses % followed by a format specifier (e.g., %d for integers, %s for strings) to insert values.\n",
        "\n",
        "# Using str.format() Method (Recommended):**\n",
        "\n",
        "      ii). Here, {} are placeholders, and values are passed using the format() method.\n",
        "\n",
        "\n",
        "# Using f-strings (Python 3.6+):**\n",
        "\n",
        "     iii). The most modern and preferred method. Use {} directly within the  string to embed variables or expressions.\n",
        "\n"
      ],
      "metadata": {
        "id": "br5mMp-YYdsF"
      }
    },
    {
      "cell_type": "code",
      "source": [
        "print(\"Using % Operator (Old Style):\")\n",
        "name =\"Chetan\"\n",
        "age= 25\n",
        "print(\"My name is %s and I am %d years old.\" % (name, age))\n",
        "\n",
        "\n",
        "print(\"\\nUsing str.format() Method (Recommended):\")\n",
        "name = \"Chetan\"\n",
        "age = 25\n",
        "print(\"My name is {} and I am {} years old.\".format(name, age))\n",
        "\n",
        "print(\"\\nUsing f-strings (Python 3.6+)\")\n",
        "name = \"Chetan\"\n",
        "age = 25\n",
        "print(f\"My name is {name} and I am {age} years old.\")\n"
      ],
      "metadata": {
        "colab": {
          "base_uri": "https://localhost:8080/"
        },
        "id": "H3MT5RJ7Zsia",
        "outputId": "b41d54fe-3fd6-4064-e7dd-5242ea699431"
      },
      "execution_count": null,
      "outputs": [
        {
          "output_type": "stream",
          "name": "stdout",
          "text": [
            "Using % Operator (Old Style):\n",
            "My name is Chetan and I am 25 years old.\n",
            "\n",
            "Using str.format() Method (Recommended):\n",
            "My name is Chetan and I am 25 years old.\n",
            "\n",
            "Using f-strings (Python 3.6+)\n",
            "My name is Chetan and I am 25 years old.\n"
          ]
        }
      ]
    },
    {
      "cell_type": "markdown",
      "source": [
        "# 6. Reversing"
      ],
      "metadata": {
        "id": "QQ8LVOnXrxOL"
      }
    },
    {
      "cell_type": "code",
      "source": [
        "print(s[::-1])  # dlroW olleH\n"
      ],
      "metadata": {
        "id": "5RnoSc_Krzr0"
      },
      "execution_count": null,
      "outputs": []
    },
    {
      "cell_type": "markdown",
      "source": [
        "# 7. Length"
      ],
      "metadata": {
        "id": "lOoc12VOr4xm"
      }
    },
    {
      "cell_type": "code",
      "source": [
        "print(len(s))   # 11\n"
      ],
      "metadata": {
        "colab": {
          "base_uri": "https://localhost:8080/"
        },
        "id": "3ybeOPvEr8_n",
        "outputId": "c8a995ff-3339-4bdd-ba77-dd4e804f0054"
      },
      "execution_count": null,
      "outputs": [
        {
          "output_type": "stream",
          "name": "stdout",
          "text": [
            "11\n"
          ]
        }
      ]
    },
    {
      "cell_type": "markdown",
      "source": [
        "# **======== String Comparison operator =========**"
      ],
      "metadata": {
        "id": "t47oC9IOjSDB"
      }
    },
    {
      "cell_type": "markdown",
      "source": [
        "1. Equality"
      ],
      "metadata": {
        "id": "EWpJ927zqUV5"
      }
    },
    {
      "cell_type": "code",
      "source": [
        "print(\" --------- Equality --------- \\n\")\n",
        "\n",
        "a = \"hello\"                   # compare complete string one by one\n",
        "b = \"hell0\"\n",
        "c = \"world\"\n",
        "d=\"hell\"\n",
        "\n",
        "print(a == b)   # True\n",
        "print(a == c)   # False\n",
        "print(a != c)   # True\n",
        "print(a == d)   # False\n"
      ],
      "metadata": {
        "colab": {
          "base_uri": "https://localhost:8080/"
        },
        "id": "BFxOPtaHG6rz",
        "outputId": "341f9b3d-ebb0-49eb-b4c0-2ac799610bc7"
      },
      "execution_count": null,
      "outputs": [
        {
          "output_type": "stream",
          "name": "stdout",
          "text": [
            " --------- Equality --------- \n",
            "\n",
            "False\n",
            "False\n",
            "True\n",
            "False\n"
          ]
        }
      ]
    },
    {
      "cell_type": "markdown",
      "source": [
        "2. Lexicographic Comparison"
      ],
      "metadata": {
        "id": "24-09NZOqar-"
      }
    },
    {
      "cell_type": "code",
      "source": [
        "# Lexicographic comparison means comparing strings in dictionary order, character by character, using their Unicode (ASCII) values\n",
        "\n",
        "print(\" --------- Lexicographic Comparison (Dictionary Order --------- \\n\")\n",
        "\n",
        "print(\"apple\" < \"banana\")   # True (because 'a' < 'b')     check only frist character\n",
        "print(\"grape\" > \"guava\")    # False (because 'r' < 'u')    check first character and go for second (when both first character is equal)\n",
        "print(\"Cat\" < \"cat\")        # True (because ASCII value: 'C'=67, 'c'=99)\n"
      ],
      "metadata": {
        "colab": {
          "base_uri": "https://localhost:8080/"
        },
        "id": "FmloA6KYgBNn",
        "outputId": "5bcfd6ab-16c7-4261-d143-30b19cbcd356"
      },
      "execution_count": null,
      "outputs": [
        {
          "output_type": "stream",
          "name": "stdout",
          "text": [
            " --------- Lexicographic Comparison (Dictionary Order --------- \n",
            "\n",
            "True\n",
            "False\n",
            "True\n"
          ]
        }
      ]
    },
    {
      "cell_type": "markdown",
      "source": [
        "3. Case-Insensitive Comparison"
      ],
      "metadata": {
        "id": "q3VYB6oPqhD4"
      }
    },
    {
      "cell_type": "code",
      "source": [
        "print(\" --------- Case-insensitive Comparison --------- \\n\")\n",
        "\n",
        "a = \"Hello\"\n",
        "b = \"hello\"\n",
        "\n",
        "print(a == b)                 # False\n",
        "print(a.print(\" --------- Case-insensitive Comparison --------- \\n\")\n",
        "\n",
        "a = \"Hello\"\n",
        "b = \"hello\"\n",
        "\n",
        "print(a == b)                 # False\n",
        "print(a.lower() == b.lower()) # True\n",
        "lower() == b.lower()) # True\n"
      ],
      "metadata": {
        "id": "TiA4SmhMgL0s"
      },
      "execution_count": null,
      "outputs": []
    },
    {
      "cell_type": "markdown",
      "source": [
        "4. Sorting with Comparison"
      ],
      "metadata": {
        "id": "F3vsBNFpqrEE"
      }
    },
    {
      "cell_type": "code",
      "source": [
        "print(\" --------- Sorting with Comparison --------- \\n\")\n",
        "\n",
        "words = [\"banana\", \"apple\", \"cherry\"]\n",
        "print(sorted(words))  # ['apple', 'banana', 'cherry']\n",
        "\n"
      ],
      "metadata": {
        "id": "h77VmyYtgU0a"
      },
      "execution_count": null,
      "outputs": []
    },
    {
      "cell_type": "code",
      "source": [],
      "metadata": {
        "id": "U9Ve7lHkipRL"
      },
      "execution_count": null,
      "outputs": []
    }
  ]
}