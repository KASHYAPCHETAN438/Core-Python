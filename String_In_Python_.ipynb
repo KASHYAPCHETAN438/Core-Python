{
  "nbformat": 4,
  "nbformat_minor": 0,
  "metadata": {
    "colab": {
      "provenance": [],
      "authorship_tag": "ABX9TyOQedniyCLXfo0KeDmAbeE0",
      "include_colab_link": true
    },
    "kernelspec": {
      "name": "python3",
      "display_name": "Python 3"
    },
    "language_info": {
      "name": "python"
    }
  },
  "cells": [
    {
      "cell_type": "markdown",
      "metadata": {
        "id": "view-in-github",
        "colab_type": "text"
      },
      "source": [
        "<a href=\"https://colab.research.google.com/github/KASHYAPCHETAN438/Core-Python/blob/main/String_In_Python_.ipynb\" target=\"_parent\"><img src=\"https://colab.research.google.com/assets/colab-badge.svg\" alt=\"Open In Colab\"/></a>"
      ]
    },
    {
      "cell_type": "markdown",
      "source": [
        "# ============= Basic of String ===============\n",
        "\n",
        " # **Creation of list**"
      ],
      "metadata": {
        "id": "7AcO0wIUj7ai"
      }
    },
    {
      "cell_type": "code",
      "source": [
        "\n",
        "\n",
        "\n",
        "s='Hello world'           # String Type '' single Quote\n",
        "print(s)\n",
        "print(type(s))\n",
        "\n",
        "\n",
        "k=\"Double Quote used\"           # String Type \"\"\n",
        "print(\"\\n\",k)\n",
        "print(type(k))\n",
        "\n",
        "\n",
        "j='''Triple Quote used\n",
        "     my name is Ram\n",
        "                    '''                                      # String Type ''''''   allowed multiple line of code\n",
        "print(\"\\n\",j)\n",
        "print(type(j))\n"
      ],
      "metadata": {
        "id": "nkgZVK8ukFVS"
      },
      "execution_count": null,
      "outputs": []
    },
    {
      "cell_type": "markdown",
      "source": [
        " # **Accessing Characters**\n",
        "   \n"
      ],
      "metadata": {
        "id": "sQYaZ-epkIU4"
      }
    },
    {
      "cell_type": "code",
      "source": [
        "print(s[0])   # 'H' (first char)\n",
        "print(s[-1])  # 'd' (last char)\n"
      ],
      "metadata": {
        "colab": {
          "base_uri": "https://localhost:8080/"
        },
        "id": "YlIrdO0iki_H",
        "outputId": "d0c3da83-0040-4b4c-9e50-570b6c714f90"
      },
      "execution_count": null,
      "outputs": [
        {
          "output_type": "stream",
          "name": "stdout",
          "text": [
            "H\n",
            "d\n"
          ]
        }
      ]
    },
    {
      "cell_type": "markdown",
      "source": [
        " # **Slicing**\n",
        "\n",
        "        Slicing in Python means extracting a portion of a string (or list) using [start:end:step]\n",
        "\n",
        "        i). start → where to begin (default = start of string)\n",
        "\n",
        "        ii). end → where to stop (default = end of string)\n",
        "\n",
        "        iii). step → how much to move (positive = left→right, negative = right→left)\n",
        "\n",
        "        Ex: s = \"HelloWorld\"\n",
        "            print(s[::-1])         Negative Move\n",
        "            print(s[: : 1])        Positive move\n",
        "\n",
        "        Ex :   s = \"HelloWorld\"\n",
        "               print(s[0:5])   # by defult one positive move\n",
        "          \n",
        "        Here, it takes characters from index 0 to 4 (start inclusive, end exclusive)\n",
        "\n"
      ],
      "metadata": {
        "id": "glxzONx1klp7"
      }
    },
    {
      "cell_type": "code",
      "source": [
        "print(s[0:5])   # 'Hello'\n",
        "print(s[6:])    # 'World'\n",
        "print(s[:])     # 'Hello World' (whole string)\n",
        "print(s[::-1])  # 'dlroW olleH' (reverse)\n",
        "\n",
        "print(s[: : -2])\n"
      ],
      "metadata": {
        "colab": {
          "base_uri": "https://localhost:8080/"
        },
        "id": "a9Mt7J59lbq2",
        "outputId": "4f854bbe-6138-4e77-9ec8-3bfe86c16d99"
      },
      "execution_count": null,
      "outputs": [
        {
          "output_type": "stream",
          "name": "stdout",
          "text": [
            "Hello\n",
            "World\n",
            "Hello World\n",
            "dlroW olleH\n",
            "drWolH\n"
          ]
        }
      ]
    },
    {
      "cell_type": "markdown",
      "source": [
        "# **Concatenation & Repetition**\n",
        "   \n"
      ],
      "metadata": {
        "id": "TBaH9Nu5kq-Z"
      }
    },
    {
      "cell_type": "code",
      "source": [
        "a = \"Hello\"\n",
        "b = \"World\"\n",
        "print(a + \" \" + b)   # Hello World\n",
        "print(a * 3)         # HelloHelloHello\n"
      ],
      "metadata": {
        "colab": {
          "base_uri": "https://localhost:8080/"
        },
        "id": "khmlCgGhldAJ",
        "outputId": "d2aad248-8452-492a-f268-99e9dfd2f6e5"
      },
      "execution_count": null,
      "outputs": [
        {
          "output_type": "stream",
          "name": "stdout",
          "text": [
            "Hello World\n",
            "HelloHelloHello\n"
          ]
        }
      ]
    },
    {
      "cell_type": "markdown",
      "source": [
        "#  **String Comparison**\n",
        "   \n"
      ],
      "metadata": {
        "id": "kzR7uaT_krjC"
      }
    },
    {
      "cell_type": "code",
      "source": [
        "print(\"apple\" == \"apple\")   # True\n",
        "print(\"apple\" < \"banana\")   # True\n",
        "print(\"cat\" > \"bat\")        # True\n"
      ],
      "metadata": {
        "colab": {
          "base_uri": "https://localhost:8080/"
        },
        "id": "5rbISAPnldlZ",
        "outputId": "aae3364b-57a3-463a-b6ad-783a1f27c080"
      },
      "execution_count": null,
      "outputs": [
        {
          "output_type": "stream",
          "name": "stdout",
          "text": [
            "True\n",
            "True\n",
            "True\n"
          ]
        }
      ]
    },
    {
      "cell_type": "markdown",
      "source": [
        "#  **Membership**\n",
        "   \n"
      ],
      "metadata": {
        "id": "KAl9X5scksKU"
      }
    },
    {
      "cell_type": "code",
      "source": [
        "print(\"Hello\" in s)      # True\n",
        "print(\"Hi\" not in s)     # True\n"
      ],
      "metadata": {
        "colab": {
          "base_uri": "https://localhost:8080/"
        },
        "id": "IaBpMVmclfba",
        "outputId": "3ccb4f02-6636-491d-8bc3-a4c326cdf44e"
      },
      "execution_count": null,
      "outputs": [
        {
          "output_type": "stream",
          "name": "stdout",
          "text": [
            "True\n",
            "True\n"
          ]
        }
      ]
    },
    {
      "cell_type": "markdown",
      "source": [
        "# **======== String Methods =========**\n",
        "\n"
      ],
      "metadata": {
        "id": "4ETChCL-lBBX"
      }
    },
    {
      "cell_type": "markdown",
      "source": [
        "# 1. upper()/ lower() :\n",
        "    \n",
        "       * It is used to capitalize or convert all the characters into small case by using these functions\n",
        "        ob= str.upper()\n",
        "        ob= str.lower()\n"
      ],
      "metadata": {
        "id": "MEnTG8NQhxWj"
      }
    },
    {
      "cell_type": "code",
      "source": [
        "s = \"Hello World\"\n",
        "print(s.upper())   # \"HELLO WORLD\"\n",
        "print(s.lower())   # \"hello world\"\n"
      ],
      "metadata": {
        "colab": {
          "base_uri": "https://localhost:8080/"
        },
        "id": "NmlUA4udmu1U",
        "outputId": "fa54018e-0f85-47ee-dccd-44ad9cef63de"
      },
      "execution_count": 2,
      "outputs": [
        {
          "output_type": "stream",
          "name": "stdout",
          "text": [
            "HELLO WORLD\n",
            "hello world\n"
          ]
        }
      ]
    },
    {
      "cell_type": "markdown",
      "source": [
        "\n",
        "# 2. strip(), lstrip(), rstrip() :\n",
        "\n",
        "        * strip() functions is used to remove all the leading and trailing spaces from a string.\n",
        "        * lstrip() : removes only left side spaces\n",
        "        * rstrip() : removes only right side spaces\n",
        "\n"
      ],
      "metadata": {
        "id": "vimYISXhmvNz"
      }
    },
    {
      "cell_type": "code",
      "source": [
        "s = \"   Mohit   \"\n",
        "print(s.strip())   # \"Mohit\"\n",
        "print(s.lstrip())  # \"Mohit   \"\n",
        "print(s.rstrip())  # \"   Mohit\"\n"
      ],
      "metadata": {
        "colab": {
          "base_uri": "https://localhost:8080/"
        },
        "id": "Yy2M6ifkmvfD",
        "outputId": "e0d4275a-2ede-414f-a02b-645f8d562033"
      },
      "execution_count": 3,
      "outputs": [
        {
          "output_type": "stream",
          "name": "stdout",
          "text": [
            "Mohit\n",
            "Mohit   \n",
            "   Mohit\n"
          ]
        }
      ]
    },
    {
      "cell_type": "markdown",
      "source": [
        "# 3. replace() :\n",
        "  \n",
        "       * this functions will replace all the occurrences of a particular word/character with new word/character in the string.\n",
        "         ob = str.replace(oldvalue, newvalue)\n",
        "\n"
      ],
      "metadata": {
        "id": "iTtPosN_mvu3"
      }
    },
    {
      "cell_type": "code",
      "source": [
        "s = \"I like Java\"\n",
        "print(s.replace(\"Java\", \"Python\"))   # \"I like Python\"\n"
      ],
      "metadata": {
        "colab": {
          "base_uri": "https://localhost:8080/"
        },
        "id": "gmRTG2BPmwBn",
        "outputId": "77b81835-d303-47a7-b16d-02be7c6bf0f8"
      },
      "execution_count": 4,
      "outputs": [
        {
          "output_type": "stream",
          "name": "stdout",
          "text": [
            "I like Python\n"
          ]
        }
      ]
    },
    {
      "cell_type": "markdown",
      "source": [
        "# 4. split() :\n",
        "\n",
        "       * It is used to split a string into multiple parts and returns a list of elements according to the given delimiter/separator.\n",
        "       * By default split function has space as delimiter.\n",
        "       * If you want to separate a string by using any other separator or delimiter, then you need to specify it while using split function.\n",
        "\n",
        "        syntax : str.split(sep=\" \", maxsplit=-1)\n",
        "       \n",
        "       * sep= : separator by using which we can separate a string into a list of elements.\n",
        "                it can be any character or word.\n",
        "\n",
        "       * maxsplit: it is the max number of splits we need in our string.\n",
        "                    By default value of maxsplit is -1 which means no limit on number of splits.\n",
        "\n",
        "\n"
      ],
      "metadata": {
        "id": "E-m3YO0mmwhE"
      }
    },
    {
      "cell_type": "code",
      "source": [
        "s = \"apple,banana,grapes\"\n",
        "print(s.split(\",\"))    # ['apple', 'banana', 'grapes']\n"
      ],
      "metadata": {
        "colab": {
          "base_uri": "https://localhost:8080/"
        },
        "id": "FQQqI_CSmwwW",
        "outputId": "01a154e7-765d-41cb-c91b-7f66c5858978"
      },
      "execution_count": 5,
      "outputs": [
        {
          "output_type": "stream",
          "name": "stdout",
          "text": [
            "['apple', 'banana', 'grapes']\n"
          ]
        }
      ]
    },
    {
      "cell_type": "markdown",
      "source": [
        "# 5. join() :\n",
        "\n",
        "       * This function is used to join the elements in the iterable into a single string, using the given string as a separator.\n",
        "\n",
        "        Syntax :  var = separator.join(iterable)\n",
        "\n",
        "       * separator: a string or character which is used to separate words in a string is a separator.\n",
        "       * iterable : it is the list of elements which we want to split or join like listob, tuple, set array etc.\n",
        "\n"
      ],
      "metadata": {
        "id": "qGHp1C82mxd-"
      }
    },
    {
      "cell_type": "code",
      "source": [
        "words = ['I', 'love', 'Python']\n",
        "print(\" \".join(words))   # \"I love Python\"\n"
      ],
      "metadata": {
        "colab": {
          "base_uri": "https://localhost:8080/"
        },
        "id": "3jtin2jTmxsT",
        "outputId": "21f590de-84fb-4c56-c758-0957159ea1a0"
      },
      "execution_count": 6,
      "outputs": [
        {
          "output_type": "stream",
          "name": "stdout",
          "text": [
            "I love Python\n"
          ]
        }
      ]
    },
    {
      "cell_type": "markdown",
      "source": [
        "# 6. find() :\n",
        "\n",
        "       * It is used to fetch an elements,sub-string, character in the given string.\n",
        "       * It returns the index of the first occurrence of the string.\n",
        "       * if the search value is not there in the string,then it returns the -1.\n",
        "\n",
        "        syntax:-  str.find(substring, start=0, end=-1)\n",
        "\n",
        "       * start = 0 : means the search will start from 0 index by default. otherwise you can also provide a value for start. In that case, search will start from given index value.\n",
        "\n",
        "       * end=-1 : it means to fetch the given substring until the given end index. By default end=-1, which means it will fetch the value in the entire length of the string.\n",
        "\n",
        "\n"
      ],
      "metadata": {
        "id": "YUm0NmQzmx6c"
      }
    },
    {
      "cell_type": "code",
      "source": [
        "s = \"Python is fun\"\n",
        "print(s.find(\"is\"))     # 7\n",
        "print(s.find(\"Java\"))   # -1\n"
      ],
      "metadata": {
        "colab": {
          "base_uri": "https://localhost:8080/"
        },
        "id": "rOlLjBWUmyKD",
        "outputId": "754028e3-0bc3-407d-cf6c-392e64db9815"
      },
      "execution_count": 7,
      "outputs": [
        {
          "output_type": "stream",
          "name": "stdout",
          "text": [
            "7\n",
            "-1\n"
          ]
        }
      ]
    },
    {
      "cell_type": "markdown",
      "source": [
        "# 7. count() :\n",
        "\n",
        "       * It is used to count the number of occurrences of a substring in the string.\n",
        "    \n",
        "          syntax:  str.count(substring, start=0, end=-1)\n",
        "\n",
        "        * start=0: means the search will start from 0 index by default. otherwise you can also provide a value for start. In that case, search will start from given index value.\n",
        "\n",
        "        * end=-1 : it means to fetch the given substring until the given end index. By default end=-1, which means it will fetch the value in the entire length of the string\n",
        "\n"
      ],
      "metadata": {
        "id": "fwQ-BC1NnT4z"
      }
    },
    {
      "cell_type": "code",
      "source": [
        "s = \"banana\"\n",
        "print(s.count(\"a\"))   # 3\n"
      ],
      "metadata": {
        "colab": {
          "base_uri": "https://localhost:8080/"
        },
        "id": "xRp4F84qnUH1",
        "outputId": "2c666b55-8e2a-4015-d133-baa63383d74a"
      },
      "execution_count": 8,
      "outputs": [
        {
          "output_type": "stream",
          "name": "stdout",
          "text": [
            "3\n"
          ]
        }
      ]
    },
    {
      "cell_type": "markdown",
      "source": [
        "# 8. startswith()/ endswith()\n",
        "\n",
        "        * startswith(): it returns true if the string is starting with the given prefix, otherwise it returns false. in starts with function it starts checking from 0 index.\n",
        "\n",
        "        * endswith(): it returns true if the string is ending with given suffix/substring, otherwise it returns false. in this function, it starts checking from last index and goes into reverse.\n",
        "\n",
        "\n"
      ],
      "metadata": {
        "id": "-L-MgTgwnUWO"
      }
    },
    {
      "cell_type": "code",
      "source": [
        "s = \"hello.py\"\n",
        "print(s.startswith(\"he\"))   # True\n",
        "print(s.endswith(\".py\"))    # True\n"
      ],
      "metadata": {
        "colab": {
          "base_uri": "https://localhost:8080/"
        },
        "id": "vUPDZunsnUjk",
        "outputId": "9e394d1f-d715-4582-be7d-6988212ee3d4"
      },
      "execution_count": 9,
      "outputs": [
        {
          "output_type": "stream",
          "name": "stdout",
          "text": [
            "True\n",
            "True\n"
          ]
        }
      ]
    },
    {
      "cell_type": "markdown",
      "source": [
        "# 9. isalpha()/ isdigit()/islower()/isupper()/isalnum()\n",
        "\n",
        "      * these functions are used to check their particular value and  \n",
        "      * returns true if the value is found, otherwise returns false."
      ],
      "metadata": {
        "id": "S90xfLqOnU3w"
      }
    },
    {
      "cell_type": "code",
      "source": [
        "print(\"Mohit\".isalpha())   # True  (only letters)\n",
        "print(\"1234\".isdigit())    # True  (only digits)\n",
        "print(\"hello\".islower())   # True\n",
        "print(\"HELLO\".isupper())   # True\n",
        "print(\"Mohit123\".isalnum()) # True (letters + digits, no space/special char)\n"
      ],
      "metadata": {
        "colab": {
          "base_uri": "https://localhost:8080/"
        },
        "id": "fp2hZ_jTnVFn",
        "outputId": "16f7b6da-71fc-482a-99cb-45ecb08ce32b"
      },
      "execution_count": 10,
      "outputs": [
        {
          "output_type": "stream",
          "name": "stdout",
          "text": [
            "True\n",
            "True\n",
            "True\n",
            "True\n",
            "True\n"
          ]
        }
      ]
    },
    {
      "cell_type": "markdown",
      "source": [
        " # 10.  String Formatting\n",
        "\n",
        "\n",
        "\n",
        "*  Using % Operator (Old Style)\n",
        "  \n",
        "       i). This method uses % followed by a format specifier (e.g., %d for integers, %s for strings) to insert values.\n",
        "\n",
        "* Using str.format() Method (Recommended):*\n",
        "\n",
        "      ii). Here, {} are placeholders, and values are passed using the format() method.\n",
        "\n",
        "\n",
        "* Using f-strings (Python 3.6+):\n",
        "\n",
        "      iii). The most modern and preferred method. Use {} directly within the  string to embed variables or expressions.\n",
        "\n"
      ],
      "metadata": {
        "id": "dSl70UPiorpL"
      }
    },
    {
      "cell_type": "code",
      "source": [
        "print(\"Using % Operator (Old Style):\")\n",
        "name =\"Chetan\"\n",
        "age= 25\n",
        "print(\"My name is %s and I am %d years old.\" % (name, age))\n",
        "\n",
        "\n",
        "print(\"\\nUsing str.format() Method (Recommended):\")\n",
        "name = \"Chetan\"\n",
        "age = 25\n",
        "print(\"My name is {} and I am {} years old.\".format(name, age))\n",
        "\n",
        "print(\"\\nUsing f-strings (Python 3.6+)\")\n",
        "name = \"Chetan\"\n",
        "age = 25\n",
        "print(f\"My name is {name} and I am {age} years old.\")\n"
      ],
      "metadata": {
        "colab": {
          "base_uri": "https://localhost:8080/"
        },
        "id": "8cC80738q4vK",
        "outputId": "ce7a4edd-0cdc-4553-981e-192b87c69ee1"
      },
      "execution_count": 12,
      "outputs": [
        {
          "output_type": "stream",
          "name": "stdout",
          "text": [
            "Using % Operator (Old Style):\n",
            "My name is Chetan and I am 25 years old.\n",
            "\n",
            "Using str.format() Method (Recommended):\n",
            "My name is Chetan and I am 25 years old.\n",
            "\n",
            "Using f-strings (Python 3.6+)\n",
            "My name is Chetan and I am 25 years old.\n"
          ]
        }
      ]
    },
    {
      "cell_type": "markdown",
      "source": [
        "# 10. Lenght\n"
      ],
      "metadata": {
        "id": "MKfpE6kvrXfB"
      }
    },
    {
      "cell_type": "code",
      "source": [
        "\n",
        "st=\"Hello delhi\"\n",
        "print(len(st))   # 11"
      ],
      "metadata": {
        "colab": {
          "base_uri": "https://localhost:8080/"
        },
        "id": "6vW1MWGrreyL",
        "outputId": "4ce04ab3-23a5-4f7f-bebd-9935190da811"
      },
      "execution_count": 15,
      "outputs": [
        {
          "output_type": "stream",
          "name": "stdout",
          "text": [
            "11\n"
          ]
        }
      ]
    },
    {
      "cell_type": "markdown",
      "source": [
        "# **======== String Comparison operator =========**"
      ],
      "metadata": {
        "id": "t47oC9IOjSDB"
      }
    },
    {
      "cell_type": "markdown",
      "source": [
        "# 1. Equality"
      ],
      "metadata": {
        "id": "EWpJ927zqUV5"
      }
    },
    {
      "cell_type": "code",
      "source": [
        "print(\" --------- Equality --------- \\n\")\n",
        "\n",
        "a = \"hello\"                   # compare complete string one by one\n",
        "b = \"hell0\"\n",
        "c = \"world\"\n",
        "d=\"hell\"\n",
        "\n",
        "print(a == b)   # True\n",
        "print(a == c)   # False\n",
        "print(a != c)   # True\n",
        "print(a == d)   # False\n"
      ],
      "metadata": {
        "colab": {
          "base_uri": "https://localhost:8080/"
        },
        "id": "BFxOPtaHG6rz",
        "outputId": "341f9b3d-ebb0-49eb-b4c0-2ac799610bc7"
      },
      "execution_count": null,
      "outputs": [
        {
          "output_type": "stream",
          "name": "stdout",
          "text": [
            " --------- Equality --------- \n",
            "\n",
            "False\n",
            "False\n",
            "True\n",
            "False\n"
          ]
        }
      ]
    },
    {
      "cell_type": "markdown",
      "source": [
        "# 2. Lexicographic Comparison"
      ],
      "metadata": {
        "id": "24-09NZOqar-"
      }
    },
    {
      "cell_type": "code",
      "source": [
        "# Lexicographic comparison means comparing strings in dictionary order, character by character, using their Unicode (ASCII) values\n",
        "\n",
        "print(\" --------- Lexicographic Comparison (Dictionary Order --------- \\n\")\n",
        "\n",
        "print(\"apple\" < \"banana\")   # True (because 'a' < 'b')     check only frist character\n",
        "print(\"grape\" > \"guava\")    # False (because 'r' < 'u')    check first character and go for second (when both first character is equal)\n",
        "print(\"Cat\" < \"cat\")        # True (because ASCII value: 'C'=67, 'c'=99)\n"
      ],
      "metadata": {
        "colab": {
          "base_uri": "https://localhost:8080/"
        },
        "id": "FmloA6KYgBNn",
        "outputId": "6b0c8cba-8439-436d-ca2b-d601107c2104"
      },
      "execution_count": 13,
      "outputs": [
        {
          "output_type": "stream",
          "name": "stdout",
          "text": [
            " --------- Lexicographic Comparison (Dictionary Order --------- \n",
            "\n",
            "True\n",
            "False\n",
            "True\n"
          ]
        }
      ]
    },
    {
      "cell_type": "markdown",
      "source": [
        "# 3. Case-Insensitive Comparison"
      ],
      "metadata": {
        "id": "q3VYB6oPqhD4"
      }
    },
    {
      "cell_type": "code",
      "source": [
        "print(\" --------- Case-insensitive Comparison --------- \\n\")\n",
        "\n",
        "a = \"Hello\"\n",
        "b = \"hello\"\n",
        "\n",
        "print(a == b)                 # False\n",
        "print(a.print(\" --------- Case-insensitive Comparison --------- \\n\")\n",
        "\n",
        "a = \"Hello\"\n",
        "b = \"hello\"\n",
        "\n",
        "print(a == b)                 # False\n",
        "print(a.lower() == b.lower()) # True\n",
        "lower() == b.lower()) # True\n"
      ],
      "metadata": {
        "id": "TiA4SmhMgL0s"
      },
      "execution_count": null,
      "outputs": []
    },
    {
      "cell_type": "markdown",
      "source": [
        "# 4. Sorting with Comparison"
      ],
      "metadata": {
        "id": "F3vsBNFpqrEE"
      }
    },
    {
      "cell_type": "code",
      "source": [
        "print(\" --------- Sorting with Comparison --------- \\n\")\n",
        "\n",
        "words = [\"banana\", \"apple\", \"cherry\"]\n",
        "print(sorted(words))  # ['apple', 'banana', 'cherry']\n",
        "\n"
      ],
      "metadata": {
        "id": "h77VmyYtgU0a"
      },
      "execution_count": null,
      "outputs": []
    },
    {
      "cell_type": "markdown",
      "source": [
        "# **------- String Common Operation --------**"
      ],
      "metadata": {
        "id": "hoNVlwKpmoDp"
      }
    },
    {
      "cell_type": "markdown",
      "source": [
        " # 1. Case Conversion"
      ],
      "metadata": {
        "id": "p_VzJJd1iQm-"
      }
    },
    {
      "cell_type": "code",
      "source": [
        "print(s.lower())      # hello world\n",
        "print(s.upper())      # HELLO WORLD\n",
        "print(s.title())      # Hello World\n",
        "print(s.capitalize()) # Hello world\n",
        "print(s.swapcase())   # hELLO wORLD\n"
      ],
      "metadata": {
        "colab": {
          "base_uri": "https://localhost:8080/"
        },
        "id": "_8WVcNLMlZUK",
        "outputId": "0e97f7c6-57cd-4d52-bd39-6a3eee5fe773"
      },
      "execution_count": null,
      "outputs": [
        {
          "output_type": "stream",
          "name": "stdout",
          "text": [
            "hello world\n",
            "HELLO WORLD\n",
            "Hello World\n",
            "Hello world\n",
            "hELLO wORLD\n"
          ]
        }
      ]
    },
    {
      "cell_type": "markdown",
      "source": [
        "# 2. Searching"
      ],
      "metadata": {
        "id": "mx5yruwOlBQJ"
      }
    },
    {
      "cell_type": "code",
      "source": [
        "print(s.find(\"World\"))   # 6\n",
        "print(s.index(\"World\"))  # 6\n",
        "print(s.count(\"l\"))      # 3\n"
      ],
      "metadata": {
        "colab": {
          "base_uri": "https://localhost:8080/"
        },
        "id": "1qJg0-mDloI5",
        "outputId": "f3d76621-36ac-4ebc-dd2a-81ba148874e5"
      },
      "execution_count": null,
      "outputs": [
        {
          "output_type": "stream",
          "name": "stdout",
          "text": [
            "6\n",
            "6\n",
            "3\n"
          ]
        }
      ]
    },
    {
      "cell_type": "markdown",
      "source": [
        "# 3. Checking"
      ],
      "metadata": {
        "id": "jkD9u3EQloxF"
      }
    },
    {
      "cell_type": "code",
      "source": [
        "print(s.isalpha())   # False (space bhi hai)\n",
        "print(\"Hello\".isalpha())  # True\n",
        "print(\"123\".isdigit())    # True\n",
        "print(\"hello\".islower())  # True\n",
        "print(\"HELLO\".isupper())  # True\n",
        "print(\"  \".isspace())     # True\n"
      ],
      "metadata": {
        "colab": {
          "base_uri": "https://localhost:8080/"
        },
        "id": "CYqM1Gi3lroA",
        "outputId": "fab1c6a7-3cbe-48e6-83cb-d0f842ba54b9"
      },
      "execution_count": null,
      "outputs": [
        {
          "output_type": "stream",
          "name": "stdout",
          "text": [
            "False\n",
            "True\n",
            "True\n",
            "True\n",
            "True\n",
            "True\n"
          ]
        }
      ]
    },
    {
      "cell_type": "markdown",
      "source": [
        "# 4. Modifying"
      ],
      "metadata": {
        "id": "LwQbJX2DlsBp"
      }
    },
    {
      "cell_type": "code",
      "source": [
        "print(s.replace(\"World\", \"Python\"))  # Hello Python\n",
        "print(\"   hi   \".strip())            # 'hi'\n",
        "print(\"hi\".center(10, \"-\"))          # ---hi-----\n",
        "print(\",\".join([\"a\",\"b\",\"c\"]))       # a,b,c\n",
        "print(\"a,b,c\".split(\",\"))            # ['a','b','c']\n"
      ],
      "metadata": {
        "colab": {
          "base_uri": "https://localhost:8080/"
        },
        "id": "78KcN5qllvaP",
        "outputId": "e07a350b-7f04-4b65-d09c-658f62d5a219"
      },
      "execution_count": null,
      "outputs": [
        {
          "output_type": "stream",
          "name": "stdout",
          "text": [
            "Hello Python\n",
            "hi\n",
            "----hi----\n",
            "a,b,c\n",
            "['a', 'b', 'c']\n"
          ]
        }
      ]
    },
    {
      "cell_type": "markdown",
      "source": [
        "# 5. Reversing"
      ],
      "metadata": {
        "id": "QQ8LVOnXrxOL"
      }
    },
    {
      "cell_type": "code",
      "source": [
        "print(s[::-1])  # dlroW olleH\n"
      ],
      "metadata": {
        "id": "5RnoSc_Krzr0"
      },
      "execution_count": null,
      "outputs": []
    },
    {
      "cell_type": "markdown",
      "source": [
        "# 6. Length"
      ],
      "metadata": {
        "id": "lOoc12VOr4xm"
      }
    },
    {
      "cell_type": "code",
      "source": [
        "print(len(s))   # 11\n"
      ],
      "metadata": {
        "colab": {
          "base_uri": "https://localhost:8080/"
        },
        "id": "3ybeOPvEr8_n",
        "outputId": "c8a995ff-3339-4bdd-ba77-dd4e804f0054"
      },
      "execution_count": null,
      "outputs": [
        {
          "output_type": "stream",
          "name": "stdout",
          "text": [
            "11\n"
          ]
        }
      ]
    }
  ]
}