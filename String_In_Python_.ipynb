# ===============================
#   STRING OPERATIONS IN PYTHON
# ===============================

s = "Hello World"

# ----- Indexing -----
print(s[0])    # 'H' (first char)
print(s[-1])   # 'd' (last char)

# ----- Slicing -----
print(s[0:5])   # 'Hello'   (0 to 4)
print(s[6:])    # 'World'   (6 to end)
print(s[:])     # 'Hello World' (whole string)
print(s[::-1])  # 'dlroW olleH' (reverse)
print(s[::-2])  # 'drWolH' (reverse skipping every 2nd char)

# ----- Concatenation & Repetition -----
a = "Hello"
b = "World"
print(a + " " + b)   # 'Hello World'
print(a * 3)         # 'HelloHelloHello'

# ----- Comparison -----
print("apple" == "apple")   # True
print("apple" < "banana")   # True (dictionary order)
print("cat" > "bat")        # True

# ----- Membership -----
print("Hello" in s)   # True
print("Hi" not in s)  # True

# ----- Case Methods -----
print(s.lower())      # hello world
print(s.upper())      # HELLO WORLD
print(s.title())      # Hello World
print(s.capitalize()) # Hello world
print(s.swapcase())   # hELLO wORLD

# ----- Searching -----
print(s.find("World"))   # 6   (returns -1 if not found)
print(s.index("World"))  # 6   (throws error if not found)
print(s.count("l"))      # 3

# ----- Checking Type -----
print(s.isalpha())        # False (space included)
print("Hello".isalpha())  # True
print("123".isdigit())    # True
print("hello".islower())  # True
print("HELLO".isupper())  # True
print("   ".isspace())    # True

# ----- Modification -----
print(s.replace("World", "Python"))  # 'Hello Python'
print("   hi   ".strip())            # 'hi'
print("hi".center(10, "-"))          # '---hi-----'
print(",".join(["a","b","c"]))       # 'a,b,c'
print("a,b,c".split(","))            # ['a','b','c']

# ----- String Formatting -----
print("Using % Operator (Old Style):")
name = "Chetan"
age = 25
print("My name is %s and I am %d years old." % (name, age))

print("\nUsing str.format() Method (Recommended):")
print("My name is {} and I am {} years old.".format(name, age))

print("\nUsing f-strings (Python 3.6+):")
print(f"My name is {name} and I am {age} years old.")

# ----- Length -----
print(len(s))   # 11

# ==================================
#   String Comparisons in Detail
# ==================================

print("\n --------- Equality --------- \n")

a = "hello"
b = "hell0"
c = "world"
d = "hell"

print(a == b)   # False (o != 0)
print(a == c)   # False
print(a != c)   # True
print(a == d)   # False

# Lexicographic (Dictionary Order)
print("\n --------- Lexicographic Comparison --------- \n")

print("apple" < "banana")   # True ('a' < 'b')
print("grape" > "guava")    # False ('r' < 'u')
print("Cat" < "cat")        # True ('C'=67, 'c'=99 in ASCII)

# Case-insensitive Comparison
print("\n --------- Case-insensitive Comparison --------- \n")
a = "Hello"
b = "hello"
print(a == b)                 # False
print(a.lower() == b.lower()) # True

# Sorting
print("\n --------- Sorting --------- \n")
words = ["banana", "apple", "cherry"]
print(sorted(words))  # ['apple', 'banana', 'cherry']
