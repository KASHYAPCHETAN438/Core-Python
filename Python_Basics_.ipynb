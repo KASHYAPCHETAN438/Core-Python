{
  "cells": [
    {
      "cell_type": "markdown",
      "metadata": {
        "id": "view-in-github",
        "colab_type": "text"
      },
      "source": [
        "<a href=\"https://colab.research.google.com/github/KASHYAPCHETAN438/Core-Python/blob/main/Python_Basics_.ipynb\" target=\"_parent\"><img src=\"https://colab.research.google.com/assets/colab-badge.svg\" alt=\"Open In Colab\"/></a>"
      ]
    },
    {
      "cell_type": "markdown",
      "metadata": {
        "id": "7NhA5MhQr-Lc"
      },
      "source": [
        "**INTRODUCTION OF PYTHON**\n",
        "\n",
        "* High-level Language: Python is a simple, easy-to-read, and powerful programming language used for web development, data science, AI, automation, etc.\n",
        "\n",
        "* Interpreted & Dynamically Typed: No need to compile, and you don’t declare data types explicitly.\n",
        "\n",
        "* Beginner-Friendly: Uses simple syntax like English, which makes it easier to learn.\n",
        "\n",
        "\n",
        "\n",
        "\n",
        "\n"
      ]
    },
    {
      "cell_type": "markdown",
      "metadata": {
        "id": "tLiDmVw40oFK"
      },
      "source": [
        "# print() Method :\n",
        "\n",
        "* Purpose: Used to display output on the screen.\n",
        "\n",
        "* Arguments:\n",
        "\n",
        "      objects → values to print\n",
        "\n",
        "      sep → separate two or more string or value (default = space \" \")\n",
        "\n",
        "      end → string added after output (default = newline \\n)"
      ]
    },
    {
      "cell_type": "code",
      "execution_count": null,
      "metadata": {
        "colab": {
          "background_save": true,
          "base_uri": "https://localhost:8080/"
        },
        "id": "RiQhBR9n05OW",
        "outputId": "241f41b9-4560-45f6-b4fe-29569b1bd082"
      },
      "outputs": [
        {
          "name": "stdout",
          "output_type": "stream",
          "text": [
            "Hello-World!!hello mohit\n"
          ]
        }
      ],
      "source": [
        "print(\"Hello\", \"World\", sep=\"-\", end=\"!!\")   # By default sep is space (\" \")  and end is next line (\"\\n\")\n",
        "\n",
        "print()"
      ]
    },
    {
      "cell_type": "markdown",
      "metadata": {
        "id": "BBW9L5GD1iWe"
      },
      "source": [
        "# input() Method :\n",
        "\n",
        "* Purpose: Used to take input from the user (always returns data as a string).\n",
        "\n",
        "* Arguments:\n",
        "\n",
        "      prompt → message shown to the user before input."
      ]
    },
    {
      "cell_type": "code",
      "execution_count": null,
      "metadata": {
        "colab": {
          "base_uri": "https://localhost:8080/"
        },
        "id": "OFf7zGjQ1qWM",
        "outputId": "f8ef3ed0-a20a-47b9-81d3-df8a59e08f7b"
      },
      "outputs": [
        {
          "name": "stdout",
          "output_type": "stream",
          "text": [
            "Enter your name: Ram\n",
            "Welcome, Ram\n"
          ]
        }
      ],
      "source": [
        "name = input(\"Enter your name: \")\n",
        "print(\"Welcome,\", name)\n"
      ]
    },
    {
      "cell_type": "markdown",
      "metadata": {
        "id": "IMsAjkfNzeXa"
      },
      "source": [
        "# Topic going to cover\n",
        "\n",
        "1.   Variable\n",
        "2.   Data type\n",
        "3.   Operator\n",
        "4.   Conditional Statement"
      ]
    },
    {
      "cell_type": "markdown",
      "metadata": {
        "id": "pyfDSd8m1bnE"
      },
      "source": []
    },
    {
      "cell_type": "markdown",
      "metadata": {
        "id": "JpS1yo0XtfFr"
      },
      "source": [
        "============ Variable ==============\n",
        "\n",
        "It like a container or a label for data.\n",
        "which refer the chunks of memory block\n",
        "\n",
        "In python variable is dyamically type so we don't need Specifie it's type"
      ]
    },
    {
      "cell_type": "markdown",
      "metadata": {
        "id": "qP5NlXoEt6PC"
      },
      "source": [
        "Allowed:\n",
        "\n",
        "* Letters: a-z, A-Z\n",
        "\n",
        "* Digits: 0-9 (but start me digit nahi aa sakta)\n",
        "\n",
        "* Underscore (_): variable name underscore se start ya beech me ho sakta hai.\n",
        "\n",
        "\n",
        "Not Allowed:\n",
        "\n",
        "* Digit se start\n",
        "\n",
        "    1name = \"abc\"      ❌\n",
        "\n",
        "* Special symbols (@, #, $, %, etc.)\n",
        "\n",
        "   na@me = \"abc\"      ❌  \n",
        "\n",
        "Python keywords (reserved words)\n",
        "\n",
        "* Keywords are special words Python already uses for its syntax, so unhe variable name nahi bana sakte.\n",
        "\n",
        "    Example keywords: if, for, while, class, True, False, None, def, return...\n",
        "\n",
        "      if = 5          ❌\n",
        "      class = \"A\"     ❌\n",
        "\n",
        "\n",
        "# Types of variable\n",
        "1. Local Variable\n",
        "\n",
        "    * Defined inside a function.\n",
        "\n",
        "    * Can be used only inside that function.\n",
        "\n",
        "2. Global Variable\n",
        "\n",
        "    * Declared outside of all functions.\n",
        "\n",
        "    * Accessible in the whole program.\n",
        "\n",
        "3. Nonlocal Variable\n",
        "\n",
        "    * Used inside nested functions.\n",
        "\n",
        "    * Refers to the variable of the nearest enclosing (outer) function.\n",
        "\n",
        "4. Instance Variable\n",
        "\n",
        "    * Belongs to an object (instance of a class).\n",
        "\n",
        "    * Defined inside __init__ using self.\n",
        "\n",
        "5. Class (or Static) Variable\n",
        "\n",
        "    * Shared by all objects of the class.\n",
        "\n",
        "    * Defined inside the class but outside any method."
      ]
    },
    {
      "cell_type": "code",
      "execution_count": null,
      "metadata": {
        "id": "J0d5uzVEr9M-",
        "colab": {
          "base_uri": "https://localhost:8080/"
        },
        "outputId": "8b6e925b-0691-4729-bf05-3734f3006b95"
      },
      "outputs": [
        {
          "output_type": "stream",
          "name": "stdout",
          "text": [
            "Local variable: 10\n",
            "\n",
            "Global variable inside function: 20\n",
            "Global variable outside function: 20\n",
            "\n",
            "Initially in outer(): outer\n",
            "Nonlocal variable in inner(): changed\n",
            "After inner() call in outer(): changed\n",
            "\n",
            "Class variable via s1 & s2: DSEU , DSEU\n",
            "Instance variable: Mohit , Chetan\n"
          ]
        }
      ],
      "source": [
        "# ❌ Wrong variable names example\n",
        "# 1a = \"name\"    # Error: variable name can't start with digit\n",
        "# if = 5         # Error: can't use keywords as variable name\n",
        "# class = \"A\"    # Error: can't use keywords as variable name\n",
        "# #   @xyz = 15      # Error: special characters not allowed\n",
        "\n",
        "\n",
        "\n",
        "\n",
        "\n",
        "# ✅ Correct examples would be:\n",
        "a1 = \"name\"\n",
        "if_var = 5\n",
        "class_var = \"A\"\n",
        "xyz = 15\n",
        "\n",
        "\n",
        "# ---------------- Local Variable ----------------\n",
        "def my_func():\n",
        "    x = 10\n",
        "    print(\"Local variable:\", x)   # x is local to my_func()\n",
        "\n",
        "my_func()\n",
        "\n",
        "\n",
        "# ---------------- Global Variable ----------------\n",
        "\n",
        "\n",
        "x = 20   # Global variable\n",
        "\n",
        "def show():\n",
        "    print(\"\\nGlobal variable inside function:\", x)                   # access global variable\n",
        "\n",
        "show()\n",
        "\n",
        "print(\"Global variable outside function:\", x)                      # global variable accessible everywhere\n",
        "\n",
        "\n",
        "\n",
        "\n",
        "\n",
        "# ---------------- Nonlocal Variable ----------------\n",
        "\n",
        "\n",
        "\n",
        "def outer():\n",
        "    x = \"outer\"\n",
        "    print(\"\\nInitially in outer():\", x)                             # First print statement\n",
        "\n",
        "    def inner():\n",
        "        nonlocal x                                                  # refers to 'x' in outer function, not global\n",
        "        x = \"changed\"\n",
        "        print(\"Nonlocal variable in inner():\", x)                   # Second print statement\n",
        "\n",
        "    inner()\n",
        "    print(\"After inner() call in outer():\", x)                      # Third print statement\n",
        "\n",
        "outer()\n",
        "\n",
        "\n",
        "\n",
        "\n",
        "\n",
        "\n",
        "# ---------------- Class Variable ----------------\n",
        "\n",
        "class Student:\n",
        "    college = \"DSEU\"                                                 # Class variable (shared by all objects)\n",
        "\n",
        "    def __init__(self, name):\n",
        "        self.name = name                                             # Instance variable (unique to each object)\n",
        "\n",
        "s1 = Student(\"Mohit\")\n",
        "s2 = Student(\"Chetan\")\n",
        "\n",
        "\n",
        "# Accessing class variable through objects\n",
        "print(\"\\nClass variable via s1 & s2:\", s1.college, \",\", s2.college)\n",
        "\n",
        "\n",
        "# Accessing instance variable\n",
        "print(\"Instance variable:\", s1.name, \",\", s2.name)\n",
        "\n",
        "\n"
      ]
    },
    {
      "cell_type": "markdown",
      "metadata": {
        "id": "E3JI1JUfvJlu"
      },
      "source": [
        "# **============ DATA TYPE =============**\n",
        "\n",
        "*   List item\n",
        "*   List item\n",
        "\n",
        "\n",
        "\n",
        "\n",
        "1. Definition\n",
        "\n",
        "    A data type tells what kind of value a variable can store.\n",
        "\n",
        "    Python is dynamically typed → you don’t need to declare the type, it is decided automatically based on the value.\n",
        "\n",
        "    \n",
        "\n",
        "\n",
        "\n",
        "2. Main Categories\n",
        "\n",
        "\n",
        " i. Numeric Types\n",
        "\n",
        "    int → whole numbers (e.g., 10, -5)\n",
        "\n",
        "    float → decimal numbers (e.g., 3.14, -2.5)\n",
        "\n",
        "    complex → complex numbers (e.g., 3+4j)\n",
        "\n",
        "\n",
        " ii. Sequence Types\n",
        "\n",
        "    str → strings/text (e.g., \"Hello\")\n",
        "\n",
        "    list → ordered, mutable collection (e.g., [1, 2, 3])\n",
        "\n",
        "    tuple → ordered, immutable collection (e.g., (1, 2, 3))\n",
        "\n",
        "    range(start,end,step) , Immutable coolection (e.g ,range(1, 10, 2)\n",
        "\n",
        "\n",
        "\n",
        " iii. Set Types\n",
        "\n",
        "    set → unordered, mutable collection of unique items (e.g., {1, 2, 3})\n",
        "\n",
        "    frozenset → unordered, immutable set (e.g., frozenset({1, 2, 3}))\n",
        "\n",
        "\n",
        " iv. Mapping Type\n",
        "\n",
        "    dict → mutable , order but in python 3.7 and above , key-value pairs\n",
        "           (e.g., {\"name\": \"Chetan\", \"age\": 20})\n",
        "\n",
        " v. Boolean Type\n",
        "\n",
        "    bool → immutable , unorder because it has only one value at a time (0,1) ,\n",
        "          logical values True or False\n",
        "\n",
        " vi. None Type\n",
        "\n",
        "    NoneType → represents the absence of a value (None)"
      ]
    },
    {
      "cell_type": "code",
      "execution_count": null,
      "metadata": {
        "colab": {
          "base_uri": "https://localhost:8080/"
        },
        "id": "swKvLUH5yiGa",
        "outputId": "87b034ca-6939-4850-b1a2-287f20c88589"
      },
      "outputs": [
        {
          "name": "stdout",
          "output_type": "stream",
          "text": [
            "# ========= Numaric Data Type ==============\n",
            "\n",
            "5\n",
            "<class 'int'>\n",
            "5.2\n",
            "<class 'float'>\n",
            "(2+3j)\n",
            "<class 'complex'>\n"
          ]
        }
      ],
      "source": [
        "print(\"# ========= Numaric Data Type ==============\\n\")\n",
        "\n",
        "a=5           # int type\n",
        "print(a)\n",
        "print(type(a))\n",
        "\n",
        "b=5.2        # float type\n",
        "print(b)\n",
        "print(type(b))\n",
        "\n",
        "c=2+3j       # complex type\n",
        "print(c)\n",
        "print(type(c))\n",
        "\n"
      ]
    },
    {
      "cell_type": "code",
      "execution_count": null,
      "metadata": {
        "colab": {
          "base_uri": "https://localhost:8080/"
        },
        "id": "75lZlWsDxdg6",
        "outputId": "82a795c5-01bb-478e-ac26-015974721942"
      },
      "outputs": [
        {
          "name": "stdout",
          "output_type": "stream",
          "text": [
            "# ============String=================\n",
            "\n",
            "Single Quote used\n",
            "<class 'str'>\n",
            "\n",
            " Double Quote used\n",
            "<class 'str'>\n",
            "\n",
            " Triple Quote used\n",
            "     my name is Ram\n",
            "                    \n",
            "<class 'str'>\n"
          ]
        }
      ],
      "source": [
        "print(\"# ============ String =================\\n\")\n",
        "\n",
        "\n",
        "s='Single Quote used'           # String Type ''\n",
        "print(s)\n",
        "print(type(s))\n",
        "\n",
        "\n",
        "k=\"Double Quote used\"           # String Type \"\"\n",
        "print(\"\\n\",k)\n",
        "print(type(k))\n",
        "\n",
        "\n",
        "j='''Triple Quote used\n",
        "     my name is Ram\n",
        "                    '''                                      # String Type ''''''   allowed multiple line of code\n",
        "print(\"\\n\",j)\n",
        "print(type(j))"
      ]
    },
    {
      "cell_type": "code",
      "execution_count": null,
      "metadata": {
        "colab": {
          "base_uri": "https://localhost:8080/"
        },
        "id": "QrayULNIxd6o",
        "outputId": "22e7ece2-ffda-4464-9cc8-28647af85113"
      },
      "outputs": [
        {
          "output_type": "stream",
          "name": "stdout",
          "text": [
            "\n",
            "============ List (Mutable , Duplicate ,  )======================\n",
            "\n",
            "[1, 2, 3, 1]\n",
            "<class 'list'>\n",
            "[1, 'Delhi', 2.4, [1, 2, 3], 1]\n",
            "<class 'list'>\n",
            "\n",
            "\n",
            " [1, 'Delhi', 2.4, [1, 2, 3], 1, 7]\n",
            "\n",
            "\n",
            "\n",
            " [1, 2, 3, 8]\n"
          ]
        }
      ],
      "source": [
        "# we can define a list with list([1,2,3]) method , and a=[12,5,4,7]\n",
        "# List(1,2,3,8 )---> Give error because List is a method which accepts only one argument\")\n",
        "\n",
        "\n",
        "print(\"\\n============ List (Mutable , Duplicate , Order )======================\\n\")\n",
        "\n",
        "\n",
        "l=[1,2,3,1]           # List Type []  it can store multiple types of data , allowed duplicate\n",
        "print(l)\n",
        "print(type(l))\n",
        "\n",
        "\n",
        "cities_and_number=[1,\"Delhi\",2.4,[1,2,3],1]        # Duplicates allowed\n",
        "print(cities_and_number)\n",
        "print(type(cities_and_number))\n",
        "\n",
        "cities_and_number.append(7)                       # Mutable , Order\n",
        "\n",
        "\n",
        "print(\"\\n\\n\",cities_and_number)\n",
        "print(\"\\n\\n\\n\",list([1,2,3,8]))\n",
        "\n",
        "\n",
        "\n",
        " # print(\"\\n\\n\\n\",list(1,2,3,8 ))      # error"
      ]
    },
    {
      "cell_type": "code",
      "execution_count": null,
      "metadata": {
        "colab": {
          "base_uri": "https://localhost:8080/"
        },
        "id": "9lrPoJp7xeOI",
        "outputId": "b549bd95-d62f-41bd-a07b-49f984bbc90d"
      },
      "outputs": [
        {
          "name": "stdout",
          "output_type": "stream",
          "text": [
            "\n",
            "#============Tuple==================\n",
            "\n",
            "\n",
            "(1, 2, 3, 1)\n",
            "<class 'tuple'>\n",
            "\n",
            "(1, 1, 'Delhi', 2.4, [1, 2, 3])\n",
            "<class 'tuple'>\n",
            "\n",
            "\n",
            "\n",
            " tuple(1,2,3,8 )---> Give error because tuple is a method which accepts only one argument\n",
            "\n",
            " (1, 2, 3)\n"
          ]
        },
        {
          "data": {
            "text/plain": [
              "(None,)"
            ]
          },
          "execution_count": 7,
          "metadata": {},
          "output_type": "execute_result"
        }
      ],
      "source": [
        "# we can define a list with tuple(1,2,3) method , and a=(12,5,4,7)\n",
        "\n",
        "\n",
        "\n",
        "print(\"\\n#============Tuple==================\\n\")\n",
        "\n",
        "t=(1,2,3,1)           # Tuple Type ()  it can store multiple types of data , allowed duplicate\n",
        "# t[1]=5              # tuple is immutable we can't change , it don't have any method like add() , append()\n",
        "\n",
        "print()\n",
        "print(t)\n",
        "print(type(t))\n",
        "\n",
        "\n",
        "\n",
        "y=(1,1,\"Delhi\",2.4,[1,2,3])\n",
        "print()\n",
        "print(y)\n",
        "print(type(y))\n",
        "\n",
        "\n",
        "\n",
        "print(\"\\n\\n\\n tuple(1,2,3,8 )---> Give error because tuple is a method which accepts only one argument\")\n",
        "print(\"\\n\",tuple([1,2,3])),"
      ]
    },
    {
      "cell_type": "markdown",
      "metadata": {
        "id": "rRoYBl6Ixe6Y"
      },
      "source": [
        "**Type Checking**\n",
        "\n",
        "Use type() to check a variable’s type\n",
        "\n"
      ]
    },
    {
      "cell_type": "code",
      "execution_count": null,
      "metadata": {
        "colab": {
          "base_uri": "https://localhost:8080/"
        },
        "id": "1wfkcf_F5IQq",
        "outputId": "c6ed21c0-1c5e-4e44-d215-68d1ae20b34e"
      },
      "outputs": [
        {
          "name": "stdout",
          "output_type": "stream",
          "text": [
            "\n",
            "#=============== Range ==============================\n",
            "\n",
            "range(1, 5)\n",
            "\n",
            "Why range 1 to 5 not print :\n",
            "because range is a special object that represents a sequence,\n",
            "but it doesn’t store all numbers directly — it’s lazy (generated on demand).\n",
            "We need to type caste it\n",
            "\n",
            "range(1, 5)\n",
            "[1, 2, 3, 4]\n",
            "\n",
            "Range with step\n",
            "range(1, 10, 2)\n",
            "range(0, 4)\n",
            "[0, 1, 2, 3]\n"
          ]
        }
      ],
      "source": [
        "\n",
        "print(\"\\n#=============== Range ==============================\\n\")\n",
        "\n",
        "print(\"range(1, 5)\\n\")\n",
        "\n",
        "print(\"Why range 1 to 5 not print :\")\n",
        "print(\"because range is a special object that represents a sequence,\")\n",
        "print(\"but it doesn’t store all numbers directly — it’s lazy (generated on demand).\")\n",
        "print(\"We need to type caste it\\n\")\n",
        "\n",
        "print(range(1, 5))\n",
        "print(list(range(1, 5)))\n",
        "\n",
        "\n",
        "\n",
        "print(\"\\nRange with step\")\n",
        "print(range(1, 10, 2))        # step is given as the 3rd positional argument\n",
        "\n",
        "print(range(4))              # if we pass only one argument then it's treated as last\n",
        "\n",
        "print(list(range(4)))\n",
        "\n"
      ]
    },
    {
      "cell_type": "code",
      "execution_count": null,
      "metadata": {
        "colab": {
          "base_uri": "https://localhost:8080/"
        },
        "id": "iWKoRDBGxino",
        "outputId": "5c926f83-33fe-401b-c58a-2bcce4231438"
      },
      "outputs": [
        {
          "name": "stdout",
          "output_type": "stream",
          "text": [
            "<class 'int'>\n",
            "<class 'float'>\n",
            "<class 'complex'>\n",
            "<class 'str'>\n",
            "<class 'list'>\n"
          ]
        }
      ],
      "source": [
        "a=4\n",
        "print(type(a))\n",
        "\n",
        "b=5.2\n",
        "print(type(b))\n",
        "\n",
        "c=2+3j\n",
        "print(type(c))\n",
        "\n",
        "d='Single Quote used'\n",
        "print(type(d))\n",
        "\n",
        "e=list([1,2,3])\n",
        "print(type(e))"
      ]
    },
    {
      "cell_type": "markdown",
      "metadata": {
        "id": "ChI39spqxjE1"
      },
      "source": [
        "**Type Conversion**\n",
        "\n",
        "Convert data types using built-in functions:\n",
        "\n",
        "int(), float(), str(), list(), tuple(), set(), dict()\n"
      ]
    },
    {
      "cell_type": "code",
      "execution_count": null,
      "metadata": {
        "colab": {
          "base_uri": "https://localhost:8080/"
        },
        "id": "EjKXrgLGxtk0",
        "outputId": "8c800e2d-b2a6-4d5b-86df-b122f974b035"
      },
      "outputs": [
        {
          "name": "stdout",
          "output_type": "stream",
          "text": [
            "5\n",
            "<class 'int'>\n",
            "\n",
            "5.0\n",
            "<class 'float'>\n",
            "\n",
            "5\n",
            "<class 'str'>\n",
            "\n",
            "['5']\n",
            "<class 'list'>\n",
            "\n",
            "('5',)\n",
            "<class 'tuple'>\n",
            "\n",
            "{1, 2, 3}\n",
            "<class 'set'>\n",
            "\n",
            "{1: 'one', 2: 'two'}\n",
            "<class 'dict'>\n"
          ]
        }
      ],
      "source": [
        "# Integer\n",
        "a = 5\n",
        "print(a)\n",
        "print(type(a))                   # int\n",
        "print()\n",
        "\n",
        "\n",
        "# Integer → Float\n",
        "q = float(a)\n",
        "print(q)\n",
        "print(type(q))                   # float\n",
        "print()\n",
        "\n",
        "\n",
        "# Integer → String\n",
        "b = str(a)\n",
        "print(b)\n",
        "print(type(b))                  # str\n",
        "print()\n",
        "\n",
        "# Integer → List (must give inside an iterable like range or string)\n",
        "c = list(str(a))                # '5' → ['5']\n",
        "print(c)\n",
        "print(type(c))                  # list\n",
        "print()\n",
        "\n",
        "\n",
        "\n",
        "# Integer → Tuple\n",
        "d = tuple(str(a))               # '5' → ('5',)\n",
        "print(d)\n",
        "print(type(d))                  # tuple\n",
        "print()\n",
        "\n",
        "\n",
        "\n",
        "# List → Set (removes duplicates)\n",
        "my_list = [1, 2, 2, 3]\n",
        "e = set(my_list)\n",
        "print(e)\n",
        "print(type(e))                # set\n",
        "print()\n",
        "\n",
        "\n",
        "\n",
        "# List of pairs → Dictionary\n",
        "pairs = [(1, 'one'), (2, 'two')]\n",
        "f = dict(pairs)\n",
        "print(f)\n",
        "print(type(f))  # dict\n"
      ]
    },
    {
      "cell_type": "code",
      "execution_count": null,
      "metadata": {
        "id": "mShYkFJc91iS"
      },
      "outputs": [],
      "source": [
        "a=5                   # Question of day-2\n",
        "                      # Becasue integer is not iterble like string ,list, tuple\n",
        "# b=list(a)\n",
        "# print(type(b))\n"
      ]
    },
    {
      "cell_type": "code",
      "execution_count": null,
      "metadata": {
        "colab": {
          "base_uri": "https://localhost:8080/"
        },
        "id": "mRb50IrBBY3G",
        "outputId": "c843fd2f-41bb-4adf-9a9c-12432114efb0"
      },
      "outputs": [
        {
          "name": "stdout",
          "output_type": "stream",
          "text": [
            "\n",
            "# ============ Mapping Type ================\n",
            "\n",
            "{'Name': 'Chetan', 'Age': 20, 'City': 'Pune'}\n",
            "{'Name': 'Chetan', 'Age': 20, 'City': 'Pune', 'Country': 'India'}\n",
            "{'Name': 'Chetan', 'Age': 20, 'City': 'Pune', 'Country': 'US'}\n",
            "{'Name': 'Chetan', 'Age': 20, 'City': 'Pune', 'Country': 'US'}\n",
            "Name\n",
            "Age\n",
            "City\n",
            "Country\n"
          ]
        }
      ],
      "source": [
        "print(\"\\n ============ Mapping Type ================\\n\")\n",
        "\n",
        "# Dictionaries (ordered, immutable, No duplicates)\n",
        "d = {\"Name\": \"Chetan\", \"Age\": 20, \"City\": \"Pune\"}\n",
        "print(d)                                                        # See the order of keys\n",
        "\n",
        "# Add a new key\n",
        "d[\"Country\"] = \"India\"\n",
        "print(d)                                                          # Check if keys stay in insertion order\n",
        "\n",
        "\n",
        "\n",
        "d[\"Country\"] = \"US\"                                               # Mutable\n",
        "print(d)\n",
        "\n",
        "d[\"Country\"] = \"US\"                                               # No duplicate allow\n",
        "print(d)\n",
        "\n",
        "\n",
        "# Iterate over keys\n",
        "for key in d:\n",
        "    print(key)\n",
        "\n",
        "\n"
      ]
    },
    {
      "cell_type": "code",
      "execution_count": null,
      "metadata": {
        "colab": {
          "base_uri": "https://localhost:8080/"
        },
        "id": "WeO9rMsjBZGD",
        "outputId": "2fe8229b-494e-44a3-e5a4-68bbfcbee36c"
      },
      "outputs": [
        {
          "name": "stdout",
          "output_type": "stream",
          "text": [
            "\n",
            "# ============ Set ================\n",
            "\n",
            "{1, 2, 3}\n",
            "{1, 2, 3, 4}\n",
            "{1, 2, 3}\n"
          ]
        }
      ],
      "source": [
        "print(\"\\n ============ Set ================\\n\")\n",
        "\n",
        "\n",
        "# Set (Unordered, Mutable, No duplicates)\n",
        "s = {1, 2, 2, 3}              #  No error but it store only single element\n",
        "print(s)                      # {1, 2, 3}\n",
        "s.add(4)                      #  Works\n",
        "print(s)\n",
        "\n",
        "\n",
        "\n",
        "j={3,2,1,1}                  # unorder\n",
        "print(j)\n",
        "\n"
      ]
    },
    {
      "cell_type": "code",
      "execution_count": null,
      "metadata": {
        "colab": {
          "base_uri": "https://localhost:8080/"
        },
        "id": "SfpI_kivBZRA",
        "outputId": "b7c36c13-2cee-449d-c5ee-e95ec9a71b8c"
      },
      "outputs": [
        {
          "name": "stdout",
          "output_type": "stream",
          "text": [
            "\n",
            "# ============ FrozenSet ================\n",
            "\n",
            "{1, 2, 3}\n",
            "{1, 2, 3, 4}\n",
            "frozenset({1, 2, 3})\n",
            "\n",
            "frozenset({1, 2, 3})\n"
          ]
        }
      ],
      "source": [
        "print(\"\\n ============ FrozenSet ================\\n\")\n",
        "\n",
        "\n",
        "# FrozenSet (Unordered, immutable, No duplicates)\n",
        "\n",
        "\n",
        "# Normal set (mutable)\n",
        "normal_set = {1, 2, 3}\n",
        "print(normal_set)                            # {1, 2, 3}\n",
        "normal_set.add(4)                            #  Works\n",
        "print(normal_set)                            # {1, 2, 3, 4}\n",
        "\n",
        "\n",
        "\n",
        "# Frozenset (immutable)\n",
        "f_set = frozenset([1, 2, 3, 3, 2])\n",
        "print(f_set)                                   # frozenset({1, 2, 3})\n",
        "\n",
        "# f_set.add(4)                                 # ❌ ERROR: 'frozenset' object has no attribute 'add'\n",
        "\n",
        "\n",
        "\n",
        "\n",
        "print()\n",
        "f_set = frozenset([3, 1, 2])\n",
        "print(f_set)                                       # frozenset({1, 2, 3}) → order may not match insertion\n",
        "\n",
        "\n",
        "\n",
        "\n"
      ]
    },
    {
      "cell_type": "code",
      "execution_count": null,
      "metadata": {
        "colab": {
          "base_uri": "https://localhost:8080/"
        },
        "id": "viu-HrYHBZeR",
        "outputId": "0267041d-bb6f-49c1-e358-f76cd4bd60ec"
      },
      "outputs": [
        {
          "name": "stdout",
          "output_type": "stream",
          "text": [
            "\n",
            "# ============ Boolean ================\n",
            "\n",
            "Value of a: True\n",
            "<class 'bool'>\n",
            "Value of b: False\n",
            "<class 'bool'>\n"
          ]
        }
      ],
      "source": [
        "\n",
        "print(\"\\n# ============ Boolean ================\\n\")\n",
        "\n",
        "\n",
        "a = True\n",
        "b = False\n",
        "\n",
        "print(\"Value of a:\", a)\n",
        "print(type(a))\n",
        "\n",
        "print(\"Value of b:\", b)\n",
        "print(type(b))\n",
        "\n"
      ]
    },
    {
      "cell_type": "code",
      "execution_count": null,
      "metadata": {
        "colab": {
          "base_uri": "https://localhost:8080/"
        },
        "id": "KUQZf9igBZvI",
        "outputId": "3f7faeb6-dc4c-43fc-c414-8092f4101130"
      },
      "outputs": [
        {
          "name": "stdout",
          "output_type": "stream",
          "text": [
            "\n",
            "# ============ Bytes , ByteArray , MemoryView ================\n",
            "\n",
            "b'ABC'\n",
            "<class 'bytes'>\n",
            "\n",
            "bytearray(b'ABC')\n",
            "bytearray(b'ABCD')\n",
            "<class 'bytearray'>\n",
            "\n",
            "b'@'\n"
          ]
        }
      ],
      "source": [
        "# Byte and ByteArray give ASCII Values crossponding to symbole or alphabet\n",
        "# It is a method byte() bytearray()\n",
        "#                 ex : let 65 --> A\n",
        "\n",
        "\n",
        "\n",
        "print(\"\\n# ============ Bytes , ByteArray , MemoryView ================\\n\")\n",
        "\n",
        "\n",
        "# Bytes (immutable)\n",
        "\n",
        "a=bytes([65, 66, 67])\n",
        "print(a)                                # b'ABC'\n",
        "print(type(a))\n",
        "print()\n",
        "\n",
        "\n",
        "\n",
        "\n",
        "# Bytearray (mutable)\n",
        "\n",
        "b=bytearray([65, 66, 67])              # bytearray(b'ABC')\n",
        "print(b)\n",
        "b.append(68)                          # Mutable\n",
        "print(b)\n",
        "print(type(b))\n",
        "print()\n",
        "\n",
        "\n",
        "f = bytes(\"@\", \"utf-8\")               # String ko bytes me convert\n",
        "print(f)                              # b'@'\n",
        "\n",
        "\n"
      ]
    },
    {
      "cell_type": "code",
      "execution_count": null,
      "metadata": {
        "colab": {
          "base_uri": "https://localhost:8080/"
        },
        "id": "soBcMFREbMRm",
        "outputId": "d6299310-af91-4a66-92ad-633fa3cd9027"
      },
      "outputs": [
        {
          "name": "stdout",
          "output_type": "stream",
          "text": [
            "\n",
            "# ======== Memoryview ==============\n",
            "<memory at 0x7fe574ae5c00>\n",
            "<class 'memoryview'>\n",
            "\n"
          ]
        }
      ],
      "source": [
        "# memoryview(obj)\n",
        "# obj → Required.\n",
        "# Must be a bytes-like object (e.g., bytes, bytearray, array.array, or any object supporting the buffer protocol).\n",
        "\n",
        "\n",
        "\n",
        "print(\"\\n# ======== Memoryview ==============\")\n",
        "\n",
        "print(memoryview(b'ABC'))            # <memory at 0x...>  here b'ABC' --> b define bytes\n",
        "print(type(memoryview(b'ABC')))\n",
        "print()"
      ]
    },
    {
      "cell_type": "markdown",
      "metadata": {
        "id": "3u1AG19YVJVE"
      },
      "source": [
        "# **Data Type Summary**\n",
        "\n",
        "\n",
        "\n",
        "\n",
        "\n",
        "| Data Type       | Ordered? | Mutable? | Duplicates Allowed? | Example                | Notes                           |\n",
        "| --------------- | -------- | -------- | ------------------- | ---------------------- | ------------------------------- |\n",
        "| **list**        | ✅ Yes    | ✅ Yes    | ✅ Yes               | `[1, 2, 2, 3]`         | Sequence, can store mixed types |\n",
        "| **tuple**       | ✅ Yes    | ❌ No     | ✅ Yes               | `(1, 2, 2, 3)`         | Immutable list                  |\n",
        "| **set**         | ❌ No     | ✅ Yes    | ❌ No                | `{1, 2, 3}`            | Unordered, no duplicates        |\n",
        "| **frozenset**   | ❌ No     | ❌ No     | ❌ No                | `frozenset({1, 2, 3})` | Immutable set                   |\n",
        "| **dict** (keys) | ✅ Yes\\*  | ✅ Yes    | ❌ No (keys)         | `{\"a\": 1, \"b\": 2}`     | Keys ordered since Python 3.7   |\n",
        "| **str**         | ✅ Yes    | ❌ No     | ✅ Yes               | `\"hello\"`              | Immutable text sequence         |\n",
        "| **range**       | ✅ Yes    | ❌ No     | ❌ No                | `range(1, 5)`          | Sequence of numbers             |\n",
        "| **bool**        | ❌ No     | ❌ No     | ❌ No                | `True`, `False`        | Only two values                 |\n",
        "| **int**         | ❌ No     | ❌ No     | ❌ No                | `42`                   | Immutable number                |\n",
        "| **float**       | ❌ No     | ❌ No     | ❌ No                | `3.14`                 | Immutable number                |\n",
        "| **complex**     | ❌ No     | ❌ No     | ❌ No                | `2+3j`                 | Immutable number type           |\n",
        "| **bytes**       | ✅ Yes    | ❌ No     | ✅ Yes               | `b\"abc\"`               | Immutable byte sequence         |\n",
        "| **bytearray**   | ✅ Yes    | ✅ Yes    | ✅ Yes               | `bytearray(b\"abc\")`    | Mutable byte sequence           |\n"
      ]
    },
    {
      "cell_type": "markdown",
      "metadata": {
        "id": "o3MSOeIux29L"
      },
      "source": [
        "# **==========OPERATOR===========**\n",
        "\n",
        "Types of operator\n",
        "\n",
        "\n",
        "1. Arithmetic Operators → Maths operations (+, -, *, /, %, **, //).\n",
        "2. Assignment Operators → Assign or update variable value (=, +=, -=, *=, /=, %=).\n",
        "\n",
        "3. Relational / Comparison Operators → Compare values, result is True or alse (==, !=, >, <, >=, <=).\n",
        "\n",
        "4. Logical Operators → Combine conditions (and, or, not).\n",
        "\n",
        "5. Bitwise Operators → Work on bits (&, |, ^, ~, <<, >>).\n",
        "\n",
        "6. Identity Operators → Check if two objects are the same in memory (is, is not).\n",
        "\n",
        "7. Membership Operators → Check if value is in a sequence (in, not in)\n",
        "\n",
        "\n"
      ]
    },
    {
      "cell_type": "code",
      "execution_count": null,
      "metadata": {
        "colab": {
          "base_uri": "https://localhost:8080/"
        },
        "id": "GVoXfwrKx1w0",
        "outputId": "8e3fa1f0-8206-4a9e-a39b-f0b0dd70e8a0"
      },
      "outputs": [
        {
          "name": "stdout",
          "output_type": "stream",
          "text": [
            "22\n",
            "-2\n",
            "120\n",
            "0.8333333333333334\n",
            "10\n",
            "0\n",
            "1000000000000\n"
          ]
        }
      ],
      "source": [
        "# Arithmatic Operator\n",
        "\n",
        "a = 10          # Assignment Operatore ( assign right to left)\n",
        "b = 12\n",
        "\n",
        "print(a + b)    # Addition → 10 + 12 = 22\n",
        "print(a - b)    # Subtraction → 10 - 12 = -2\n",
        "print(a * b)    # Multiplication → 10 * 12 = 120\n",
        "print(a / b)    # Division (float) → 10 / 12 ≈ 0.8333\n",
        "print(a % b)    # Modulus → remainder of 10 ÷ 12 = 10\n",
        "print(a // b)   # Floor Division → integer part of division = 0\n",
        "print(a ** b)   # Exponentiation → 10 raised to the power 12 = 1000000000000\n",
        "\n"
      ]
    },
    {
      "cell_type": "code",
      "execution_count": null,
      "metadata": {
        "colab": {
          "base_uri": "https://localhost:8080/"
        },
        "id": "YYPE6ctGokWE",
        "outputId": "e9bc2859-fa5f-4cc5-da92-cf6dfa8752e0"
      },
      "outputs": [
        {
          "name": "stdout",
          "output_type": "stream",
          "text": [
            "10\n",
            "15\n",
            "12\n",
            "24\n",
            "6.0\n",
            "2.0\n"
          ]
        }
      ],
      "source": [
        "# Assignment Operator\n",
        "\n",
        "\n",
        "a = 10     # Assign → a = 10\n",
        "print(a)   # Output: 10\n",
        "\n",
        "a += 5     # Add and assign → a = a + 5 = 15\n",
        "print(a)   # Output: 15\n",
        "\n",
        "a -= 3     # Subtract and assign → a = a - 3 = 12\n",
        "print(a)   # Output: 12\n",
        "\n",
        "a *= 2     # Multiply and assign → a = a * 2 = 24\n",
        "print(a)   # Output: 24\n",
        "\n",
        "a /= 4     # Divide and assign → a = a / 4 = 6.0\n",
        "print(a)   # Output: 6.0\n",
        "\n",
        "a %= 4     # Modulus and assign → a = a % 4 = 2.0\n",
        "print(a)   # Output: 2.0\n"
      ]
    },
    {
      "cell_type": "code",
      "execution_count": null,
      "metadata": {
        "colab": {
          "base_uri": "https://localhost:8080/"
        },
        "id": "EI9PsUwEmmll",
        "outputId": "d8fd12f6-027f-44fc-9acb-b607aa4fde84"
      },
      "outputs": [
        {
          "name": "stdout",
          "output_type": "stream",
          "text": [
            "False\n",
            "True\n",
            "False\n",
            "True\n",
            "False\n",
            "True\n"
          ]
        }
      ],
      "source": [
        "# Relational / Comparison Operator\n",
        "\n",
        "a = 10\n",
        "b = 12\n",
        "\n",
        "print(a == b)   # Equal to → False (10 is not equal to 12)\n",
        "print(a != b)   # Not equal to → True (10 is not equal to 12)\n",
        "print(a > b)    # Greater than → False (10 is not greater than 12)\n",
        "print(a < b)    # Less than → True (10 is less than 12)\n",
        "print(a >= b)   # Greater than or equal to → False (10 is not >= 12)\n",
        "print(a <= b)   # Less than or equal to → True (10 is <= 12)\n"
      ]
    },
    {
      "cell_type": "code",
      "execution_count": null,
      "metadata": {
        "colab": {
          "base_uri": "https://localhost:8080/"
        },
        "id": "_DZNM_Sa72G0",
        "outputId": "e7ddc6b8-ff0a-4d27-f056-08b94c94bf58"
      },
      "outputs": [
        {
          "name": "stdout",
          "output_type": "stream",
          "text": [
            "True\n",
            "False\n",
            "True\n",
            "False\n",
            "False\n",
            "True\n"
          ]
        }
      ],
      "source": [
        "# Why logical operator is used ----> just for checking multiple condtional statement\n",
        "\n",
        "\n",
        "a = 10\n",
        "b = 12\n",
        "\n",
        "# and → dono conditions True hone chahiye\n",
        "print(a > 5 and b > 5)     # True and True → True\n",
        "print(a > 5 and b < 5)     # True and False → False\n",
        "\n",
        "# or → koi ek condition True ho to result True\n",
        "print(a > 5 or b < 5)      # True or False → True\n",
        "print(a < 5 or b < 5)      # False or False → False\n",
        "\n",
        "# not → condition ka ulta\n",
        "print(not(a > 5))          # not(True) → False\n",
        "print(not(b < 5))          # not(False) → True\n"
      ]
    },
    {
      "cell_type": "code",
      "execution_count": null,
      "metadata": {
        "colab": {
          "base_uri": "https://localhost:8080/"
        },
        "id": "IyedIYkMnjlN",
        "outputId": "c8598df1-76aa-42d2-b0a8-16f0e038f5c0"
      },
      "outputs": [
        {
          "name": "stdout",
          "output_type": "stream",
          "text": [
            "8\n",
            "10\n",
            "2\n",
            "-11\n",
            "-9\n",
            "20\n",
            "5\n",
            "40\n",
            "2\n",
            "1\n",
            "0\n",
            "0\n"
          ]
        }
      ],
      "source": [
        "# Bitwise operator\n",
        "\n",
        "a=10\n",
        "b=8\n",
        "\n",
        "# Bitwise AND → compares each bit of a and b (1 if both bits are 1)\n",
        "print(a & b)  # 10 & 13 → 1010 & 1101 = 1000 (binary) = 8\n",
        "\n",
        "# Bitwise OR → compares each bit (1 if at least one bit is 1)\n",
        "print(a | b)  # 10 | 13 → 1010 | 1101 = 1111 (binary) = 15\n",
        "\n",
        "# Bitwise XOR → compares each bit (1 if bits are different)\n",
        "print(a ^ b)  # 10 ^ 13 → 1010 ^ 1101 = 0111 (binary) = 7\n",
        "\n",
        "# Bitwise NOT → inverts all bits (~x = -(x+1))\n",
        "print(~a)  # ~10 = -(10+1) = -11\n",
        "print(~b)  # ~13 = -(13+1) = -14\n",
        "\n",
        "# Left shift → moves bits to the left (multiply by 2 for each shift)\n",
        "print(a << 1)  # 10 << 1 → 1010 → 10100 (binary) = 20           [a*2^1]\n",
        "\n",
        "# Right shift → moves bits to the right (divide by 2 for each shift)\n",
        "print(a >> 1)  # 10 >> 1 → 1010 → 0101 (binary) = 5            [a/2^1]\n",
        "\n",
        "\n",
        "print(a<<2)              # [a*2^2] ---> [10*4]\n",
        "\n",
        "print(a>>2)\n",
        "print(a>>3)\n",
        "print(a>>4)\n",
        "print(a>>5)                # Not exceed after 0"
      ]
    },
    {
      "cell_type": "code",
      "execution_count": null,
      "metadata": {
        "colab": {
          "base_uri": "https://localhost:8080/"
        },
        "id": "MIJIzHj-iMbe",
        "outputId": "fefcbebe-ba7b-4a46-961f-ffd235a455fb"
      },
      "outputs": [
        {
          "name": "stdout",
          "output_type": "stream",
          "text": [
            "True\n",
            "False\n",
            "True\n"
          ]
        }
      ],
      "source": [
        "# Identity Operators: 'is' and 'is not'\n",
        "# They check if two variables refer to the SAME object in memory, not just equal values\n",
        "\n",
        "a = [1, 2, 3]\n",
        "b = a          # b points to the SAME list object as a\n",
        "c = [1, 2, 3]  # c has the same values but is a DIFFERENT object\n",
        "\n",
        "print(a is b)      # True → both a and b point to the same object in memory\n",
        "print(a is c)      # False → values are same but memory locations are different\n",
        "print(a is not c)  # True → a and c are different objects\n"
      ]
    },
    {
      "cell_type": "code",
      "execution_count": null,
      "metadata": {
        "colab": {
          "base_uri": "https://localhost:8080/"
        },
        "id": "YpP92iBgpvDJ",
        "outputId": "a7e95b99-1ebb-42d3-a3f2-28550be4f470"
      },
      "outputs": [
        {
          "name": "stdout",
          "output_type": "stream",
          "text": [
            "True\n",
            "True\n",
            "True\n",
            "True\n"
          ]
        }
      ],
      "source": [
        "# Membership Operators: 'in' and 'not in'\n",
        "# They check if a value exists inside a sequence (list, tuple, string, set, dictionary)\n",
        "\n",
        "numbers = [1, 2, 3, 4, 5]\n",
        "name = \"Python\"\n",
        "\n",
        "# 'in' → True if present\n",
        "print(3 in numbers)       # True → 3 is in the list\n",
        "print(\"Py\" in name)       # True → \"Py\" is in \"Python\"\n",
        "\n",
        "# 'not in' → True if NOT present\n",
        "print(10 not in numbers)  # True → 10 is not in the list\n",
        "print(\"Java\" not in name) # True → \"Java\" is not in \"Python\"\n"
      ]
    },
    {
      "cell_type": "markdown",
      "metadata": {
        "id": "LiqNmsFHAT8q"
      },
      "source": [
        "# **Conditional Statement (if,else,for,while...etc)**"
      ]
    },
    {
      "cell_type": "markdown",
      "metadata": {
        "id": "iA6qvJwEBu_5"
      },
      "source": [
        "**Purpose of Indentation**:\n",
        "\n",
        "* It defines which lines of code belong to a specific block (like loops, functions, or conditionals).\n",
        "\n",
        "* Makes the code more readable and organized.\n",
        "Standard Practice:\n",
        "\n",
        "* Use  1, 2, 3, 4 spaces per indentation level (or 1 tab).\n",
        "\n",
        "* Be consistent and maintain uniform.\n",
        "\n",
        "* Indentation Errors:\n",
        "\n",
        "      Missing or inconsistent indentation leads to an IndentationError."
      ]
    },
    {
      "cell_type": "markdown",
      "metadata": {
        "id": "rJmBA-gEatDD"
      },
      "source": [
        "# **=========== IF ELSE STATEMENT =============**\n",
        "\n",
        "\n",
        "Basic Logic\n",
        "\n",
        "* if → checks a condition (True/False).\n",
        "\n",
        "* If the condition is True → the if block runs.\n",
        "\n",
        "* If the condition is False → the else block runs.\n",
        "\n",
        "\n",
        "How many ways to write if else statement\n",
        "\n",
        "* Simple if else Statement\n",
        "* if...elif...else Ladder\n",
        "* Nested if Statement\n",
        "* Ternary (Single-Line) if...else\n"
      ]
    },
    {
      "cell_type": "code",
      "execution_count": null,
      "metadata": {
        "colab": {
          "base_uri": "https://localhost:8080/"
        },
        "id": "uMQqgC2djE7d",
        "outputId": "31d85809-ffac-44fa-aa0e-98fbeb50d8af"
      },
      "outputs": [
        {
          "name": "stdout",
          "output_type": "stream",
          "text": [
            "----------Simple if else statement-------------- \n",
            "\n",
            " Hello Learner \n"
          ]
        }
      ],
      "source": [
        "print(\"----------Simple if else statement-------------- \\n\")\n",
        "\n",
        "a=2\n",
        "b=3\n",
        "if(a>b):\n",
        "  print(\"If condition \")\n",
        "elif a==b:\n",
        " print(\"else condition\")\n",
        "else:\n",
        " print(\" Hello Learner \")\n"
      ]
    },
    {
      "cell_type": "code",
      "execution_count": null,
      "metadata": {
        "colab": {
          "base_uri": "https://localhost:8080/"
        },
        "id": "B57BBzEEf6il",
        "outputId": "640390f7-8c69-4a34-8d6d-1b8987f2e3b4"
      },
      "outputs": [
        {
          "name": "stdout",
          "output_type": "stream",
          "text": [
            "----------if...elif...else Ladder-------------- \n",
            "\n",
            "Grade B\n"
          ]
        }
      ],
      "source": [
        "print(\"----------if...elif...else Ladder-------------- \\n\")\n",
        "\n",
        "marks = 78                          # Checks each condition in order.\n",
        "if marks >= 90:                     # Runs the first one that is True and skips the rest.\n",
        "    print(\"Grade A\")\n",
        "elif marks >= 75:\n",
        "    print(\"Grade B\")\n",
        "elif marks >= 50:\n",
        "    print(\"Grade C\")\n",
        "else:\n",
        "    print(\"Fail\")\n"
      ]
    },
    {
      "cell_type": "code",
      "execution_count": null,
      "metadata": {
        "colab": {
          "base_uri": "https://localhost:8080/"
        },
        "id": "kGhHZ92ccfOE",
        "outputId": "cd64f03c-ba48-4dfc-f83f-1bf593071cd6"
      },
      "outputs": [
        {
          "name": "stdout",
          "output_type": "stream",
          "text": [
            "---------- Nested if Statement -------------- \n",
            "\n",
            "You can vote.\n"
          ]
        }
      ],
      "source": [
        "print(\"---------- Nested if Statement -------------- \\n\")\n",
        "\n",
        "age = 20                              # An if inside another if.\n",
        "citizen = True                        # Used when  need to check conditions within conditions.\n",
        "\n",
        "if age >= 18:\n",
        "    if citizen:\n",
        "        print(\"You can vote.\")\n",
        "    else:\n",
        "        print(\"Not eligible to vote.\")\n"
      ]
    },
    {
      "cell_type": "code",
      "execution_count": null,
      "metadata": {
        "colab": {
          "base_uri": "https://localhost:8080/"
        },
        "id": "OC-yD6J-cfls",
        "outputId": "ee42869c-4828-4ae8-b78f-481eab876792"
      },
      "outputs": [
        {
          "name": "stdout",
          "output_type": "stream",
          "text": [
            "---------- Ternary (Single-Line) if...else -------------- \n",
            "\n",
            "Adult\n"
          ]
        }
      ],
      "source": [
        "print(\"---------- Ternary (Single-Line) if...else -------------- \\n\")\n",
        "\n",
        "age = 20\n",
        "status = \"Adult\" if age >= 18 else \"Minor\"\n",
        "print(status)\n"
      ]
    },
    {
      "cell_type": "markdown",
      "metadata": {
        "id": "cURlpm6VJs-h"
      },
      "source": [
        "\n",
        "# **=========== FOR LOOP =============**\n",
        "\n",
        "1. It is used to repeat a block of code for a fixed number of iterations.\n",
        "\n",
        "  Each iteration assigns a value from the sequence (created by range(3)) to the variable i.\n",
        "\n",
        "2. range(start,stop,step):\n",
        "\n",
        "  * range(n) generates a sequence of numbers starting from 0 up to (but not including) n.\n",
        "In this case, range(3) produces the numbers: 0, 1, 2.\n",
        "\n",
        "3. **Variable i:**\n",
        "\n",
        "  * i is a loop variable that takes on the values in the sequence one by one during each iteration.\n",
        "\n",
        "4. **Colon : and Indented Block:**\n",
        "\n",
        "  * The colon : marks the start of the code block.\n",
        "\n",
        "  * Indented lines below the for loop are executed once for each value of i.\n",
        "\n",
        "**key points**\n",
        "* The step is 1 by default.\n",
        "* if we gives only one values it's consider as stop but it's execute (n-1) times"
      ]
    },
    {
      "cell_type": "code",
      "execution_count": null,
      "metadata": {
        "colab": {
          "base_uri": "https://localhost:8080/"
        },
        "id": "FaSm70F5MYKK",
        "outputId": "5f023fa3-157c-40af-b89b-35608fa80ee4"
      },
      "outputs": [
        {
          "name": "stdout",
          "output_type": "stream",
          "text": [
            "0\n",
            "1\n",
            "2\n",
            "3\n",
            "4\n",
            "Understanding the range function with start and stop \n",
            "1\n",
            "2\n",
            "3\n",
            "4\n",
            "Understanding the range function with start and stop and step \n",
            "1\n",
            "3\n"
          ]
        }
      ],
      "source": [
        "for i in range(5):              #  # only stop value is given\n",
        "  print(i)\n",
        "\n",
        "print(\"Understanding the range function with start and stop \")\n",
        "\n",
        "for i in range(1,5):\n",
        "  print(i)\n",
        "\n",
        "print(\"Understanding the range function with start and stop and step \")\n",
        "\n",
        "for i in range(1,5,2):\n",
        "  print(i)"
      ]
    },
    {
      "cell_type": "code",
      "execution_count": null,
      "metadata": {
        "colab": {
          "base_uri": "https://localhost:8080/"
        },
        "id": "blCMm0X7kgql",
        "outputId": "c689f44e-dd1a-4ccf-f5ab-6455a267f70e"
      },
      "outputs": [
        {
          "name": "stdout",
          "output_type": "stream",
          "text": [
            "apple\n",
            "banana\n",
            "\n",
            "\n",
            "\n",
            "\n",
            "apple\n",
            "apple\n",
            "banana\n",
            "cherry\n",
            "cherry\n"
          ]
        }
      ],
      "source": [
        "fruits=[\"apple\",\"banana\",\"cherry\"]\n",
        "for x in fruits:\n",
        "  print(x)\n",
        "  if x == \"banana\":\n",
        "   break\n",
        "\n",
        "print(\"\\n\\n\\n\")\n",
        "fruits=[\"apple\",\"banana\",\"cherry\"]\n",
        "for x in fruits:\n",
        "  print(x)\n",
        "  if x == \"banana\":\n",
        "   continue\n",
        "  print(x)"
      ]
    },
    {
      "cell_type": "markdown",
      "metadata": {
        "id": "UQJiz-4mNk7U"
      },
      "source": [
        "# **============= While Loop ===============**\n",
        "\n",
        "* The condition is checked before the loop starts.\n",
        "\n",
        "* If the condition is True, the code inside the loop is executed.\n",
        "* If the condition is False, the loop ends, and the program continues with the next line of code.\n",
        "* After each iteration, the condition is checked again.\n",
        "\n",
        "* If the condition never becomes False, the loop will run indefinitely (this is called an infinite loop)\n",
        "\n"
      ]
    },
    {
      "cell_type": "code",
      "execution_count": null,
      "metadata": {
        "colab": {
          "base_uri": "https://localhost:8080/"
        },
        "id": "4aHldlFHRQey",
        "outputId": "6a97e2e5-1052-4b1b-a101-c6305a9cb61d"
      },
      "outputs": [
        {
          "name": "stdout",
          "output_type": "stream",
          "text": [
            "Basic while Loop\n",
            "1\n",
            "2\n",
            "3\n",
            "4\n",
            "5\n",
            "\n",
            "Infinite while Loop\n",
            "\n",
            "Using a break Statement\n",
            "1\n",
            "2\n",
            "3\n",
            "4\n",
            "5\n",
            "\n",
            "Using a continue Statement\n",
            "1\n",
            "2\n",
            "4\n",
            "5\n"
          ]
        }
      ],
      "source": [
        "print(\"Basic while Loop\")\n",
        "count = 1\n",
        "while count <= 5:\n",
        "    print(count)\n",
        "    count += 1\n",
        "\n",
        "\n",
        "#while True:\n",
        "print(\"\\nInfinite while Loop\")\n",
        "\n",
        "\n",
        "print(\"\\nUsing a break Statement\")\n",
        "count = 1\n",
        "while True:\n",
        "    print(count)\n",
        "    count += 1\n",
        "    if count > 5:\n",
        "        break\n",
        "print(\"\\nUsing a continue Statement\")\n",
        "count = 0\n",
        "while count < 5:\n",
        "    count += 1\n",
        "    if count == 3:\n",
        "        continue  # Skip the rest of the code for this iteration\n",
        "    print(count)\n",
        "\n",
        "\n",
        "\n"
      ]
    },
    {
      "cell_type": "markdown",
      "metadata": {
        "id": "lNZpF5XST27v"
      },
      "source": [
        "\n",
        "**When we nee to use the for loop**\n",
        "\n",
        "    1. when iterating over a predefined collection or range.\n",
        "\n",
        "**When we need to use the while loop**\n",
        "\n",
        "    1. when you don’t know the exact number of iterations and need to loop until a condition is met."
      ]
    },
    {
      "cell_type": "markdown",
      "metadata": {
        "id": "57tcPF9LbtP5"
      },
      "source": [
        "# **========== FUNCTION IN PYTHON =============**\n",
        "\n",
        "1. Functions are reusable blocks of code, and modules allow us to organize and reuse code.\n",
        "\n",
        "TYPES :\n",
        "  * Built-in Functions → Already provided (e.g., print(), len(), sum()).\n",
        "\n",
        "  * User-defined Functions → Functions you create yourself using def.\n",
        "\n",
        "  * Lambda Functions → Small anonymous functions using lambda.\n",
        "\n",
        "Writing Functions:\n",
        "\n",
        "\n",
        "  * Defining a Function → Use def keyword.\n",
        "\n",
        "  * Calling a Function → Write the function name followed by ().\n",
        "\n",
        "  * Parameters → Input values that a function can take.\n",
        "\n",
        "  * Return Value → Output that a function can give back using return.\n",
        "\n",
        "     Syantax -  \n",
        "                def function_name(parameters):\n",
        "                  code block\n",
        "                  return value  \n",
        "\n",
        "\n"
      ]
    },
    {
      "cell_type": "markdown",
      "source": [
        "# Function Definition → Define reusable code with def."
      ],
      "metadata": {
        "id": "mnHsSpsoUXJ1"
      }
    },
    {
      "cell_type": "code",
      "execution_count": null,
      "metadata": {
        "colab": {
          "base_uri": "https://localhost:8080/"
        },
        "id": "jU1DYX11gcQb",
        "outputId": "226b899d-6334-4105-b76f-433f87955fc1"
      },
      "outputs": [
        {
          "name": "stdout",
          "output_type": "stream",
          "text": [
            "===== Function without parameter ===== \n",
            "\n",
            "\n",
            "Hello, welcome to Python!\n"
          ]
        }
      ],
      "source": [
        "print(\"===== Function without parameter ===== \\n\\n\")\n",
        "\n",
        "def greet():\n",
        "    print(\"Hello, welcome to Python!\")\n",
        "\n",
        "greet()  # function call\n"
      ]
    },
    {
      "cell_type": "code",
      "execution_count": null,
      "metadata": {
        "colab": {
          "base_uri": "https://localhost:8080/"
        },
        "id": "YvpWf2nQhDmz",
        "outputId": "95e5e870-d3a4-48ed-9fe3-564f0136b72f"
      },
      "outputs": [
        {
          "output_type": "stream",
          "name": "stdout",
          "text": [
            "===== Function with return value ===== \n",
            "\n",
            "\n",
            "8\n"
          ]
        }
      ],
      "source": [
        "print(\"===== Function with return value ===== \\n\\n\")\n",
        "\n",
        "\n",
        "def add(a, b):\n",
        "    return a + b\n",
        "\n",
        "result = add(5, 3)\n",
        "print(result)\n"
      ]
    },
    {
      "cell_type": "markdown",
      "source": [
        "# Positional Arguments → Values must follow correct order."
      ],
      "metadata": {
        "id": "ASCX_ZDRUm8b"
      }
    },
    {
      "cell_type": "code",
      "execution_count": null,
      "metadata": {
        "colab": {
          "base_uri": "https://localhost:8080/"
        },
        "id": "pg03NNUig2xo",
        "outputId": "8a083968-9f05-48f4-e092-a8230572449c"
      },
      "outputs": [
        {
          "output_type": "stream",
          "name": "stdout",
          "text": [
            "Mohit 21\n",
            "21 Mohit\n"
          ]
        }
      ],
      "source": [
        "def info(name, age):\n",
        "    print(name, age)\n",
        "\n",
        "info(\"Mohit\", 21)\n",
        "info(21,\"Mohit\")    # Position/ order of argument is not followed correctly"
      ]
    },
    {
      "cell_type": "markdown",
      "source": [
        "# Default Arguments\n",
        "\n",
        "1. Default argument\n",
        "          \n",
        "       * parameter with pre-assigned value.\n",
        "       * default value assign left to right but make sure no non-default after a defaul\n",
        "\n",
        "        Ex :  def func(a=10, b, c=20):       \n",
        "\n",
        "       * In Python, once you give a parameter a default value,\n",
        "       * all the parameters to its right must also have default values.\n",
        "       * You cannot have a non-default parameter after a default parameter.\n",
        "\n",
        "2. Used only when caller doesn’t give a value.\n",
        "\n",
        "3. User’s value overrides the default.\n",
        "\n",
        "4. Default arguments must always come after positional arguments → else error.\n",
        "\n",
        "5. Default values are evaluated once at definition time.\n",
        "\n",
        "6. Avoid mutable objects as defaults (they persist between calls).\n",
        "\n",
        "\n"
      ],
      "metadata": {
        "id": "jGLapwJ-VFYA"
      }
    },
    {
      "cell_type": "code",
      "source": [
        "def greet(name, age=18, city=\"Delhi\"):\n",
        "    print(f\"Hello {name}, Age={age}, City={city}\")\n",
        "\n",
        "# Case 1: Only name → age & city take default\n",
        "greet(\"Mohit\")\n",
        "# Output: Hello Mohit, Age=18, City=Delhi\n",
        "\n",
        "# Case 2: Override age\n",
        "greet(\"Chetan\", 21)\n",
        "# Output: Hello Chetan, Age=21, City=Delhi\n",
        "\n",
        "# Case 3: Override age & city\n",
        "greet(\"Raj\", 25, \"Mumbai\")\n",
        "# Output: Hello Raj, Age=25, City=Mumbai\n",
        "\n",
        "\n",
        "\n",
        "\n",
        "\n",
        "# Error Case 1: Default before non-default\n",
        "\n",
        "# def wrong(age=18, name):   # SyntaxError\n",
        "\n",
        "\n",
        "\n",
        "# Error Case 2: Too few arguments\n",
        "\n",
        "# greet()   # TypeError: missing required argument 'name'\n",
        "\n",
        "\n",
        "# Error Case 3: Multiple values for same argument\n",
        "\n",
        "# greet(\"Mohit\", age=20, city=\"Delhi\", name=\"Raj\")            # # TypeError: got multiple values for argument 'name' (Exceed the limit of argument)\n",
        "\n"
      ],
      "metadata": {
        "colab": {
          "base_uri": "https://localhost:8080/"
        },
        "id": "7K1shQyaWWTS",
        "outputId": "668a8230-c519-4681-bacf-7949bc6904aa"
      },
      "execution_count": null,
      "outputs": [
        {
          "output_type": "stream",
          "name": "stdout",
          "text": [
            "Hello Mohit, Age=18, City=Delhi\n",
            "Hello Chetan, Age=21, City=Delhi\n",
            "Hello Raj, Age=25, City=Mumbai\n"
          ]
        }
      ]
    },
    {
      "cell_type": "code",
      "source": [
        "def func(a=10, b, c=20):\n",
        "    print(a, b, c)\n",
        "\n",
        "func(5)                                 # why error occur beacuse when we passing a value at funtion calling is pass to funtion left to right\n",
        "                                        # if we need to give a defalut value then make sure no non-default after a default"
      ],
      "metadata": {
        "id": "7y-_9l4SaK1c"
      },
      "execution_count": null,
      "outputs": []
    },
    {
      "cell_type": "markdown",
      "source": [
        "# Variable Length Argument\n",
        "\n",
        "      *args → Collects extra positional arguments as tuple.\n",
        "      **kwargs → Collects extra keyword arguments as dictionary."
      ],
      "metadata": {
        "id": "8DBf20T8ZnIN"
      }
    },
    {
      "cell_type": "code",
      "source": [
        "def add(*args):\n",
        "    print(sum(args))\n",
        "\n",
        "add(1, 2, 3, 4)   # 10\n",
        "\n",
        "\n",
        "\n",
        "\n",
        "def info(**kwargs):\n",
        "    print(kwargs)\n",
        "\n",
        "info(name=\"Mohit\", age=20)   # {'name': 'Mohit', 'age': 20}\n"
      ],
      "metadata": {
        "colab": {
          "base_uri": "https://localhost:8080/"
        },
        "id": "vmndDsL1bYQ9",
        "outputId": "dea249ec-431f-48f7-a06e-e77dffc3a911"
      },
      "execution_count": null,
      "outputs": [
        {
          "output_type": "stream",
          "name": "stdout",
          "text": [
            "10\n",
            "{'name': 'Mohit', 'age': 20}\n"
          ]
        }
      ]
    },
    {
      "cell_type": "markdown",
      "source": [
        "# Recursion\n",
        "\n",
        "  ➡ Function calling itself."
      ],
      "metadata": {
        "id": "J4OHjEyod475"
      }
    },
    {
      "cell_type": "code",
      "source": [
        "def fact(n):\n",
        "    return 1 if n==0 else n * fact(n-1)\n",
        "\n",
        "print(fact(5))   # 120\n"
      ],
      "metadata": {
        "colab": {
          "base_uri": "https://localhost:8080/"
        },
        "id": "-xo4oMi1eAU1",
        "outputId": "89c887d1-9675-4603-896d-46ca62b1d0e3"
      },
      "execution_count": null,
      "outputs": [
        {
          "output_type": "stream",
          "name": "stdout",
          "text": [
            "120\n"
          ]
        }
      ]
    },
    {
      "cell_type": "markdown",
      "metadata": {
        "id": "SEWQbPX6h-Qo"
      },
      "source": [
        "**======== Lamda Function ========**\n",
        "\n",
        "* A lambda function is a small, anonymous function (meaning it has no name).\n",
        "\n",
        "* Created using the lambda keyword.\n",
        "\n",
        "* Can take any number of arguments but can only have one expression.\n",
        "\n",
        "* Used for short, simple operations where defining a full function with def is not necessary.\n",
        "\n",
        "   Syntax :\n",
        "           lambda arguments: expression\n",
        "\n",
        "\n",
        "* arguments → input values (like parameters).\n",
        "\n",
        "* expression → calculated and returned automatically."
      ]
    },
    {
      "cell_type": "code",
      "execution_count": null,
      "metadata": {
        "colab": {
          "base_uri": "https://localhost:8080/"
        },
        "id": "etJrHXe0ijj9",
        "outputId": "1cdfc855-a5ee-453c-b244-2aa800af8108"
      },
      "outputs": [
        {
          "output_type": "stream",
          "name": "stdout",
          "text": [
            "Lambda Function : \n",
            "25\n"
          ]
        }
      ],
      "source": [
        "print(\"Lambda Function : \")\n",
        "\n",
        "\n",
        "square = lambda x: x ** 2\n",
        "print(square(5))\n"
      ]
    }
  ],
  "metadata": {
    "colab": {
      "provenance": [],
      "include_colab_link": true
    },
    "kernelspec": {
      "display_name": "Python 3",
      "name": "python3"
    },
    "language_info": {
      "name": "python"
    }
  },
  "nbformat": 4,
  "nbformat_minor": 0
}