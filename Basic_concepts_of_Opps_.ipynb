{
  "nbformat": 4,
  "nbformat_minor": 0,
  "metadata": {
    "colab": {
      "provenance": [],
      "include_colab_link": true
    },
    "kernelspec": {
      "name": "python3",
      "display_name": "Python 3"
    },
    "language_info": {
      "name": "python"
    }
  },
  "cells": [
    {
      "cell_type": "markdown",
      "metadata": {
        "id": "view-in-github",
        "colab_type": "text"
      },
      "source": [
        "<a href=\"https://colab.research.google.com/github/KASHYAPCHETAN438/Core-Python/blob/main/Basic_concepts_of_Opps_.ipynb\" target=\"_parent\"><img src=\"https://colab.research.google.com/assets/colab-badge.svg\" alt=\"Open In Colab\"/></a>"
      ]
    },
    {
      "cell_type": "markdown",
      "source": [
        "#  What is OOPs?  \n",
        "\n",
        "  * Meaning  \n",
        "\n",
        "    * OOPs (Object-Oriented Programming System) is a paradigm where programs are designed around objects and classes.  \n",
        "    * Goal → Reusability, Modularity, Security, and Easy Maintenance.  \n",
        "\n",
        "---\n",
        "\n",
        "#  Basic Terms  \n",
        "\n",
        "  * Class  \n",
        "\n",
        "    * Blueprint/template for creating objects.\n",
        "    * Doesn't have size,but storing it's refernce in memory it take space\n",
        "\n",
        "  * Object  \n",
        "\n",
        "    * Instance of a class (real-world entity or copy of class).  \n",
        "    * In Pyhton object internally work on Dictionary.\n",
        "    * The default size of a Python object is **~48 bytes** (for an empty class instance).\n",
        "\n",
        "    * This is just the header size (metadata like reference count, type info, etc.).\n",
        "\n",
        "Adding attributes increases the size dynamically.\n",
        "\n",
        "  * Constructor `__init__`  \n",
        "\n",
        "    * Automatically called when an object is created.  \n",
        "\n",
        "  * Destructor `__del__`  \n",
        "\n",
        "    * Automatically called when an object is destroyed.  \n",
        "\n",
        "---\n",
        "\n",
        "#  Four Pillars of OOPs  \n",
        "\n",
        "  * Encapsulation  \n",
        "\n",
        "    * Bundling data and methods together in one unit (class).  \n",
        "    * Controlled using access modifiers (public, _protected, __private).  \n",
        "\n",
        "  * Inheritance  \n",
        "\n",
        "    * One class can reuse properties and methods of another class.  \n",
        "\n",
        "  * Polymorphism  \n",
        "\n",
        "    * Same method/function name but different behavior.  \n",
        "    * Examples: Method overriding, operator overloading, duck typing.  \n",
        "\n",
        "  * Abstraction  \n",
        "\n",
        "    * Hiding internal implementation and showing only necessary details.  \n",
        "    * Achieved using abstract classes (abc module).  \n",
        "\n",
        "---\n",
        "\n",
        "#  Types of Inheritance  \n",
        "\n",
        "  * Single  \n",
        "\n",
        "    * One parent → One child.  \n",
        "\n",
        "  * Multilevel  \n",
        "\n",
        "    * Parent → Child → Grandchild.  \n",
        "\n",
        "  * Hierarchical  \n",
        "\n",
        "    * One parent → Many children.  \n",
        "\n",
        "  * Multiple  \n",
        "\n",
        "    * One child inherits from multiple parents.  \n",
        "\n",
        "  * Hybrid  \n",
        "\n",
        "    * Combination of the above types.  \n",
        "\n",
        "---\n",
        "\n",
        "#  Special / Magic Methods (Dunder Methods)  \n",
        "\n",
        "  * `__str__`  \n",
        "\n",
        "    * String representation of object.  \n",
        "\n",
        "  * `__len__`  \n",
        "\n",
        "    * Length support.  \n",
        "\n",
        "  * `__add__`  \n",
        "\n",
        "    * Operator overloading.  \n",
        "\n",
        "---\n",
        "\n",
        "#  Advantages of OOPs  \n",
        "\n",
        "  * Reusability  \n",
        "\n",
        "    * Code reuse through inheritance.  \n",
        "\n",
        "  * Modularity  \n",
        "\n",
        "    * Break program into smaller modules.  \n",
        "\n",
        "  * Security  \n",
        "\n",
        "    * Encapsulation and data hiding.  \n",
        "\n",
        "  * Flexibility  \n",
        "\n",
        "    * Polymorphism allows multiple behaviors.  \n",
        "\n",
        "  * Easy Maintenance  \n",
        "\n",
        "    * Clear and organized code.  \n"
      ],
      "metadata": {
        "id": "pJADD-IUltBE"
      }
    },
    {
      "cell_type": "markdown",
      "source": [
        "------\n",
        "# **HOW TO CREATE CLASS AND OBJECT**\n",
        "\n",
        "\n",
        "\n",
        "![image.png](data:image/png;base64,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)"
      ],
      "metadata": {
        "id": "4BSmMAHa2ihN"
      }
    },
    {
      "cell_type": "markdown",
      "source": [
        "![image.png](data:image/png;base64,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)"
      ],
      "metadata": {
        "id": "5mj4gnQQiz-Q"
      }
    },
    {
      "cell_type": "code",
      "source": [
        "class Myclass:                 # Define\n",
        "  x=5\n",
        "  y=10.5\n",
        "p1=Myclass()\n",
        "print(p1.x) # by accessing object better because it support encapsulation\n",
        "print(Myclass.y) # by accessing class it Cannot access instance-specific data\n"
      ],
      "metadata": {
        "colab": {
          "base_uri": "https://localhost:8080/"
        },
        "id": "WfdfHWJu2jR-",
        "outputId": "18a8da33-e29f-40fb-facd-e2c0f4ee3ed0"
      },
      "execution_count": null,
      "outputs": [
        {
          "output_type": "stream",
          "name": "stdout",
          "text": [
            "5\n",
            "10.5\n"
          ]
        }
      ]
    },
    {
      "cell_type": "code",
      "source": [
        "class Alpha:\n",
        "    def __init__(self, name, age):\n",
        "        self.name = name\n",
        "        self.age = age\n",
        "\n",
        "p1 = Alpha(\"RAM\", 25)\n",
        "print(p1.name)\n",
        "print(p1.age)\n",
        "\n",
        "class Data:\n",
        "    def __init__(self, x=5):\n",
        "        self.x = x\n",
        "\n",
        "p2 = Data(30)\n",
        "print(p2.x)\n",
        "\n",
        "\n"
      ],
      "metadata": {
        "colab": {
          "base_uri": "https://localhost:8080/"
        },
        "id": "pIrkxOf44qwv",
        "outputId": "8f78ae06-14e1-4ac0-9caa-cb09f0887d46"
      },
      "execution_count": null,
      "outputs": [
        {
          "output_type": "stream",
          "name": "stdout",
          "text": [
            "RAM\n",
            "25\n",
            "30\n"
          ]
        }
      ]
    },
    {
      "cell_type": "markdown",
      "source": [
        "**DELETE OBJECT , METHOD AND DATA MEMBER**"
      ],
      "metadata": {
        "id": "3AsqurXt8VHo"
      }
    },
    {
      "cell_type": "code",
      "source": [
        "# delete object , method and data member by \"del\" keyword\n",
        "class Person:\n",
        "    def __init__(self, name, age):\n",
        "        self.name = name\n",
        "        self.age = age\n",
        "\n",
        "p1 = Person(\"John\", 25)\n",
        "print(p1.name)\n",
        "print(p1.age)\n",
        "\n",
        "del p1.name      # delete name\n",
        "#print(p1.name)    # it's show error because we delete name artibute\n",
        "\n",
        "del p1\n",
        "# id(p1)          # it's show error because we delete p1 object\n",
        "\n"
      ],
      "metadata": {
        "colab": {
          "base_uri": "https://localhost:8080/"
        },
        "id": "7pkdhPJz67I5",
        "outputId": "3fe60d25-53fe-4562-9c8f-5557995e81b2"
      },
      "execution_count": null,
      "outputs": [
        {
          "output_type": "stream",
          "name": "stdout",
          "text": [
            "John\n",
            "25\n"
          ]
        }
      ]
    },
    {
      "cell_type": "markdown",
      "source": [
        "-------\n",
        "\n",
        "# What is constructor in python and what is __init__()\n",
        "\n",
        "* __init__() is not exactly a constructor like in Java or C++.\n",
        "\n",
        "* Instead, it is called an initializer (or instance initializer method)."
      ],
      "metadata": {
        "id": "NKf3yiRGJORO"
      }
    },
    {
      "cell_type": "code",
      "source": [
        "class Student:\n",
        "    def __init__(self, name, age):\n",
        "        print(\"Init called\")\n",
        "        self.name = name\n",
        "        self.age = age\n",
        "\n",
        "# Object creation\n",
        "s1 = Student(\"Mohit\", 20)   # __init__() called automatically\n",
        "print(s1.name, s1.age)\n",
        "\n",
        "# Manually calling __init__ again (possible in Python)\n",
        "s1.__init__(\"Chetan\", 22)\n",
        "print(s1.name, s1.age)\n"
      ],
      "metadata": {
        "colab": {
          "base_uri": "https://localhost:8080/"
        },
        "id": "JB2_sgYEj_pq",
        "outputId": "6a63ebec-d32f-4d59-f70e-229cab95b2b5"
      },
      "execution_count": null,
      "outputs": [
        {
          "output_type": "stream",
          "name": "stdout",
          "text": [
            "Init called\n",
            "Mohit 20\n",
            "Init called\n",
            "Chetan 22\n"
          ]
        }
      ]
    },
    {
      "cell_type": "markdown",
      "source": [
        "------\n",
        "\n",
        "# How Python object creation works:\n",
        "\n",
        "* When you create an object like obj = MyClass():\n",
        "\n",
        "* First, Python calls the special method __new__() → this is the real  \n",
        "  \n",
        "     constructor that creates the object in memory.\n",
        "\n",
        "* After the object is created, Python automatically calls __init__() →\n",
        "  \n",
        "     this just initializes the object’s attributes.\n",
        "\n",
        "* So:\n",
        "\n",
        "    * __new__() → Constructor (responsible for creating object).\n",
        "\n",
        "    * __init__() → Initializer (responsible for setting values after creation)."
      ],
      "metadata": {
        "id": "Px5QVKFUJi2H"
      }
    },
    {
      "cell_type": "code",
      "source": [
        "class MyClass:\n",
        "    def __new__(cls, *args, **kwargs):\n",
        "        print(\"Inside __new__() ---> Constructor (object creation)\\n\")\n",
        "        # Create object using parent class's __new__\n",
        "        instance = super().__new__(cls)\n",
        "        print(\"\\nObject created:\", instance)\n",
        "        return instance\n",
        "\n",
        "    def __init__(self, value):\n",
        "        print(\"\\nInside __init__() ----> Initializer (object initialization)\")\n",
        "        self.value = value\n",
        "        print(\"\\nObject initialized with value:\", self.value)\n",
        "\n",
        "\n",
        "# Create object\n",
        "obj = MyClass(42)\n",
        "\n",
        "print(\"\\nAccessing object data:\")\n",
        "print(\"obj.value =\", obj.value)\n"
      ],
      "metadata": {
        "colab": {
          "base_uri": "https://localhost:8080/"
        },
        "id": "ZYjwTK-YkGUQ",
        "outputId": "776d506e-beae-47ae-a53b-00604293f06d"
      },
      "execution_count": null,
      "outputs": [
        {
          "output_type": "stream",
          "name": "stdout",
          "text": [
            "Inside __new__() ---> Constructor (object creation)\n",
            "\n",
            "\n",
            "Object created: <__main__.MyClass object at 0x7c052830bd40>\n",
            "\n",
            "Inside __init__() ----> Initializer (object initialization)\n",
            "\n",
            "Object initialized with value: 42\n",
            "\n",
            "Accessing object data:\n",
            "obj.value = 42\n"
          ]
        }
      ]
    },
    {
      "cell_type": "markdown",
      "source": [
        "--------\n",
        "\n",
        "# Does __init__() follow constructor rules?\n",
        "\n",
        "\n",
        "* Similarities with constructors (like in Java/C++):\n",
        "\n",
        "\n",
        "\n",
        "* Called automatically when object is created.\n",
        "\n",
        "* Used to initialize object variables.\n",
        "\n",
        "❌ Differences:\n",
        "\n",
        "* In Python, you can call __init__() manually like a normal method (not possible in strict constructors of Java).\n",
        "\n",
        "* Python allows multiple calls of __init__() on the same object if you want.\n",
        "\n",
        "* True constructor in Python is __new__(), not __init__().\n",
        "\n",
        "* Python doesn’t support **overloading constructors** directly (but you can handle with default arguments or *args, **kwargs)."
      ],
      "metadata": {
        "id": "gw4IBq4-JyZj"
      }
    },
    {
      "cell_type": "code",
      "source": [
        "class Demo:\n",
        "    def __init__(self, x=0, y=0):\n",
        "        print(\"Inside __init__() - Initializer\")\n",
        "        self.x = x\n",
        "        self.y = y\n",
        "        print(f\"Object initialized with x={self.x}, y={self.y}\")\n",
        "\n",
        "\n",
        "print(\"Object creation automatically calls __init__():\")\n",
        "d1 = Demo(10, 20)   # __init__ called automatically\n",
        "\n",
        "\n",
        "\n",
        "print(\"\\nManually calling __init__() again (not possible in Java/C++):\")\n",
        "d1.__init__(50, 60) # Manually re-initializing\n",
        "print(f\"d1 after re-init: x={d1.x}, y={d1.y}\")\n",
        "\n",
        "\n",
        "\n",
        "print(\"\\nMultiple calls of __init__() on same object:\")\n",
        "d1.__init__(100, 200)\n",
        "print(f\"d1 after 2nd re-init: x={d1.x}, y={d1.y}\")\n",
        "\n",
        "\n",
        "print(\"\\nTrue constructor is __new__():\")\n",
        "\n",
        "\n",
        "\n",
        "class Test:\n",
        "    def __new__(cls, *args, **kwargs):\n",
        "        print(\"Inside __new__() - Constructor (creates object)\")\n",
        "        instance = super().__new__(cls)\n",
        "        return instance\n",
        "\n",
        "    def __init__(self, value):\n",
        "        print(\"Inside __init__() - Initializer (sets data)\")\n",
        "        self.value = value\n",
        "\n",
        "\n",
        "t = Test(42)\n",
        "\n",
        "print(\"\\nConstructor overloading not supported:\")\n",
        "class Overload:\n",
        "    def __init__(self, a=0, b=0):\n",
        "        print(f\"Initialized with a={a}, b={b}\")\n",
        "\n",
        "\n",
        "# Different ways with default args\n",
        "o1 = Overload()        # both default\n",
        "o2 = Overload(5)       # only a given\n",
        "o3 = Overload(5, 10)   # both given\n"
      ],
      "metadata": {
        "colab": {
          "base_uri": "https://localhost:8080/"
        },
        "id": "viP30AeFJ3DK",
        "outputId": "e2f66e14-b727-491d-9614-a655279d2c34"
      },
      "execution_count": null,
      "outputs": [
        {
          "output_type": "stream",
          "name": "stdout",
          "text": [
            "Object creation automatically calls __init__():\n",
            "Inside __init__() - Initializer\n",
            "Object initialized with x=10, y=20\n",
            "\n",
            "Manually calling __init__() again (not possible in Java/C++):\n",
            "Inside __init__() - Initializer\n",
            "Object initialized with x=50, y=60\n",
            "d1 after re-init: x=50, y=60\n",
            "\n",
            "Multiple calls of __init__() on same object:\n",
            "Inside __init__() - Initializer\n",
            "Object initialized with x=100, y=200\n",
            "d1 after 2nd re-init: x=100, y=200\n",
            "\n",
            "True constructor is __new__():\n",
            "Inside __new__() - Constructor (creates object)\n",
            "Inside __init__() - Initializer (sets data)\n",
            "\n",
            "Constructor overloading not supported:\n",
            "Initialized with a=0, b=0\n",
            "Initialized with a=5, b=0\n",
            "Initialized with a=5, b=10\n"
          ]
        }
      ]
    },
    {
      "cell_type": "markdown",
      "source": [
        "# So final line:\n",
        "\n",
        "* __init__() is not a constructor, it’s an initializer.\n",
        "\n",
        "* The real constructor is __new__().\n",
        "\n",
        "* But in practical use, we often treat __init__() as a constructor because it initializes the object when created."
      ],
      "metadata": {
        "id": "kVGKz4Y0J0Rm"
      }
    },
    {
      "cell_type": "markdown",
      "source": [
        "**Simple program**"
      ],
      "metadata": {
        "id": "E8RvroktjxoV"
      }
    },
    {
      "cell_type": "code",
      "source": [
        "class Student:\n",
        "    def __init__(self):\n",
        "        self.name = \"Yallan\"\n",
        "        self.Roll_No = 101\n",
        "        self.marks = []\n",
        "\n",
        "    def Enter_Marks(self, x):\n",
        "        self.marks.append(x)\n",
        "\n",
        "    def Display_Marks(self):\n",
        "        print(self.name, self.Roll_No, self.marks)\n",
        "\n",
        "    def Percentage(self):\n",
        "        total = sum(self.marks)\n",
        "        print(f\"Percentage is {total/len(self.marks)}\")\n",
        "\n",
        "\n",
        "ob = Student()\n",
        "n = int(input(\"Enter the no of subjects : \"))\n",
        "\n",
        "for i in range(n):\n",
        "    x = int(input(f\"Enter the marks {i+1} : \"))\n",
        "    ob.Enter_Marks(x)\n",
        "\n",
        "print(f\"Name : {ob.name}\\nRoll No : {ob.Roll_No}\")\n",
        "ob.Display_Marks()\n",
        "ob.Percentage()\n"
      ],
      "metadata": {
        "colab": {
          "base_uri": "https://localhost:8080/"
        },
        "id": "gPVw-3xurS91",
        "outputId": "9555db5d-9eea-43a7-86d4-97a7fb5366bd"
      },
      "execution_count": null,
      "outputs": [
        {
          "output_type": "stream",
          "name": "stdout",
          "text": [
            "Enter the no of subjects : 4\n",
            "Enter the marks 1 : 78\n",
            "Enter the marks 2 : 85\n",
            "Enter the marks 3 : 55\n",
            "Enter the marks 4 : 85\n",
            "Name : Yallan\n",
            "Roll No : 101\n",
            "Yallan 101 [78, 85, 55, 85]\n",
            "Percentage is 75.75\n"
          ]
        }
      ]
    },
    {
      "cell_type": "code",
      "source": [
        "class employee:\n",
        "    def __init__(self, name='', salary=0.0):\n",
        "        self.name = name\n",
        "        self.salary = salary\n",
        "        print(\"Variables are initialized\")\n",
        "\n",
        "    def show(self):\n",
        "        print(\"name:\", self.name)\n",
        "        print(\"salary:\", self.salary)\n",
        "\n",
        "\n",
        "# Creating objects\n",
        "e1 = employee(\"abc\", 3400)  # name = \"abc\", salary = 3400\n",
        "e2 = employee(\"472\")        # name = \"472\", salary = default 0.0\n",
        "e1.show()\n",
        "e2.show()\n",
        "\n",
        "e3 = employee()             # name = default '', salary = default 0.0\n",
        "e3.show()\n",
        "\n",
        "e4 = employee('', 7852)     # name = '', salary = 7852\n",
        "e4.show()\n"
      ],
      "metadata": {
        "colab": {
          "base_uri": "https://localhost:8080/"
        },
        "id": "Tcu-CsdaOYu6",
        "outputId": "835e2f7d-4dc9-47ac-836d-996b4598a7e8"
      },
      "execution_count": null,
      "outputs": [
        {
          "output_type": "stream",
          "name": "stdout",
          "text": [
            "Variables are initialized\n",
            "Variables are initialized\n",
            "name: abc\n",
            "salary: 3400\n",
            "name: 472\n",
            "salary: 0.0\n",
            "Variables are initialized\n",
            "name: \n",
            "salary: 0.0\n",
            "Variables are initialized\n",
            "name: \n",
            "salary: 7852\n"
          ]
        }
      ]
    },
    {
      "cell_type": "code",
      "source": [
        "class employee:\n",
        "    def __init__(self, name='', salary=0.0):\n",
        "        self.name = name\n",
        "        self.salary = salary\n",
        "        print(\"Variables are initialized\")\n",
        "\n",
        "    def show(self):\n",
        "        print(\"name:\", self.name)\n",
        "        print(\"salary:\", self.salary)\n",
        "\n",
        "\n",
        "# Creating objects\n",
        "e1 = employee(\"abc\", 3400)  # name = \"abc\", salary = 3400\n",
        "e2 = employee(\"472\")        # name = \"472\", salary = default 0.0\n",
        "e1.show()\n",
        "e2.show()\n",
        "\n",
        "e3 = employee()             # name = default '', salary = default 0.0\n",
        "e3.show()\n",
        "\n",
        "e4 = employee('', 7852)     # name = '', salary = 7852\n",
        "e4.show()\n"
      ],
      "metadata": {
        "colab": {
          "base_uri": "https://localhost:8080/"
        },
        "id": "44mOZeXxPaYb",
        "outputId": "5c6d96e0-3644-44af-f320-1097c179aaaf"
      },
      "execution_count": null,
      "outputs": [
        {
          "output_type": "stream",
          "name": "stdout",
          "text": [
            "Variables are initialized\n",
            "Variables are initialized\n",
            "name: abc\n",
            "salary: 3400\n",
            "name: 472\n",
            "salary: 0.0\n",
            "Variables are initialized\n",
            "name: \n",
            "salary: 0.0\n",
            "Variables are initialized\n",
            "name: \n",
            "salary: 7852\n"
          ]
        }
      ]
    },
    {
      "cell_type": "markdown",
      "source": [
        "# @Staticmethod in python\n",
        "\n",
        "- Does not take self or cls automatically.\n",
        "\n",
        "- Works like a normal function inside a class, but grouped logically with the class.\n",
        "\n",
        "- Cannot access instance (self) or class (cls) variables unless passed explicitly.\n",
        "\n",
        "- Used for utility/helper functions."
      ],
      "metadata": {
        "id": "ZGyZpEOViEZJ"
      }
    },
    {
      "cell_type": "code",
      "source": [
        "class Employee:\n",
        "    # Static variable (class variable)\n",
        "    company = \"Google\"\n",
        "\n",
        "    def __init__(self, name):\n",
        "        self.name = name                     # Instance variable\n",
        "\n",
        "# Accessing static variable using class\n",
        "print(Employee.company)\n",
        "\n",
        "# Creating objects\n",
        "e1 = Employee(\"Ravi\")\n",
        "e2 = Employee(\"Aman\")\n",
        "\n",
        "# Both objects share same static variable\n",
        "print(e1.company)  # Google\n",
        "print(e2.company)  # Google\n",
        "\n",
        "# If we change static variable using class\n",
        "Employee.company = \"Microsoft\"\n",
        "\n",
        "print(e1.company)  # Microsoft\n",
        "print(e2.company)  # Microsoft\n"
      ],
      "metadata": {
        "id": "gWofsBgKiNmn"
      },
      "execution_count": null,
      "outputs": []
    },
    {
      "cell_type": "code",
      "source": [
        "class MathUtils:\n",
        "    @staticmethod\n",
        "    def add(a, b):\n",
        "        return a + b\n",
        "\n",
        "    @staticmethod\n",
        "    def info():\n",
        "        print(\"This is a static method, works like a normal function inside class.\")\n",
        "\n",
        "\n",
        "# Static method can be called without object\n",
        "print(MathUtils.add(5, 10))\n",
        "MathUtils.info()\n",
        "\n",
        "# Can also call with object\n",
        "m = MathUtils()\n",
        "print(m.add(20, 30))\n",
        "m.info()\n"
      ],
      "metadata": {
        "colab": {
          "base_uri": "https://localhost:8080/"
        },
        "id": "g-dSRz2miOAp",
        "outputId": "6bac4168-5c3c-4b13-a487-11767c53f337"
      },
      "execution_count": null,
      "outputs": [
        {
          "output_type": "stream",
          "name": "stdout",
          "text": [
            "15\n",
            "This is a static method, works like a normal function inside class.\n",
            "50\n",
            "This is a static method, works like a normal function inside class.\n"
          ]
        }
      ]
    },
    {
      "cell_type": "markdown",
      "source": [
        "#\n",
        "\n",
        "\n",
        " # @classmethod in Python  \n",
        "\n",
        "\n",
        "##  What is a Class Method?\n",
        "- A **class method** is bound to the **class**, not to its objects.  \n",
        "- Defined using the @classmethod decorator.  \n",
        "\n",
        "```python\n",
        "@classmethod\n",
        "def methodname(cls, arguments):\n",
        "    statements\n",
        "\n",
        "\n"
      ],
      "metadata": {
        "id": "BIhj9I8OYLeZ"
      }
    },
    {
      "cell_type": "markdown",
      "source": [
        "## Key Points\n",
        "\n",
        "- cls → refers to the **class itself** (just a convention, like self).  \n",
        "- Can **access and modify class-level variables**.  \n",
        "- Cannot directly access **instance variables**.  \n",
        "- Can be called using:  \n",
        "  - **Class name** → ClassName.method()  \n",
        "  - **Object** → obj.method()\n",
        "- Often used as **factory methods** (to create objects in different ways).  \n"
      ],
      "metadata": {
        "id": "LuhC2yfkmRgm"
      }
    },
    {
      "cell_type": "code",
      "source": [
        "class Employee:\n",
        "    company = \"Google\"   # class variable\n",
        "\n",
        "    def __init__(self, name):\n",
        "        self.name = name\n",
        "\n",
        "    # Class Method → needs 'cls'\n",
        "    @classmethod\n",
        "    def change_company(cls, new_name):\n",
        "        cls.company = new_name   # modifies class variable\n",
        "\n",
        "    @classmethod\n",
        "    def show_company(cls):\n",
        "        print(f\"Company is: {cls.company}\")\n",
        "\n",
        "\n",
        "# Class method can be called without object\n",
        "Employee.show_company()\n",
        "Employee.change_company(\"Microsoft\")\n",
        "Employee.show_company()\n",
        "\n",
        "# Can also call with object\n",
        "e1 = Employee(\"Ravi\")\n",
        "e1.show_company()\n"
      ],
      "metadata": {
        "id": "g2EkwXqRiYN_"
      },
      "execution_count": null,
      "outputs": []
    },
    {
      "cell_type": "code",
      "source": [
        "class Car:\n",
        "    def __init__(self, brand, model):\n",
        "        self.brand=brand\n",
        "        self.model=model\n",
        "        print(\"Variables got Intialized!!\")\n",
        "\n",
        "\n",
        "    @classmethod\n",
        "    def from_brand(cls, brand):\n",
        "        return cls(brand, \"Unknown\")\n",
        "\n",
        "    @classmethod\n",
        "    def empty(cls):\n",
        "        return cls('unknown', 'unknown')\n",
        "\n",
        "    def show(self):\n",
        "        print(f\"Brand : {self.brand}\\tModel : {self.model}\")\n",
        "\n",
        "c1 = Car('Maruti', 'Swift')\n",
        "c2 = Car.from_brand(\"Honda\")\n",
        "c3 = Car.empty()\n",
        "\n",
        "c1.show()\n",
        "c2.show()\n",
        "c3.show()"
      ],
      "metadata": {
        "colab": {
          "base_uri": "https://localhost:8080/"
        },
        "id": "_JYsA62sUHDh",
        "outputId": "c2ea2a36-d5f7-4ae0-8d95-4bd5ca9eec2d"
      },
      "execution_count": null,
      "outputs": [
        {
          "output_type": "stream",
          "name": "stdout",
          "text": [
            "Variables got Intialized!!\n",
            "Variables got Intialized!!\n",
            "Variables got Intialized!!\n",
            "Brand : Maruti\tModel : Swift\n",
            "Brand : Honda\tModel : Unknown\n",
            "Brand : unknown\tModel : unknown\n"
          ]
        }
      ]
    },
    {
      "cell_type": "markdown",
      "source": [
        "| Feature                   | `@classmethod`                   | `@staticmethod`          |\n",
        "| ------------------------- | -------------------------------- | ------------------------ |\n",
        "| First arg passed          | `cls` (class)                    | Nothing                  |\n",
        "| Can access class vars?    | ✅ Yes                            | ❌ No                     |\n",
        "| Can access instance vars? | ❌ No                             | ❌ No                     |\n",
        "| Typical use               | Factory methods, class-level ops | Utility/helper functions |\n"
      ],
      "metadata": {
        "id": "z7h2B-vDjq2f"
      }
    },
    {
      "cell_type": "markdown",
      "source": [
        "##  Difference with Other Methods\n",
        "\n",
        "- **Instance Method** → takes self, works with **object (instance) data**.  \n",
        "- **Class Method** → takes cls, works with **class-level data**.  \n",
        "- **Static Method** → no self / cls, just a **normal function** inside class.  \n",
        "\n",
        "-----"
      ],
      "metadata": {
        "id": "wXtxCbxtm3ka"
      }
    },
    {
      "cell_type": "markdown",
      "source": [
        "# Does Copy Constructor exit in Python ?\n",
        "\n",
        "* Python does not have a built-in copy constructor like C++ or Java.\n",
        "* But we can achieve similar behavior using different approaches.\n",
        "\n",
        "\n",
        "1. Manual Copy (Custom Constructor)\n",
        "\n",
        "    * Define __init__ method with an other parameter.\n",
        "\n",
        "    * Copy attributes from the given object.\n",
        "\n",
        "2. Using copy Module\n",
        "\n",
        "    * copy.copy(obj) → Shallow Copy\n",
        "    * shallow copy means that there are two pointers refer to same object\n",
        "\n",
        "    * New object, but references same nested objects.\n",
        "\n",
        "    * copy.deepcopy(obj) → Deep Copy\n",
        "\n",
        "    * Completely independent copy of the object.\n",
        "\n",
        "3. Deep Copy\n",
        "\n",
        "    * Creates a completely independent object in memory.\n",
        "\n",
        "    * Changes in one object don’t affect the other.\n",
        "    \n",
        "    * deep copy will create a different object in memory which is not associated with the given object.\n",
        "\n"
      ],
      "metadata": {
        "id": "g5q2XzSIp6Hb"
      }
    },
    {
      "cell_type": "markdown",
      "source": [
        "**Manual Copy (Custom Constructor)**"
      ],
      "metadata": {
        "id": "yLuSeanjoeE8"
      }
    },
    {
      "cell_type": "code",
      "source": [
        "class Employee:\n",
        "    def __init__(self, name=None, age=None, other=None):\n",
        "        if other:\n",
        "            self.name = other.name\n",
        "            self.age = other.age\n",
        "        else:\n",
        "            self.name = name\n",
        "            self.age = age\n",
        "\n",
        "# Original object\n",
        "s1 = Employee(\"abc\", 24)\n",
        "\n",
        "# Copy using custom constructor\n",
        "s2 = Employee(other=s1)\n",
        "\n",
        "print(\"Original:\", s1.name, s1.age)\n",
        "print(\"Copied  :\", s2.name, s2.age)\n"
      ],
      "metadata": {
        "colab": {
          "base_uri": "https://localhost:8080/"
        },
        "id": "TRbbPV_SpIAW",
        "outputId": "d1353935-c0d6-4a9b-c3aa-f8bf71d5c58d"
      },
      "execution_count": null,
      "outputs": [
        {
          "output_type": "stream",
          "name": "stdout",
          "text": [
            "Original: abc 24\n",
            "Copied  : abc 24\n"
          ]
        }
      ]
    },
    {
      "cell_type": "markdown",
      "source": [
        "**Using copy Module** (shallow Copy)"
      ],
      "metadata": {
        "id": "P1wX1WjSpIRM"
      }
    },
    {
      "cell_type": "code",
      "source": [
        "import copy\n",
        "\n",
        "class Employee:\n",
        "    def __init__(self, name, age):\n",
        "        self.name = name\n",
        "        self.age = age\n",
        "\n",
        "# Original object\n",
        "s1 = Employee(\"abc\", 34)\n",
        "\n",
        "# Shallow Copy\n",
        "s2 = copy.copy(s1)\n",
        "\n",
        "\n",
        "\n",
        "print(\"Original:\", s1.name, s1.age)\n",
        "print(\"Shallow :\", s2.name, s2.age)\n",
        "\n"
      ],
      "metadata": {
        "colab": {
          "base_uri": "https://localhost:8080/"
        },
        "id": "6KxC6dkmpIf8",
        "outputId": "502a6f4d-9401-49e1-d255-c0bc770a04f8"
      },
      "execution_count": null,
      "outputs": [
        {
          "output_type": "stream",
          "name": "stdout",
          "text": [
            "Original: abc 34\n",
            "Shallow : abc 34\n"
          ]
        }
      ]
    },
    {
      "cell_type": "markdown",
      "source": [
        "**Deep Copy**"
      ],
      "metadata": {
        "id": "oiTYaJyzpIuZ"
      }
    },
    {
      "cell_type": "code",
      "source": [
        "import copy\n",
        "\n",
        "class Employee:\n",
        "    def __init__(self, name, details):\n",
        "        self.name = name\n",
        "        self.details = details   # nested object (dict)\n",
        "\n",
        "# Original object\n",
        "emp1 = Employee(\"Alice\", {\"age\": 30, \"city\": \"Delhi\"})\n",
        "\n",
        "# Deep copy\n",
        "emp2 = copy.deepcopy(emp1)\n",
        "\n",
        "# Modify emp2\n",
        "emp2.details[\"city\"] = \"Mumbai\"\n",
        "\n",
        "# Show results\n",
        "print(\"Employee 1:\", emp1.name, emp1.details)\n",
        "print(\"Employee 2:\", emp2.name, emp2.details)\n"
      ],
      "metadata": {
        "colab": {
          "base_uri": "https://localhost:8080/"
        },
        "id": "U2HjZ38MpJDz",
        "outputId": "cbd1b260-151e-43c5-8197-4df8bd808a75"
      },
      "execution_count": null,
      "outputs": [
        {
          "output_type": "stream",
          "name": "stdout",
          "text": [
            "Employee 1: Alice {'age': 30, 'city': 'Delhi'}\n",
            "Employee 2: Alice {'age': 30, 'city': 'Mumbai'}\n"
          ]
        }
      ]
    },
    {
      "cell_type": "markdown",
      "source": [
        "**Copy Constructor with __dict__**"
      ],
      "metadata": {
        "id": "ySe5ucESw9Nr"
      }
    },
    {
      "cell_type": "code",
      "source": [
        "class Student:\n",
        "    def __init__(self, name, age):\n",
        "        self.name = name\n",
        "        self.age = age\n",
        "\n",
        "    # Copy constructor\n",
        "    def __init__(self, other=None):\n",
        "        if other is None:\n",
        "            self.name = \"\"\n",
        "            self.age = 0\n",
        "        else:\n",
        "            # copy all attributes using __dict__\n",
        "            self.__dict__ = other.__dict__.copy()\n",
        "\n",
        "\n",
        "# Original object\n",
        "s1 = Student()\n",
        "s1.name = \"Mohit\"\n",
        "s1.age = 21\n",
        "\n",
        "# Copy object\n",
        "s2 = Student(s1)\n",
        "\n",
        "print(\"Original:\", s1.name, s1.age)\n",
        "print(\"Copy:\", s2.name, s2.age)\n"
      ],
      "metadata": {
        "id": "_CyuTMsNw9kV"
      },
      "execution_count": null,
      "outputs": []
    },
    {
      "cell_type": "markdown",
      "source": [
        "-------\n",
        "\n",
        "# How to Check Size of Class , Object\n",
        "\n",
        "* Because class is a blueprint, so it doesn't have a size like a variable. But when you create an object, it does take memory.\n",
        "On most systems, an object which is empty has the size of 48 bytes.\n",
        "      \n",
        "    * Memory size of a class object:-\n",
        "       \n",
        "        sys.getsizeof(ob)\n",
        "        \n",
        "         ob=Empty()\n",
        "\n",
        "*  usually the sys.getsizeof function returns the size of the object header itself, not the size of its contents.\n",
        "\n",
        "      \n",
        "    * instance attributes are stored in  a separate dictionary,\n",
        "        \n",
        "        s.___dict ___\n",
        "\n",
        "*  The object just has a pointer to that dictionary, so the size doesn't change when you add attributes.\n",
        "*  If you want the total memory usage :-\n",
        "        \n",
        "         \n",
        "      * from pympler import asizeof\n",
        "          \n",
        "          asizeof.asizeof(ob)\n"
      ],
      "metadata": {
        "id": "y_Pr_KQl1IvQ"
      }
    },
    {
      "cell_type": "code",
      "source": [
        "!pip install pympler\n"
      ],
      "metadata": {
        "colab": {
          "base_uri": "https://localhost:8080/"
        },
        "id": "zdV3n0uujYJ7",
        "outputId": "a50be48b-8f4e-4a53-9e0c-11b12f856cfc"
      },
      "execution_count": null,
      "outputs": [
        {
          "output_type": "stream",
          "name": "stdout",
          "text": [
            "Requirement already satisfied: pympler in /usr/local/lib/python3.12/dist-packages (1.1)\n"
          ]
        }
      ]
    },
    {
      "cell_type": "code",
      "source": [
        "\n",
        "\n",
        "\n",
        "import sys\n",
        "from pympler import asizeof\n",
        "\n",
        "# Empty class\n",
        "class Empty:\n",
        "    pass\n",
        "\n",
        "# Class with attributes\n",
        "class Person:\n",
        "    def __init__(self, name, age):\n",
        "        self.name = name\n",
        "        self.age = age\n",
        "\n",
        "\n",
        "# --- 1. Size of class itself (blueprint has no real size like a variable)\n",
        "print(\"Size of class blueprint (Empty):\", sys.getsizeof(Empty))\n",
        "\n",
        "# --- 2. Size of empty object\n",
        "ob1 = Empty()\n",
        "print(\"Size of empty object (Empty instance):\", sys.getsizeof(ob1))\n",
        "\n",
        "# --- 3. Object with attributes\n",
        "p = Person(\"Mohit\", 22)\n",
        "print(\"Size of object with attributes (Person instance):\", sys.getsizeof(p))\n",
        "\n",
        "# --- 4. Checking where attributes are stored (in __dict__)\n",
        "print(\"Attributes dictionary of object:\", p.__dict__)\n",
        "print(\"Size of __dict__ only:\", sys.getsizeof(p.__dict__))\n",
        "\n",
        "# --- 5. Adding new attributes doesn’t change object header size\n",
        "p.address = \"Delhi\"\n",
        "print(\"After adding new attribute -> object size:\", sys.getsizeof(p))\n",
        "print(\"But __dict__ changes:\", sys.getsizeof(p.__dict__))\n",
        "\n",
        "# --- 6. Total memory size including contents (using pympler)\n",
        "print(\"Total memory size of object (with contents):\", asizeof.asizeof(p))\n"
      ],
      "metadata": {
        "colab": {
          "base_uri": "https://localhost:8080/"
        },
        "id": "4OmfBgWpjdeA",
        "outputId": "86331ee0-79fd-4f84-8ffc-330993377570"
      },
      "execution_count": null,
      "outputs": [
        {
          "output_type": "stream",
          "name": "stdout",
          "text": [
            "Size of class blueprint (Empty): 1704\n",
            "Size of empty object (Empty instance): 48\n",
            "Size of object with attributes (Person instance): 48\n",
            "Attributes dictionary of object: {'name': 'Mohit', 'age': 22}\n",
            "Size of __dict__ only: 296\n",
            "After adding new attribute -> object size: 48\n",
            "But __dict__ changes: 296\n",
            "Total memory size of object (with contents): 616\n"
          ]
        }
      ]
    },
    {
      "cell_type": "markdown",
      "source": [
        "-------\n",
        "\n",
        "\n",
        "# Differance between Function and Method\n",
        "\n",
        "| Feature             | Function                                        | Method                                                       |\n",
        "| ------------------- | ----------------------------------------------- | ------------------------------------------------------------ |\n",
        "| **Definition**      | Defined using `def` keyword outside of a class. | Defined inside a class using `def`.                          |\n",
        "| **Belongs to**      | Independent, not bound to any object.           | Bound to a class or object.                                  |\n",
        "| **How to call**     | Called directly using its name.                 | Called using an object or class instance.                    |\n",
        "| **First Parameter** | No special requirement.                         | First parameter is usually `self` (represents the instance). |\n",
        "| **Reusability**     | Can be reused anywhere in the program.          | Reusable only through class objects.                         |\n",
        "| **Example**         | `def add(a, b): return a + b`                   | `class A: def add(self, a, b): return a + b`                 |\n",
        "\n",
        "\n",
        "* Access Method outside the class by import\n",
        "* Does not Acces outside the class by import"
      ],
      "metadata": {
        "id": "wLeHWyAayXeh"
      }
    },
    {
      "cell_type": "markdown",
      "source": [
        "------\n",
        "\n",
        "# What is __bases__?\n",
        "\n",
        "- __ bases__ is a tuple that contains the immediate parent classes (base classes) of a given class.\n",
        "\n",
        "- It shows from which classes your class is inheriting directly.\n",
        "\n",
        "- If no parent is given, Python classes inherit from object by default (so you’ll see (<class 'object'>,))."
      ],
      "metadata": {
        "id": "dVf8ImlrnZXz"
      }
    },
    {
      "cell_type": "code",
      "source": [
        "class A:\n",
        "    pass\n",
        "\n",
        "class D(A):\n",
        "    pass\n",
        "\n",
        "class C():            # by defalut object class inherit\n",
        "  pass\n",
        "\n",
        "class B(A,C):\n",
        "    pass\n",
        "\n",
        "print(\"\\n Parent class of A\")\n",
        "print(A.__bases__)  # (<class 'object'>,)\n",
        "\n",
        "\n",
        "\n",
        "print(\"\\nParent-Class of B is : \")\n",
        "print(B.__bases__)  # (<class '__main__.A'>,)\n",
        "\n",
        "print(\"\\nSub-Class of A is : \")\n",
        "print(A.__subclasses__())\n",
        "\n",
        "\n",
        "print(f\"\\n{C.__bases__}\")\n",
        "\n",
        "print(f\"\\n{D.__bases__}\")"
      ],
      "metadata": {
        "colab": {
          "base_uri": "https://localhost:8080/"
        },
        "id": "PaqEaZytmyAC",
        "outputId": "1bdd72e2-a025-44de-934f-0d0ccfa25df0"
      },
      "execution_count": 11,
      "outputs": [
        {
          "output_type": "stream",
          "name": "stdout",
          "text": [
            "\n",
            " Parent class of A\n",
            "(<class 'object'>,)\n",
            "\n",
            "Parent-Class of B is : \n",
            "(<class '__main__.A'>, <class '__main__.C'>)\n",
            "\n",
            "Sub-Class of A is : \n",
            "[<class '__main__.D'>, <class '__main__.B'>]\n",
            "\n",
            "(<class 'object'>,)\n",
            "\n",
            "(<class '__main__.A'>,)\n"
          ]
        }
      ]
    },
    {
      "cell_type": "markdown",
      "source": [
        "------\n",
        "\n",
        "\n",
        "| Attribute          | Description                                                                          |\n",
        "| ------------------ | ------------------------------------------------------------------------------------ |\n",
        "| `__name__`         | The **name of the class** (string).                                                  |\n",
        "| `__dict__`         | A dictionary holding the class’s variables and methods.                              |\n",
        "| `__doc__`          | The **docstring** of the class (if defined).                                         |\n",
        "| `__module__`       | The module (file) where the class is defined.                                        |\n",
        "| `__bases__`        | A tuple of the base classes (used for inheritance).                                  |\n",
        "| `__class__`        | For an object → reference to its class.                                              |\n",
        "| `__mro__`          | Method Resolution Order (the order Python follows to search methods in inheritance). |\n",
        "| `__subclasses__()` | Returns a list of all subclasses of the class.                                       |\n"
      ],
      "metadata": {
        "id": "4VNuPcx6mu6P"
      }
    },
    {
      "cell_type": "code",
      "source": [
        "class Demo:\n",
        "    \"\"\"This is a Demo class\"\"\"\n",
        "    x = 10\n",
        "    def show(self):\n",
        "        print(\"Hello\")\n",
        "\n",
        "print(Demo.__name__)       # Demo\n",
        "print(Demo.__doc__)        # This is a Demo class\n",
        "print(Demo.__module__)     # __main__\n",
        "print(Demo.__dict__)       # Class variables + methods in a dict\n",
        "print(Demo.__bases__)      # (<class 'object'>,)\n",
        "print(Demo.__subclasses__())\n"
      ],
      "metadata": {
        "colab": {
          "base_uri": "https://localhost:8080/"
        },
        "id": "IQY3OK2UnsuD",
        "outputId": "dbbd9f15-5667-4ca8-bb2c-1e8e71f139de"
      },
      "execution_count": 12,
      "outputs": [
        {
          "output_type": "stream",
          "name": "stdout",
          "text": [
            "Demo\n",
            "This is a Demo class\n",
            "__main__\n",
            "{'__module__': '__main__', '__doc__': 'This is a Demo class', 'x': 10, 'show': <function Demo.show at 0x7dc9d73e4540>, '__dict__': <attribute '__dict__' of 'Demo' objects>, '__weakref__': <attribute '__weakref__' of 'Demo' objects>}\n",
            "(<class 'object'>,)\n",
            "[]\n"
          ]
        }
      ]
    },
    {
      "cell_type": "code",
      "source": [],
      "metadata": {
        "id": "pURQ5OQMo_BD"
      },
      "execution_count": null,
      "outputs": []
    }
  ]
}