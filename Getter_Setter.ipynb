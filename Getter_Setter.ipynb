{
  "nbformat": 4,
  "nbformat_minor": 0,
  "metadata": {
    "colab": {
      "provenance": [],
      "authorship_tag": "ABX9TyNEhsSF1aeLmWQs11OcXbmU",
      "include_colab_link": true
    },
    "kernelspec": {
      "name": "python3",
      "display_name": "Python 3"
    },
    "language_info": {
      "name": "python"
    }
  },
  "cells": [
    {
      "cell_type": "markdown",
      "metadata": {
        "id": "view-in-github",
        "colab_type": "text"
      },
      "source": [
        "<a href=\"https://colab.research.google.com/github/KASHYAPCHETAN438/Core-Python/blob/main/Getter_Setter.ipynb\" target=\"_parent\"><img src=\"https://colab.research.google.com/assets/colab-badge.svg\" alt=\"Open In Colab\"/></a>"
      ]
    },
    {
      "cell_type": "markdown",
      "source": [
        "\n",
        "\n",
        "# Introduction\n",
        "\n",
        "- In Python, we often want to control how class attributes are accessed or modified. Instead of using direct access, we use special methods to manage the behavior.\n",
        "\n",
        "- The Python property() function helps us link these methods (getter, setter, deleter) to an attribute, making the code cleaner and more secure.\n",
        "\n",
        "\n",
        "----\n",
        "\n",
        "# Python `property()`\n",
        "\n",
        "- In Python, the property() function is used to manage how we access or modify class attributes. It allows us to add logic using **getter**, **setter**, and **deleter** methods while working with object data.  \n",
        "\n",
        "- With property(), we can control data like a method but access it like a variable.\n",
        "\n",
        "\n",
        "###Syntax\n",
        "\n",
        "      \n",
        "    property(fget=None, fset=None, fdel=None, doc=None)\n",
        "\n",
        "\n",
        "###Parameters\n",
        "\n",
        "- fget: Optional. Function to get the value of an attribute. Default is None.\n",
        "\n",
        "- fset: Optional. Function to set the value of an attribute.\n",
        "\n",
        "- fdel: Optional. Function to delete an attribute’s value.\n",
        "\n",
        "- doc: Optional. String containing the documentation for the attribute.\n",
        "\n",
        "###Return\n",
        "\n",
        "- Returns a property object from the getter, setter, and deleter.\n",
        "\n",
        "###Note\n",
        "\n",
        "- If no arguments are passed, it returns a base property attribute without getter, setter, or deleter.\n",
        "\n",
        "- If doc is not provided, it uses the docstring of the getter.\n",
        "\n",
        "\n",
        "---\n",
        "\n",
        "## Creating Properties in Python\n",
        "\n",
        "There are two ways to create a property for a class:\n",
        "\n",
        "1) Using the property() method\n",
        "\n",
        "2) Using the @property decorator\n",
        "\n",
        "\n",
        "\n",
        "\n",
        "\n",
        "\n",
        "\n",
        "\n",
        "\n",
        "\n",
        "\n",
        "\n",
        "\n",
        "\n",
        "\n",
        "\n",
        "\n",
        "\n",
        "\n",
        "\n",
        "\n",
        "\n",
        "\n"
      ],
      "metadata": {
        "id": "eDmLr9rEA-JD"
      }
    },
    {
      "cell_type": "markdown",
      "source": [
        "##1. Using property() Method\n",
        "\n",
        "We manually pass getter, setter, and deleter methods to the property() function."
      ],
      "metadata": {
        "id": "q2zwZSSbE-_G"
      }
    },
    {
      "cell_type": "code",
      "source": [
        "class Person:\n",
        "    def __init__(self):\n",
        "        self._age = 0\n",
        "\n",
        "    def get_age(self):           # Getter method\n",
        "        return self._age\n",
        "\n",
        "    def set_age(self, value):    # Setter method\n",
        "        if value >= 0:\n",
        "            self._age = value\n",
        "        else:\n",
        "            print(\"Invalid age\")\n",
        "\n",
        "    def del_age(self):           # Deleter method\n",
        "        del self._age\n",
        "\n",
        "    age = property(get_age, set_age, del_age)  # Creating property\n",
        "\n",
        "p = Person()\n",
        "p.age = 30        # Calls set_age()\n",
        "print(p.age)      # Calls get_age()\n"
      ],
      "metadata": {
        "id": "YG_zvmxlE_zF"
      },
      "execution_count": null,
      "outputs": []
    },
    {
      "cell_type": "markdown",
      "source": [
        "## 2. Using @property Decorator\n",
        "\n",
        "We can define getter, setter, and deleter more cleanly with decorators."
      ],
      "metadata": {
        "id": "KLTVYNjuFBoF"
      }
    },
    {
      "cell_type": "code",
      "source": [
        "class Person:\n",
        "    def __init__(self):\n",
        "        self._age = 0\n",
        "\n",
        "    @property\n",
        "    def age(self):         # Getter method\n",
        "        return self._age\n",
        "\n",
        "    @age.setter\n",
        "    def age(self, value):  # Setter method\n",
        "        if value >= 0:\n",
        "            self._age = value\n",
        "        else:\n",
        "            print(\"Invalid age\")\n",
        "\n",
        "    @age.deleter\n",
        "    def age(self):         # Deleter method\n",
        "        del self._age\n",
        "\n",
        "p = Person()\n",
        "p.age = 25         # Calls setter\n",
        "print(p.age)       # Calls getter\n",
        "del p.age          # Calls deleter\n"
      ],
      "metadata": {
        "id": "eMZae0JBFE2N"
      },
      "execution_count": null,
      "outputs": []
    },
    {
      "cell_type": "markdown",
      "source": [
        "\n",
        "----\n",
        "\n",
        "## Differnce between Atrribute and Property\n",
        "\n",
        "| Feature         | Attribute                   | Property                               |\n",
        "| --------------- | --------------------------- | -------------------------------------- |\n",
        "| **Access**      | Direct access to a variable | Accessed through getter/setter methods |\n",
        "| **Validation**  | Not possible                | Easily done in setter                  |\n",
        "| **Syntax**      | `self.x`                    | Uses `@property` or `property()`       |\n",
        "| **Behavior**    | Static (fixed value)        | Dynamic (can compute or validate)      |\n",
        "| **Flexibility** | Less flexible               | More flexible and safer                |\n"
      ],
      "metadata": {
        "id": "uvbDszW0FKT2"
      }
    },
    {
      "cell_type": "markdown",
      "source": [
        "---\n",
        "\n",
        "###Benefits of Getter/Setter\n",
        "\n",
        "**Validation:**\n",
        "\n",
        "- Direct attribute me nahi hota\n",
        "\n",
        "- Setter me hum condition laga sakte hain (jaise age > 0)\n",
        "\n",
        "**Encapsulation:**\n",
        "\n",
        "- Attribute ko private (_age) rakha aur direct access block kiya\n",
        "\n",
        "- Getter/Setter ke through hi access allowed\n",
        "\n",
        "**Dynamic calculation:**\n",
        "\n",
        "- Getter me hum value calculate karke return kar sakte hain"
      ],
      "metadata": {
        "id": "38q81YJJI2NA"
      }
    },
    {
      "cell_type": "markdown",
      "source": [
        "---\n",
        "### Purpose of Getter & Setter  \n",
        "\n",
        "**Getter:**\n",
        "\n",
        "- Attribute ki value read karne ke liye method\n",
        "\n",
        "- Getter ke through hum logic add kar sakte hain jaise calculation, formatting, ya security check\n",
        "\n",
        "**Setter:**\n",
        "\n",
        "- Attribute ki value set karne ke liye method\n",
        "\n",
        "- Setter me hum validation ya constraints apply kar sakte hain"
      ],
      "metadata": {
        "id": "IFPtgTR8JPPC"
      }
    },
    {
      "cell_type": "code",
      "source": [
        "class Student:\n",
        "    def __init__(self, name):\n",
        "        self._name = name\n",
        "\n",
        "    name = property(lambda self: self._name)\n",
        "\n",
        "s = Student(\"shakshi\")\n",
        "print(s.name)\n",
        "\n",
        "a=dir(s)\n",
        "\n",
        "print(a)"
      ],
      "metadata": {
        "colab": {
          "base_uri": "https://localhost:8080/"
        },
        "id": "Q16XJwfLBA_w",
        "outputId": "6501df33-158b-47c5-fa3b-60cac92744e7"
      },
      "execution_count": null,
      "outputs": [
        {
          "output_type": "stream",
          "name": "stdout",
          "text": [
            "shakshi\n",
            "['__class__', '__delattr__', '__dict__', '__dir__', '__doc__', '__eq__', '__format__', '__ge__', '__getattribute__', '__getstate__', '__gt__', '__hash__', '__init__', '__init_subclass__', '__le__', '__lt__', '__module__', '__ne__', '__new__', '__reduce__', '__reduce_ex__', '__repr__', '__setattr__', '__sizeof__', '__str__', '__subclasshook__', '__weakref__', '_name', 'name']\n"
          ]
        }
      ]
    },
    {
      "cell_type": "code",
      "source": [
        "class Alphabet:\n",
        "    def __init__(self, value):\n",
        "        self._value = value\n",
        "\n",
        "    @property\n",
        "    def value(self):\n",
        "        print(\"Getting value\")\n",
        "        return self._value\n",
        "\n",
        "    @value.setter\n",
        "    def value(self, value):\n",
        "        print(\"Setting value to \" + value)\n",
        "        self._value = value\n",
        "\n",
        "    @value.deleter\n",
        "    def value(self):\n",
        "        print(\"Deleting value\")\n",
        "        del self._value\n",
        "\n",
        "# Usage\n",
        "x = Alphabet(\"Peter\")\n",
        "print(x.value)\n",
        "\n",
        "x.value = \"Diesel\"\n",
        "del x.value\n",
        "\n",
        "\n",
        "print(dir(x))"
      ],
      "metadata": {
        "colab": {
          "base_uri": "https://localhost:8080/"
        },
        "id": "1jE0RAMdBItR",
        "outputId": "595cfe70-65b2-46ad-9515-07bdc61860e1"
      },
      "execution_count": null,
      "outputs": [
        {
          "output_type": "stream",
          "name": "stdout",
          "text": [
            "Getting value\n",
            "Peter\n",
            "Setting value to Diesel\n",
            "Deleting value\n",
            "['__class__', '__delattr__', '__dict__', '__dir__', '__doc__', '__eq__', '__format__', '__ge__', '__getattribute__', '__getstate__', '__gt__', '__hash__', '__init__', '__init_subclass__', '__le__', '__lt__', '__module__', '__ne__', '__new__', '__reduce__', '__reduce_ex__', '__repr__', '__setattr__', '__sizeof__', '__str__', '__subclasshook__', '__weakref__', 'value']\n"
          ]
        }
      ]
    },
    {
      "cell_type": "code",
      "source": [],
      "metadata": {
        "id": "zxGdI6KQBp0B"
      },
      "execution_count": null,
      "outputs": []
    },
    {
      "cell_type": "markdown",
      "source": [
        "# Getter and Setter in Python\n",
        "\n",
        "###Purpose:\n",
        "\n",
        "- Getter: Method to get the value of an attribute.\n",
        "\n",
        "- Setter: Method to set the value of an attribute with validation or logic.\n",
        "\n",
        "###Ways to define:\n",
        "\n",
        "- Direct method (without property) – works, but you have to call methods explicitly.\n",
        "\n",
        "- Using @property decorator – Pythonic way; access like a normal variable.\n",
        "\n",
        "- Using property() function – manual linking of getter/setter."
      ],
      "metadata": {
        "id": "QE96q6-UKR84"
      }
    },
    {
      "cell_type": "markdown",
      "source": [
        "| Feature         | Direct Method      | `@property` / `property()` |\n",
        "| --------------- | ------------------ | -------------------------- |\n",
        "| **Access**      | `obj.get_age()`    | `obj.age`                  |\n",
        "| **Validation**  | Possible in setter | Possible in setter         |\n",
        "| **Syntax**      | `def get_age()`    | `@property` decorator      |\n",
        "| **Readability** | Less readable      | Cleaner and Pythonic       |\n",
        "| **Necessity**   | Not required       | Optional, but recommended  |\n"
      ],
      "metadata": {
        "id": "OdTszq14Kc0g"
      }
    },
    {
      "cell_type": "code",
      "source": [
        "class Person:\n",
        "    def __init__(self):\n",
        "        self._age = 0\n",
        "\n",
        "    @property\n",
        "    def age(self):           # Getter\n",
        "        return self._age\n",
        "\n",
        "    @age.setter\n",
        "    def age(self, value):    # Setter\n",
        "        if value >= 0:\n",
        "            self._age = value\n",
        "        else:\n",
        "            print(\"Invalid age\")\n",
        "\n",
        "p = Person()\n",
        "p.age = 25       # Setter called\n",
        "print(p.age)     # Getter called\n",
        "p.age = -5       # Invalid age, setter blocks\n"
      ],
      "metadata": {
        "id": "StLXvNw2KhJX",
        "outputId": "e1dd84ab-0dfc-4e57-8e78-d0fb6e129a70",
        "colab": {
          "base_uri": "https://localhost:8080/"
        }
      },
      "execution_count": null,
      "outputs": [
        {
          "output_type": "stream",
          "name": "stdout",
          "text": [
            "25\n",
            "Invalid age\n"
          ]
        }
      ]
    },
    {
      "cell_type": "code",
      "source": [],
      "metadata": {
        "id": "T5LV_IxVKhrW"
      },
      "execution_count": null,
      "outputs": []
    }
  ]
}