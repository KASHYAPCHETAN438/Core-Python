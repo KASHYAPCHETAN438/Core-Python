{
  "nbformat": 4,
  "nbformat_minor": 0,
  "metadata": {
    "colab": {
      "provenance": [],
      "authorship_tag": "ABX9TyO5cmXvfPEQ3Bw5nMU4skIM",
      "include_colab_link": true
    },
    "kernelspec": {
      "name": "python3",
      "display_name": "Python 3"
    },
    "language_info": {
      "name": "python"
    }
  },
  "cells": [
    {
      "cell_type": "markdown",
      "metadata": {
        "id": "view-in-github",
        "colab_type": "text"
      },
      "source": [
        "<a href=\"https://colab.research.google.com/github/KASHYAPCHETAN438/Core-Python/blob/main/Pillar_of_Opps_.ipynb\" target=\"_parent\"><img src=\"https://colab.research.google.com/assets/colab-badge.svg\" alt=\"Open In Colab\"/></a>"
      ]
    },
    {
      "cell_type": "markdown",
      "source": [
        "# **Encapsulatioin**\n",
        "\n",
        "- It is the process of binding together variales and methods in a class.\n",
        "- so that we can access them together by using a single unit (class).\n",
        "- That is known as Encapsulation\n",
        "\n",
        "**It helps in :-**\n",
        "- To secure data\n",
        "- To hide data\n",
        "- Restrcit direct access from outside the class.\n",
        "- Allow modifications only through controlled method\n",
        "\n",
        "- It hides internal details of the class from outside access.\n",
        "\n",
        "\n"
      ],
      "metadata": {
        "id": "1DqUBCELa2eN"
      }
    },
    {
      "cell_type": "markdown",
      "source": [
        "**Access Specifiers in Python**\n",
        "\n",
        "- Access Specifiers control visibility of class members (attributes/methods).\n",
        "\n",
        "- They decide where an attribute or method can be accessed from: inside the class, subclass, or outside the class.\n",
        "\n",
        "\n",
        "| Type          | Syntax  | Accessibility / Description                                     |\n",
        "| ------------- | ------- | --------------------------------------------------------------- |\n",
        "| **Public**    | `var`   | Accessible **everywhere** (inside class, subclass, outside)     |\n",
        "| **Protected** | `_var`  | Accessible **inside class & subclass**, not recommended outside |\n",
        "| **Private**   | `__var` | Accessible **only inside the class** (name mangling hides it)   |\n"
      ],
      "metadata": {
        "id": "10smLcogco68"
      }
    },
    {
      "cell_type": "code",
      "source": [
        "class Person:\n",
        "    def __init__(self, name, age, salary):\n",
        "        self.name = name        # public attribute\n",
        "        self._salary = salary   # protected attribute\n",
        "        self.__age = age        # private attribute\n",
        "\n",
        "    # Getter for private attribute\n",
        "    def get_age(self):\n",
        "        return self.__age\n",
        "\n",
        "    # Setter for private attribute\n",
        "    def set_age(self, age):\n",
        "        if age > 0:\n",
        "            self.__age = age\n",
        "        else:\n",
        "            print(\"Invalid age\")\n",
        "\n",
        "    # Getter for protected attribute (optional)\n",
        "    def get_salary(self):\n",
        "        return self._salary\n",
        "\n",
        "    # Setter for protected attribute (optional)\n",
        "    def set_salary(self, salary):\n",
        "        if salary >= 0:\n",
        "            self._salary = salary\n",
        "        else:\n",
        "            print(\"Invalid salary\")\n",
        "\n",
        "\n",
        "# Create object\n",
        "p = Person(\"Mohit\", 25, 50000)\n",
        "\n",
        "# Access public attribute\n",
        "print(p.name)           # Mohit\n",
        "\n",
        "# Access protected attribute (possible but by convention should be cautious)\n",
        "print(p._salary)        # 50000\n",
        "\n",
        "# Access private attribute via getter\n",
        "print(p.get_age())      # 25\n",
        "\n",
        "# Update private attribute via setter\n",
        "p.set_age(30)\n",
        "print(p.get_age())      # 30\n",
        "\n",
        "# Update protected attribute via setter\n",
        "p.set_salary(60000)\n",
        "print(p.get_salary())   # 60000\n"
      ],
      "metadata": {
        "colab": {
          "base_uri": "https://localhost:8080/"
        },
        "id": "yeY0HKGrdEBe",
        "outputId": "7e321440-fedf-4d94-fdad-b3b22e11c96a"
      },
      "execution_count": null,
      "outputs": [
        {
          "output_type": "stream",
          "name": "stdout",
          "text": [
            "Mohit\n",
            "50000\n",
            "25\n",
            "30\n",
            "60000\n"
          ]
        }
      ]
    },
    {
      "cell_type": "markdown",
      "source": [
        "# --------** ABSTRACTION (DATA HINDING) **--------\n",
        "\n",
        "\n",
        "**Data Hiding:**\n",
        "\n",
        "* Data hiding refers to restricting access to certain variables or methods so that they are not directly accessed from outside the class.\n",
        "\n",
        "**Public:**\n",
        "\n",
        "* Attributes or methods that can be accessed directly from outside the class.\n",
        "* Private: Attributes or methods that are meant to be hidden and can only be accessed within the class.\n",
        "\n",
        "G**etters and Setters:**\n",
        "\n",
        "* Methods used to get or set the value of private attributes.\n",
        "\n",
        "**How to Hide Data in Python:**\n",
        "\n",
        "* **Private Variables:**\n",
        "\n",
        "    * By convention, you prefix the variable with __ to make it private.\n",
        "\n",
        "* **Public Methods:**\n",
        "\n",
        "    * You can provide public methods (getters/setters) to access and modify private variables.\n"
      ],
      "metadata": {
        "id": "biGFm9tggZ7H"
      }
    },
    {
      "cell_type": "code",
      "source": [
        "class Employee:\n",
        "    def __init__(self, name, salary):\n",
        "        self.name = name          # Public attribute\n",
        "        self.__salary = salary    # Private attribute (data hiding)\n",
        "\n",
        "    # Getter for private attribute\n",
        "    def get_salary(self):\n",
        "        return self.__salary\n",
        "\n",
        "    # Setter for private attribute\n",
        "    def set_salary(self, salary):\n",
        "        if salary > 0:\n",
        "            self.__salary = salary\n",
        "        else:\n",
        "            print(\"Invalid salary. Must be positive.\")\n",
        "\n",
        "# Create object\n",
        "emp = Employee(\"Mohit\", 50000)\n",
        "\n",
        "# Access public attribute directly\n",
        "print(emp.name)        # Mohit\n",
        "\n",
        "# Try to access private attribute directly (will cause error)\n",
        "# print(emp.__salary)  # ❌ AttributeError\n",
        "\n",
        "# Access private attribute via getter\n",
        "print(emp.get_salary())  # 50000\n",
        "\n",
        "# Update private attribute via setter\n",
        "emp.set_salary(60000)\n",
        "print(emp.get_salary())  # 60000\n",
        "\n",
        "# Try setting invalid salary\n",
        "emp.set_salary(-1000)    # Invalid salary. Must be positive.\n"
      ],
      "metadata": {
        "colab": {
          "base_uri": "https://localhost:8080/"
        },
        "id": "DR111EYJgagn",
        "outputId": "79dd3095-14c7-4a38-a006-2a2e02a3c34a"
      },
      "execution_count": null,
      "outputs": [
        {
          "output_type": "stream",
          "name": "stdout",
          "text": [
            "Mohit\n",
            "50000\n",
            "60000\n",
            "Invalid salary. Must be positive.\n"
          ]
        }
      ]
    },
    {
      "cell_type": "code",
      "source": [
        "class Employee:\n",
        "    def __init__(self, name, salary):\n",
        "        self.name = name\n",
        "        self.__salary = salary  # Private attribute\n",
        "\n",
        "    @property\n",
        "    def salary(self):\n",
        "        return self.__salary\n",
        "\n",
        "    @salary.setter\n",
        "    def salary(self, value):\n",
        "        if value > 0:\n",
        "            self.__salary = value\n",
        "        else:\n",
        "            print(\"Invalid salary. Must be positive.\")\n",
        "\n",
        "# Create object\n",
        "emp = Employee(\"Mohit\", 50000)\n",
        "\n",
        "# Access public attribute\n",
        "print(emp.name)        # Mohit\n",
        "\n",
        "# Access private attribute via property (abstraction)\n",
        "print(emp.salary)      # 50000\n",
        "\n",
        "# Update salary using setter\n",
        "emp.salary = 60000\n",
        "print(emp.salary)      # 60000\n",
        "\n",
        "# Try setting invalid salary\n",
        "emp.salary = -1000     # Invalid salary. Must be positive.\n",
        "\n",
        "\n",
        "\n",
        "\n",
        "\n",
        "\n",
        "# __salary is hidden (data hiding).\n",
        "# salary property gives controlled access (abstraction)."
      ],
      "metadata": {
        "colab": {
          "base_uri": "https://localhost:8080/"
        },
        "id": "Vw3mUjb8lTi7",
        "outputId": "b09b305f-1b5d-4d94-ba35-e4a583431f81"
      },
      "execution_count": 18,
      "outputs": [
        {
          "output_type": "stream",
          "name": "stdout",
          "text": [
            "Mohit\n",
            "50000\n",
            "60000\n",
            "Invalid salary. Must be positive.\n"
          ]
        }
      ]
    },
    {
      "cell_type": "markdown",
      "source": [
        "# **Polymorphism in Python  (Not directly ❌)**\n",
        "\n",
        "- Polymorphism means “many forms”.\n",
        "\n",
        "- It allows objects of different classes to be treated in a similar way.\n",
        "\n",
        "- Same method name or operator behaves differently based on object or context.\n",
        "\n",
        "\n",
        "# Types of Polymorphism in Python\n",
        "\n",
        "**Compile-time / Method Overloading**\n",
        "\n",
        "- Python does not support traditional method overloading like Java/C++.\n",
        "\n",
        "- Can simulate using default arguments or *args.\n",
        "\n",
        "**Runtime / Method Overriding**\n",
        "\n",
        "- Subclass provides its own version of a method from the parent class.\n",
        "\n",
        "- Example of inheritance + polymorphism.\n",
        "\n",
        "**Operator Overloading**\n",
        "\n",
        "- Same operator behaves differently for different data types.\n",
        "\n",
        "- Example:\n",
        "      \n",
        "    + adds numbers, concatenates strings.\n",
        "\n",
        "**Duck Typing**\n",
        "\n",
        "Python focuses on behavior, not type.\n",
        "\n",
        "If an object acts like the expected type, it works."
      ],
      "metadata": {
        "id": "fBHF9FTZdmEj"
      }
    },
    {
      "cell_type": "markdown",
      "source": [
        "----\n",
        "\n",
        "**Python Method Overloading**\n",
        "\n",
        "\n",
        "\n",
        "- Method overloading is the ability to have multiple methods with the same name but different parameters.\n",
        "\n",
        "- In languages like Java or C++, this is directly supported.\n",
        "\n",
        "* **Python Support:**\n",
        "\n",
        "- Python does not support method overloading directly.\n",
        "\n",
        "- If you define multiple methods with the same name, the last method definition overrides the previous ones.\n",
        "\n",
        "* **Reason:**\n",
        "\n",
        "- Python is dynamically typed , follow duck typing philosophy\n",
        "- Does'nt have primitive data type\n",
        "- Name of variables are just reference here\n",
        "\n"
      ],
      "metadata": {
        "id": "NeX1Uw6QfqFz"
      }
    },
    {
      "cell_type": "markdown",
      "source": [
        "1. **Default Arguments**"
      ],
      "metadata": {
        "id": "fSx6M3wLQE0d"
      }
    },
    {
      "cell_type": "code",
      "source": [
        "class Demo:\n",
        "    def add(self, a, b, c=0):\n",
        "        return a + b + c\n",
        "\n",
        "d = Demo()\n",
        "print(d.add(1, 2))    # 3\n",
        "print(d.add(1, 2, 3)) # 6\n"
      ],
      "metadata": {
        "id": "Cs7fT4o8PDdM"
      },
      "execution_count": null,
      "outputs": []
    },
    {
      "cell_type": "markdown",
      "source": [
        "2. ***args / kwargs**"
      ],
      "metadata": {
        "id": "p_cc_ASDQIfM"
      }
    },
    {
      "cell_type": "code",
      "source": [
        "class Demo:\n",
        "    def add(self, *args):\n",
        "        return sum(args)\n",
        "\n",
        "d = Demo()\n",
        "print(d.add(1, 2))       # 3\n",
        "print(d.add(1, 2, 3, 4)) # 10\n"
      ],
      "metadata": {
        "id": "_Va91-9pQPxT"
      },
      "execution_count": null,
      "outputs": []
    },
    {
      "cell_type": "markdown",
      "source": [
        "3. **Type-based Overloading (singledispatch)**\n",
        "\n",
        "- Only the first argument’s type is considered for dispatch.\n",
        "\n",
        "- Default function is mandatory → acts as a fallback.\n",
        "\n",
        "- Use @<function>.register(<type>) to register type-specific versions.\n",
        "\n",
        "- Works for any Python type: int, str, list, dict, etc.\n",
        "\n",
        "- Available in Python 3.4+.\n",
        "\n",
        "- Helps write clean polymorphic code without type checks\n",
        "\n",
        "\n",
        "\n"
      ],
      "metadata": {
        "id": "MT6xn-69QRz7"
      }
    },
    {
      "cell_type": "code",
      "source": [
        "from functools import singledispatch\n",
        "\n",
        "@singledispatch\n",
        "def process(arg):\n",
        "    print(\"Default:\", arg)\n",
        "\n",
        "@process.register(int)\n",
        "def _(arg):\n",
        "    print(\"Integer:\", arg)\n",
        "\n",
        "@process.register(str)\n",
        "def _(arg):\n",
        "    print(\"String:\", arg)\n",
        "\n",
        "process(10)    # Integer: 10\n",
        "process(\"Hi\")  # String: Hi\n",
        "process(3.5)   # Default: 3.5\n"
      ],
      "metadata": {
        "id": "r61IpX0ZQaAL"
      },
      "execution_count": null,
      "outputs": []
    },
    {
      "cell_type": "code",
      "source": [
        "from functools import singledispatch\n",
        "\n",
        "# Step 1: Base function (default)\n",
        "@singledispatch\n",
        "def show(x):\n",
        "    print(\"Default of x:\", x)\n",
        "\n",
        "# Step 2: Register int type\n",
        "@show.register(int)\n",
        "def _(x):\n",
        "    print(\"Integer value of x:\", x)\n",
        "\n",
        "# Step 3: Register list type\n",
        "@show.register(list)\n",
        "def _(x):\n",
        "    print(\"List of values:\", x)\n",
        "\n",
        "# Test calls\n",
        "show(\"hi\")                # Default of x: hi\n",
        "show(100)                 # Integer value of x: 100\n",
        "show([334, 35, 22, 76])   # List of values: [334, 35, 22, 76]\n"
      ],
      "metadata": {
        "colab": {
          "base_uri": "https://localhost:8080/"
        },
        "id": "oKm-M9WZSG9q",
        "outputId": "6fa18993-8352-4d5a-f024-9966e60ebdac"
      },
      "execution_count": null,
      "outputs": [
        {
          "output_type": "stream",
          "name": "stdout",
          "text": [
            "Default of x: hi\n",
            "Integer value of x: 100\n",
            "List of values: [334, 35, 22, 76]\n"
          ]
        }
      ]
    },
    {
      "cell_type": "markdown",
      "source": [
        "4. **use typing.overload**\n",
        "-  overload option lets you declare multiple type signatures for linters/IDE type-checkers. it can be used to apply the concept of methods overloading like java /c/c++.\n",
        "\n",
        "- from typing import overload\n",
        "\n",
        "class Adder:\n",
        "\n",
        "\t@overload\n",
        "\tdef add(self, a:int, b:int) ->\n",
        "\tdef add(self, a:str, b:str) ->\n",
        "\n",
        "\tdef add(self, a,b)\n",
        "\t\treturn a+b\n",
        "\n"
      ],
      "metadata": {
        "id": "qwKxCIasS2Ow"
      }
    },
    {
      "cell_type": "code",
      "source": [
        "from typing import overload\n",
        "\n",
        "class Adder:\n",
        "    # Overload signatures for type checkers\n",
        "    @overload\n",
        "    def add(self, a: int, b: int) -> int: ...\n",
        "\n",
        "    @overload\n",
        "    def add(self, a: str, b: str) -> str: ...\n",
        "\n",
        "    # Actual implementation\n",
        "    def add(self, a, b):\n",
        "        return a + b\n",
        "\n",
        "# Testing\n",
        "adder = Adder()\n",
        "print(adder.add(10, 20))      # 30\n",
        "print(adder.add(\"Hi \", \"Mohit\"))  # Hi Mohit\n"
      ],
      "metadata": {
        "colab": {
          "base_uri": "https://localhost:8080/"
        },
        "id": "Hh5y09vPS2iA",
        "outputId": "b20bc5f5-9ea6-4093-99c5-6c9e67f97838"
      },
      "execution_count": null,
      "outputs": [
        {
          "output_type": "stream",
          "name": "stdout",
          "text": [
            "30\n",
            "Hi Mohit\n"
          ]
        }
      ]
    },
    {
      "cell_type": "markdown",
      "source": [
        "Other example"
      ],
      "metadata": {
        "id": "LI3AvT6lSNzv"
      }
    },
    {
      "cell_type": "code",
      "source": [
        "class parent:\n",
        "    def display(self):\n",
        "        c = 10\n",
        "        print(\"Parent class \")\n",
        "        print(c)\n",
        "\n",
        "class child(parent):\n",
        "    def display(self):\n",
        "        super().display()\n",
        "        b = 6\n",
        "        print(\"child class\")\n",
        "        print(b)\n",
        "\n",
        "class another_parent:\n",
        "    def display(self):\n",
        "        print(\"Another Parent Class\")\n",
        "\n",
        "class subchild(child, another_parent):\n",
        "    def display(self):\n",
        "        super().display()  # call child class display, then parent class display\n",
        "        print(\"\\nHybrid Inheritance with Polymorphism\")\n",
        "\n",
        "p1 = subchild()\n",
        "p1.display()"
      ],
      "metadata": {
        "colab": {
          "base_uri": "https://localhost:8080/"
        },
        "id": "B-nRkckLfqbP",
        "outputId": "28078a3f-ad1e-40d0-9129-5f040b45a0d6"
      },
      "execution_count": null,
      "outputs": [
        {
          "output_type": "stream",
          "name": "stdout",
          "text": [
            "Parent class \n",
            "10\n",
            "child class\n",
            "6\n",
            "\n",
            "Hybrid Inheritance with Polymorphism\n"
          ]
        }
      ]
    },
    {
      "cell_type": "markdown",
      "source": [
        "# **Method Overriding**"
      ],
      "metadata": {
        "id": "gO60s666fFDV"
      }
    },
    {
      "cell_type": "code",
      "source": [
        "class Animal:\n",
        "    def speak(self):\n",
        "        print(\"Animal makes a sound\")\n",
        "\n",
        "class Dog(Animal):\n",
        "    def speak(self):\n",
        "        print(\"Dog barks\")\n",
        "\n",
        "a = Animal()\n",
        "d = Dog()\n",
        "\n",
        "a.speak()  # Animal makes a sound\n",
        "d.speak()  # Dog barks\n"
      ],
      "metadata": {
        "id": "5mF8xq5FfFpN"
      },
      "execution_count": null,
      "outputs": []
    },
    {
      "cell_type": "markdown",
      "source": [
        "# **Operator Overloading**"
      ],
      "metadata": {
        "id": "PjgHF6uqfVQc"
      }
    },
    {
      "cell_type": "code",
      "source": [
        "print(5 + 10)       # 15 (int addition)\n",
        "print(\"Hi \" + \"Mohit\") # Hi Mohit (string concatenation)\n"
      ],
      "metadata": {
        "colab": {
          "base_uri": "https://localhost:8080/"
        },
        "id": "YIOOGeKKfaaW",
        "outputId": "3f5666ec-2ced-4855-b6ff-180383ccb2f6"
      },
      "execution_count": null,
      "outputs": [
        {
          "output_type": "stream",
          "name": "stdout",
          "text": [
            "15\n",
            "Hi Mohit\n"
          ]
        }
      ]
    },
    {
      "cell_type": "markdown",
      "source": [
        "# **Inheritance**\n",
        "\n",
        "- Inheritance allows a class (child/derived class) to reuse the properties and methods of another class (parent/base class).\n",
        "\n",
        "- This helps in code reusability and creating a hierarchy of classes."
      ],
      "metadata": {
        "id": "KWOrAGxNiI3c"
      }
    },
    {
      "cell_type": "markdown",
      "source": [
        "-----\n",
        "\n",
        "# **Single inheritance**\n",
        "\n",
        "- One child inherits from one parent."
      ],
      "metadata": {
        "id": "_-xhdms8fqto"
      }
    },
    {
      "cell_type": "code",
      "source": [
        "\n",
        "class Parent:\n",
        "    def pcfun(self):\n",
        "        print(\"it is method of parent class\")\n",
        "\n",
        "\n",
        "class child(Parent):\n",
        "    def scfun(self):\n",
        "      print(\"it is method of child class class\")\n",
        "\n",
        "p1=child()\n",
        "p1.pcfun()\n",
        "p1.scfun()\n",
        "\n",
        "\n",
        "\n"
      ],
      "metadata": {
        "id": "0C7YUbYlSn9l"
      },
      "execution_count": null,
      "outputs": []
    },
    {
      "cell_type": "code",
      "source": [
        "class brand:\n",
        "    def __init__(self, fname, lname):\n",
        "        self.name_1 = fname\n",
        "        self.name_2 = lname\n",
        "\n",
        "    def pdisplay(self):\n",
        "        print(\"parent class method\")\n",
        "        print(self.name_1, self.name_2)\n",
        "\n",
        "\n",
        "class model(brand):\n",
        "    def __init__(self, fname, lname):\n",
        "        super().__init__(fname, lname)\n",
        "        print(\"\\n child class method calling\")\n",
        "        print(self.name_1, self.name_2)\n",
        "\n",
        "p1 = model(\"Raja\", \"Saryesh\")\n",
        "p1.pdisplay()\n"
      ],
      "metadata": {
        "colab": {
          "base_uri": "https://localhost:8080/"
        },
        "id": "yfcRtiPbfq9c",
        "outputId": "eb2e0f8e-bf47-492e-a510-bd3e633e92cc"
      },
      "execution_count": null,
      "outputs": [
        {
          "output_type": "stream",
          "name": "stdout",
          "text": [
            "\n",
            " child class method calling\n",
            "Raja Saryesh\n",
            "parent class method\n",
            "Raja Saryesh\n"
          ]
        }
      ]
    },
    {
      "cell_type": "markdown",
      "source": [
        "# **Multiple inheritance**\n",
        "\n",
        "- A child inherits from more than one parent.\n",
        "- This creates ambiguity about which method should be executed.\n",
        "\n",
        " **How Python Resolves This?**\n",
        " - Python handles such situations using the MRO (Method Resolution Order).\n",
        "\n",
        "- MRO defines the order in which Python will search for a method or attribute in a hierarchy.\n",
        "\n",
        "- It is based on the C3 Linearization algorithm.\n",
        "\n",
        "- You can view it using:\n",
        "       \n",
        "    - ClassName.mro()\n",
        "    - ClassName.__mro__\n",
        "\n",
        "- MRO ensures a consistent order of method resolution even in complex multiple inheritance scenarios (like the Diamond Problem).\n",
        "\n",
        "\n"
      ],
      "metadata": {
        "id": "5lsw2hVPfrR9"
      }
    },
    {
      "cell_type": "code",
      "source": [
        "class parent1:\n",
        "    def add(self):\n",
        "        c = 10\n",
        "        print(\"Parent class 1\")\n",
        "        print(c)\n",
        "\n",
        "class parent2:\n",
        "    def display_color(self):\n",
        "        b = 6\n",
        "        print(\"Parent class 2\")\n",
        "        print(b)\n",
        "\n",
        "class subchild(parent1, parent2):                   # Inherit from parent1 and parent2\n",
        "    def display_all_info(self):\n",
        "        self.add()                                  # Call the add method from parent1\n",
        "        self.display_color()                        # Call the display_color method from parent2\n",
        "\n",
        "                                                    # Create an instance of ColoredShape\n",
        "p1=subchild()\n",
        "p1.display_all_info()\n"
      ],
      "metadata": {
        "colab": {
          "base_uri": "https://localhost:8080/"
        },
        "id": "6dVR79JXfrkP",
        "outputId": "530fc37e-8412-4d71-d05a-ffdc0ee9974b"
      },
      "execution_count": null,
      "outputs": [
        {
          "output_type": "stream",
          "name": "stdout",
          "text": [
            "Parent class 1\n",
            "10\n",
            "Parent class 2\n",
            "6\n"
          ]
        }
      ]
    },
    {
      "cell_type": "code",
      "source": [
        "class A:\n",
        "    def show(self):\n",
        "        print(\"Class A method\")\n",
        "\n",
        "class B:\n",
        "    def show(self):\n",
        "        print(\"Class B method\")\n",
        "\n",
        "class C(A, B):   # Multiple Inheritance\n",
        "    pass\n",
        "\n",
        "obj = C()\n",
        "obj.show()              # Which one gets called?\n",
        "print(C.mro())          # Check resolution order\n"
      ],
      "metadata": {
        "colab": {
          "base_uri": "https://localhost:8080/"
        },
        "id": "wr6YVqrBiuz-",
        "outputId": "36d778b2-d72c-4e2e-87d1-6e2e402d01f0"
      },
      "execution_count": 13,
      "outputs": [
        {
          "output_type": "stream",
          "name": "stdout",
          "text": [
            "Class A method\n",
            "[<class '__main__.C'>, <class '__main__.A'>, <class '__main__.B'>, <class 'object'>]\n"
          ]
        }
      ]
    },
    {
      "cell_type": "markdown",
      "source": [
        "# How this class call method show\n",
        "\n",
        "1. Class strucutre\n",
        "   - class C(A, B, D):\n",
        "   - C inherits from A, B, D → Multiple inheritance.\n",
        "   - Method Resolution Order (MRO) decides which show() is called in what order\n",
        "\n",
        "2. Python calculates MRO\n",
        "\n",
        "   - Python uses C3 linearization for multiple inheritance.\n",
        "\n",
        "   - It creates a linear order of classes to look for methods.\n",
        "\n",
        "          print(C.mro())\n",
        "          [<class '__main__.C'>, <class '__main__.A'>, <class '__main__.B'>, <class '__main__.D'>, <class 'object'>]\n",
        "\n",
        "\n",
        "3. Execution flow\n",
        "\n",
        "   - C.__init__() runs → prints MRO (C, A, B, D).\n",
        "\n",
        "   - self.show() → calls C.show() → prints: Class C function\n",
        "\n",
        "\n",
        "   - super().show() inside C.show() → goes next in MRO → A.show() → prints: Class A function\n",
        "  \n",
        "   - super().show() inside A.show() → next in MRO → B.show() → prints: Class B function\n",
        "   \n",
        "   - super().show() inside B.show() → next in MRO → D.show() → prints: Class D method\n",
        "\n",
        "- **Internal mechanism**\n",
        "\n",
        "    - Each super() does not just call parent.\n",
        "\n",
        "    - It calls the next class in the MRO relative to the current class.\n",
        "\n",
        "    - So, in C(A, B, D):\n",
        "\n",
        "\n",
        "\n",
        "       C.show() → super() → A.show()\n",
        "      \n",
        "       A.show() → super() → B.show()\n",
        "\n",
        "       B.show() → super() → D.show()\n",
        "\n",
        "       D.show() → super() → object.show() → AttributeError\n"
      ],
      "metadata": {
        "id": "cEpEzOTHeKnK"
      }
    },
    {
      "cell_type": "code",
      "source": [
        "\n",
        "# How this class call\n",
        "\n",
        "class A:\n",
        "    def show(self):\n",
        "        print(\"Class A method\")\n",
        "        super().show()                      # Call mro and follow liner order (so call B)\n",
        "\n",
        "class B:\n",
        "    def show(self):\n",
        "        print(\"Class B method\")\n",
        "        super().show()                      # Call mro and follow liner order (so call D)\n",
        "\n",
        "\n",
        "\n",
        "\n",
        "class D:\n",
        "  def show(self):\n",
        "    print(\"Class D method \")               # if we super().show() what happen ?\n",
        "                                           # Call mro and follow liner order so call Object class but object class\n",
        "                                           # we are we not acess and object class doesn't have show() method\n",
        "\n",
        "\n",
        "class C(A, B, D):\n",
        "    def __init__(self):\n",
        "        print(\"Classes in MRO :\")\n",
        "        for cls in C.mro()[0:-1]:           # resticate object class here\n",
        "            print(cls.__name__)\n",
        "\n",
        "                                                   # Call show() starting from this instance\n",
        "        self.show()\n",
        "\n",
        "    def show(self):\n",
        "        print(\"Class C method\")\n",
        "        try:\n",
        "            super().show()                        # Call class A\n",
        "        except AttributeError:\n",
        "            pass\n",
        "\n",
        "# Create instance\n",
        "obj = C()\n",
        "\n",
        "\n",
        "print(C.mro())\n"
      ],
      "metadata": {
        "colab": {
          "base_uri": "https://localhost:8080/"
        },
        "id": "VJe-UQSeUVC1",
        "outputId": "83dd734c-2f7a-4f33-88b8-1736335d0c50"
      },
      "execution_count": 14,
      "outputs": [
        {
          "output_type": "stream",
          "name": "stdout",
          "text": [
            "Classes in MRO :\n",
            "C\n",
            "A\n",
            "B\n",
            "D\n",
            "Class C method\n",
            "Class A method\n",
            "Class B method\n",
            "Class D method \n",
            "[<class '__main__.C'>, <class '__main__.A'>, <class '__main__.B'>, <class '__main__.D'>, <class 'object'>]\n"
          ]
        }
      ]
    },
    {
      "cell_type": "code",
      "source": [
        "class A:\n",
        "    def show(self):\n",
        "        print(\"show method inside the A class\")\n",
        "\n",
        "class B:\n",
        "    def show(self):\n",
        "        print(\"show method inside the B class\")\n",
        "\n",
        "class C(B,A):\n",
        "    def show(self):\n",
        "        print(\"show method inside the C class\")\n",
        "    def sayHello(self):\n",
        "        print(\"hello method in c class\")\n",
        "\n",
        "classname = input(\"Enter classname : \")\n",
        "ob = C()\n",
        "\n",
        "for cls in C.mro()[0:-1]:\n",
        "    print(cls)\n",
        "    if classname == cls.__name__:\n",
        "        if \"show\" in cls.__dict__:\n",
        "            cls.show(ob)\n",
        "\n",
        "\n",
        "# ob.show()\n",
        "print(\"Output of MRO function :\\n\", C.mro())"
      ],
      "metadata": {
        "colab": {
          "base_uri": "https://localhost:8080/"
        },
        "id": "_kH_29fuh68N",
        "outputId": "eef747d7-2907-49ea-a6d3-e6b39552dcf4"
      },
      "execution_count": 12,
      "outputs": [
        {
          "output_type": "stream",
          "name": "stdout",
          "text": [
            "Enter classname : B\n",
            "<class '__main__.C'>\n",
            "<class '__main__.B'>\n",
            "show method inside the B class\n",
            "<class '__main__.A'>\n",
            "Output of MRO function :\n",
            " [<class '__main__.C'>, <class '__main__.B'>, <class '__main__.A'>, <class 'object'>]\n"
          ]
        }
      ]
    },
    {
      "cell_type": "markdown",
      "source": [
        "# **Multilevel inheritance**\n",
        "\n",
        "- A chain of inheritance.\n",
        "\n",
        "\n",
        "\n"
      ],
      "metadata": {
        "id": "-anlx8SdgHNO"
      }
    },
    {
      "cell_type": "code",
      "source": [
        "class parent:\n",
        "    def display(self):\n",
        "        c = 10\n",
        "        print(\"Parent class \")\n",
        "        print(c)\n",
        "class child(parent):\n",
        "    def display(self):\n",
        "        super().display()\n",
        "        b = 6\n",
        "        print(\"child class\")\n",
        "        print(b)\n",
        "class subchild(child):\n",
        "    def display(self):\n",
        "        super().display()\n",
        "        print(\"sub child class \\nMultilevel inheritance\")\n",
        "p1 = subchild()\n",
        "p1.display()"
      ],
      "metadata": {
        "id": "3HdaSOyVgGWZ"
      },
      "execution_count": null,
      "outputs": []
    },
    {
      "cell_type": "code",
      "source": [
        "class A:\n",
        "  def show(self):\n",
        "    print(\"Class A Method\")\n",
        "\n",
        "class B(A):\n",
        "  def show(self):\n",
        "    super().show()\n",
        "    print(\"Class B Method \")\n",
        "\n",
        "class C(B):\n",
        "  def show(self):\n",
        "    super().show()\n",
        "    print(\"Class C method \")\n",
        "\n",
        "obj=C()\n",
        "obj.show()"
      ],
      "metadata": {
        "colab": {
          "base_uri": "https://localhost:8080/"
        },
        "id": "j_x5vU04UMep",
        "outputId": "8128d95b-c968-4a11-d1b4-9024236c11b8"
      },
      "execution_count": 6,
      "outputs": [
        {
          "output_type": "stream",
          "name": "stdout",
          "text": [
            "Class A Method\n",
            "Class B Method \n",
            "Class C method \n"
          ]
        }
      ]
    },
    {
      "cell_type": "code",
      "source": [
        "class Employee:\n",
        "    def __init__(self, name, empid):  # corrected __init__\n",
        "        self.name = name\n",
        "        self.empid = empid\n",
        "\n",
        "    def show_details(self):\n",
        "        print(f\"Employee Name : {self.name} \\t Employee Id : {self.empid}\")\n",
        "\n",
        "\n",
        "class Manager(Employee):\n",
        "    def __init__(self, name, empid, department):  # corrected __init__\n",
        "        super().__init__(name, empid)\n",
        "        self.department = department\n",
        "\n",
        "    def show_managerdetails(self):\n",
        "        self.show_details()\n",
        "        print(f\"Department : {self.department}\")\n",
        "\n",
        "\n",
        "class TeamLead(Manager):\n",
        "    def __init__(self, name, empid, department, team_size):  # corrected __init__\n",
        "        super().__init__(name, empid, department)\n",
        "        self.team_size = team_size\n",
        "\n",
        "    def show_teamlead_details(self):\n",
        "        self.show_managerdetails()\n",
        "        print(f\"Team Size : {self.team_size}\")\n",
        "\n",
        "\n",
        "# Create instance\n",
        "lead = TeamLead(\"Karan\", 101, \"Accounts\", 8)\n",
        "lead.show_teamlead_details()\n"
      ],
      "metadata": {
        "colab": {
          "base_uri": "https://localhost:8080/"
        },
        "id": "zWV75nHkUNRo",
        "outputId": "b1eae4fb-0257-4772-b8e7-c5149ff9790b"
      },
      "execution_count": 7,
      "outputs": [
        {
          "output_type": "stream",
          "name": "stdout",
          "text": [
            "Employee Name : Karan \t Employee Id : 101\n",
            "Department : Accounts\n",
            "Team Size : 8\n"
          ]
        }
      ]
    },
    {
      "cell_type": "markdown",
      "source": [
        "# **HIERARCHICAL INHERITANCE**\n",
        "\n",
        "- Multiple children inherit from the same parent."
      ],
      "metadata": {
        "id": "4vM_adc0gOGO"
      }
    },
    {
      "cell_type": "code",
      "source": [
        "class parent:\n",
        "    def display(self):\n",
        "        c = 10\n",
        "        print(\"Parent class \")\n",
        "        print(c)\n",
        "class child(parent):\n",
        "    def display(self):\n",
        "        super().display()\n",
        "        b = 6\n",
        "        print(\"child class\")\n",
        "        print(b)\n",
        "class subchild(child):\n",
        "    def display(self):\n",
        "        super().display()\n",
        "        print(\"\\nHierarchical inhertance\")\n",
        "p1 = subchild()\n",
        "p1.display()"
      ],
      "metadata": {
        "colab": {
          "base_uri": "https://localhost:8080/"
        },
        "id": "w9y4Gk-2gOWD",
        "outputId": "d3145e89-28f4-4b52-87b2-edb175a8dae4"
      },
      "execution_count": null,
      "outputs": [
        {
          "output_type": "stream",
          "name": "stdout",
          "text": [
            "Parent class \n",
            "10\n",
            "child class\n",
            "6\n",
            "\n",
            "Hierarchical inhertance\n"
          ]
        }
      ]
    },
    {
      "cell_type": "code",
      "source": [
        "class BankAccount:\n",
        "    def __init__(self, accountno, balance):   # ✅ fixed\n",
        "        self.accountno = accountno\n",
        "        self.balance = balance\n",
        "\n",
        "    def deposit(self, amount):\n",
        "        if amount <= 0:\n",
        "            print(\"Please provide Valid Amount!!\")\n",
        "        else:\n",
        "            self.balance += amount\n",
        "            print(\"Amount deposited Successfully!!\")\n",
        "\n",
        "    def show_balance(self):\n",
        "        print(f\"Account : {self.accountno} has Rs. {self.balance} only/-\")\n",
        "\n",
        "\n",
        "class SavingAccount(BankAccount):\n",
        "    def __init__(self, accountno, balance, interestrate):  # ✅ fixed\n",
        "        super().__init__(accountno, balance)\n",
        "        self.interestrate = interestrate\n",
        "\n",
        "    def add_interest(self):\n",
        "        interest = self.balance * self.interestrate / 100\n",
        "        self.balance += interest\n",
        "        print(f\"Interest Added of Rs. {interest}. New balance is Rs. {self.balance}\")\n",
        "\n",
        "\n",
        "class CurrentAccount(BankAccount):\n",
        "    def __init__(self, accountno, balance, overdraft_limit):  # ✅ fixed\n",
        "        super().__init__(accountno, balance)\n",
        "        self.odlimit = overdraft_limit\n",
        "\n",
        "    def withdraw(self, amount):\n",
        "        if self.balance + self.odlimit < amount:\n",
        "            print(\"Insufficient Funds to Withdraw!!\")\n",
        "        else:\n",
        "            self.balance -= amount\n",
        "            print(f\"Amount of Rs. {amount} withdrawn successfully!!\")\n",
        "\n",
        "\n",
        "# --- Testing ---\n",
        "savingac = SavingAccount(\"XX2334344\", 780000, 8)\n",
        "current = CurrentAccount(\"xx393992\", 102300, 10000)\n",
        "\n",
        "savingac.deposit(88000)\n",
        "savingac.show_balance()\n",
        "\n",
        "current.withdraw(34500)\n",
        "current.show_balance()\n"
      ],
      "metadata": {
        "colab": {
          "base_uri": "https://localhost:8080/"
        },
        "id": "zZLgL308Zz2i",
        "outputId": "3f54c33c-e207-4ebe-e0da-a3ed9b027416"
      },
      "execution_count": 10,
      "outputs": [
        {
          "output_type": "stream",
          "name": "stdout",
          "text": [
            "Amount deposited Successfully!!\n",
            "Account : XX2334344 has Rs. 868000 only/-\n",
            "Amount of Rs. 34500 withdrawn successfully!!\n",
            "Account : xx393992 has Rs. 67800 only/-\n"
          ]
        }
      ]
    },
    {
      "cell_type": "markdown",
      "source": [
        "# **HYBRID INHERITANCE**\n",
        "\n",
        "- A combination of multiple types (complex).\n",
        "- Python supports it but manages with MRO.\n",
        "- May be Occur dimond error\n",
        "- slove by MRO"
      ],
      "metadata": {
        "id": "uCP2JFgxgOkz"
      }
    },
    {
      "cell_type": "code",
      "source": [
        "class parent:\n",
        "    def display(self):\n",
        "        c = 10\n",
        "        print(\"Parent class \")\n",
        "        print(c)\n",
        "\n",
        "class child(parent):\n",
        "    def display(self):\n",
        "        super().display()\n",
        "        b = 6\n",
        "        print(\"child class\")\n",
        "        print(b)\n",
        "\n",
        "class another_parent:  # New class for hybrid inheritance\n",
        "    def show(self):\n",
        "        print(\"Another Parent Class\")\n",
        "\n",
        "class subchild(child, another_parent):  # Inherits from child and another_parent\n",
        "    def display(self):\n",
        "        super().display()\n",
        "        print(\"\\nHybrid Inheritance\")\n",
        "        self.show() # calling the show method from another parent class\n",
        "p1 = subchild()\n",
        "p1.display()"
      ],
      "metadata": {
        "id": "YEvCzErWgOyi"
      },
      "execution_count": null,
      "outputs": []
    },
    {
      "cell_type": "code",
      "source": [
        "class Person:\n",
        "    def __init__(self, name, age):\n",
        "        self.__name = name\n",
        "        self.__age = age\n",
        "    def get_name(self):\n",
        "        return self.__name\n",
        "\n",
        "    def set_name(self, name):\n",
        "        self.__name = name\n",
        "\n",
        "    def get_age(self):\n",
        "        return self.__age\n",
        "\n",
        "    def set_age(self, age):\n",
        "        if age > 0:\n",
        "            self.__age = age\n",
        "        else:\n",
        "            print(\"Age should be positive!\")\n",
        "\n",
        "person1 = Person(\"Raj\", 25)\n",
        "\n",
        "print(\"Name:\", person1.get_name())\n",
        "print(\"Age:\", person1.get_age())\n",
        "\n",
        "person1.set_name(\"Ravi\")\n",
        "person1.set_age(30)\n",
        "\n",
        "print(\"Updated Name:\", person1.get_name())\n",
        "print(\"Updated Age:\", person1.get_age())\n",
        "\n"
      ],
      "metadata": {
        "id": "Ovhbn8sTgPRR"
      },
      "execution_count": null,
      "outputs": []
    },
    {
      "cell_type": "code",
      "source": [
        "class Person:\n",
        "    def __init__(self, name):\n",
        "        self.name = name\n",
        "\n",
        "    def display(self):\n",
        "        print(f\"Name: {self.name}\")\n",
        "\n",
        "class Student(Person):\n",
        "    def __init__(self, name, roll_no):\n",
        "        Person.__init__(self, name)\n",
        "        self.roll_no = roll_no\n",
        "\n",
        "    def display_student(self):\n",
        "        print(f\"Student Roll No: {self.roll_no}\")\n",
        "\n",
        "class Teacher(Person):\n",
        "    def __init__(self, name, subject):\n",
        "        Person.__init__(self, name)\n",
        "        self.subject = subject\n",
        "\n",
        "    def display_teacher(self):\n",
        "        print(f\"Teaches: {self.subject}\")\n",
        "\n",
        "class TeachingAssistant(Student, Teacher):\n",
        "    def __init__(self, name, roll_no, subject):\n",
        "        Student.__init__(self, name, roll_no)\n",
        "        Teacher.__init__(self, name, subject)\n",
        "\n",
        "    def display_ta(self):\n",
        "        print(f\"{self.name} is a TA for {self.subject} with Roll No {self.roll_no}\")\n",
        "\n",
        "\n",
        "ta = TeachingAssistant(\"Chetan\", 101, \"Python\")\n",
        "ta.display()\n",
        "ta.display_student()\n",
        "ta.display_teacher()\n",
        "ta.display_ta()\n"
      ],
      "metadata": {
        "colab": {
          "base_uri": "https://localhost:8080/"
        },
        "id": "xCXbJHbuktbM",
        "outputId": "a37efb0c-7e3c-480e-c7e4-3a6ac0c8db59"
      },
      "execution_count": 17,
      "outputs": [
        {
          "output_type": "stream",
          "name": "stdout",
          "text": [
            "Name: Chetan\n",
            "Student Roll No: 101\n",
            "Teaches: Python\n",
            "Chetan is a TA for Python with Roll No 101\n"
          ]
        }
      ]
    },
    {
      "cell_type": "markdown",
      "source": [
        "# How to Restricting Inheritance in Python ?"
      ],
      "metadata": {
        "id": "SM74ag9kpPl8"
      }
    },
    {
      "cell_type": "markdown",
      "source": [
        "- **Make a Class Final (No Inheritance Allowed)**"
      ],
      "metadata": {
        "id": "4j6aMhaLpT2k"
      }
    },
    {
      "cell_type": "code",
      "source": [
        "from typing import final\n",
        "\n",
        "@final\n",
        "class Parent:\n",
        "    def show(self):\n",
        "        print(\"This is Parent class\")\n",
        "\n",
        "class Child(Parent):                          # Error: Cannot inherit from final class\n",
        "    show()\n",
        "    print(\"Parent class  not inherit\")\n",
        "    pass\n"
      ],
      "metadata": {
        "colab": {
          "base_uri": "https://localhost:8080/",
          "height": 332
        },
        "id": "s94HPlKopXta",
        "outputId": "af3bb476-66bd-4126-ab47-508120f14246"
      },
      "execution_count": null,
      "outputs": [
        {
          "output_type": "error",
          "ename": "NameError",
          "evalue": "name 'show' is not defined",
          "traceback": [
            "\u001b[0;31m---------------------------------------------------------------------------\u001b[0m",
            "\u001b[0;31mNameError\u001b[0m                                 Traceback (most recent call last)",
            "\u001b[0;32m/tmp/ipython-input-2432407099.py\u001b[0m in \u001b[0;36m<cell line: 0>\u001b[0;34m()\u001b[0m\n\u001b[1;32m      6\u001b[0m         \u001b[0mprint\u001b[0m\u001b[0;34m(\u001b[0m\u001b[0;34m\"This is Parent class\"\u001b[0m\u001b[0;34m)\u001b[0m\u001b[0;34m\u001b[0m\u001b[0;34m\u001b[0m\u001b[0m\n\u001b[1;32m      7\u001b[0m \u001b[0;34m\u001b[0m\u001b[0m\n\u001b[0;32m----> 8\u001b[0;31m \u001b[0;32mclass\u001b[0m \u001b[0mChild\u001b[0m\u001b[0;34m(\u001b[0m\u001b[0mParent\u001b[0m\u001b[0;34m)\u001b[0m\u001b[0;34m:\u001b[0m  \u001b[0;31m# ❌ Error: Cannot inherit from final class\u001b[0m\u001b[0;34m\u001b[0m\u001b[0;34m\u001b[0m\u001b[0m\n\u001b[0m\u001b[1;32m      9\u001b[0m     \u001b[0mshow\u001b[0m\u001b[0;34m(\u001b[0m\u001b[0;34m)\u001b[0m\u001b[0;34m\u001b[0m\u001b[0;34m\u001b[0m\u001b[0m\n\u001b[1;32m     10\u001b[0m     \u001b[0mprint\u001b[0m\u001b[0;34m(\u001b[0m\u001b[0;34m\"Parent class  not inherit\"\u001b[0m\u001b[0;34m)\u001b[0m\u001b[0;34m\u001b[0m\u001b[0;34m\u001b[0m\u001b[0m\n",
            "\u001b[0;32m/tmp/ipython-input-2432407099.py\u001b[0m in \u001b[0;36mChild\u001b[0;34m()\u001b[0m\n\u001b[1;32m      7\u001b[0m \u001b[0;34m\u001b[0m\u001b[0m\n\u001b[1;32m      8\u001b[0m \u001b[0;32mclass\u001b[0m \u001b[0mChild\u001b[0m\u001b[0;34m(\u001b[0m\u001b[0mParent\u001b[0m\u001b[0;34m)\u001b[0m\u001b[0;34m:\u001b[0m  \u001b[0;31m# ❌ Error: Cannot inherit from final class\u001b[0m\u001b[0;34m\u001b[0m\u001b[0;34m\u001b[0m\u001b[0m\n\u001b[0;32m----> 9\u001b[0;31m     \u001b[0mshow\u001b[0m\u001b[0;34m(\u001b[0m\u001b[0;34m)\u001b[0m\u001b[0;34m\u001b[0m\u001b[0;34m\u001b[0m\u001b[0m\n\u001b[0m\u001b[1;32m     10\u001b[0m     \u001b[0mprint\u001b[0m\u001b[0;34m(\u001b[0m\u001b[0;34m\"Parent class  not inherit\"\u001b[0m\u001b[0;34m)\u001b[0m\u001b[0;34m\u001b[0m\u001b[0;34m\u001b[0m\u001b[0m\n\u001b[1;32m     11\u001b[0m     \u001b[0;32mpass\u001b[0m\u001b[0;34m\u001b[0m\u001b[0;34m\u001b[0m\u001b[0m\n",
            "\u001b[0;31mNameError\u001b[0m: name 'show' is not defined"
          ]
        }
      ]
    },
    {
      "cell_type": "markdown",
      "source": [
        "- **Make a Method Final (No Overriding Allowed)"
      ],
      "metadata": {
        "id": "91aDFVoNpcRf"
      }
    },
    {
      "cell_type": "code",
      "source": [
        "from typing import final\n",
        "\n",
        "class Parent:\n",
        "    x=10\n",
        "    @final\n",
        "    def display(self):\n",
        "        print(\"This is a final method, cannot be overridden\")\n",
        "\n",
        "class Child(Parent):\n",
        "    def show_x(self):\n",
        "       print(super().x)\n",
        "\n",
        "    def display(self):                     #  Error: Cannot override final method\n",
        "        print(\"Trying to override\")\n",
        "\n",
        "p1=Child()\n",
        "p1.show_x()\n",
        "p1.display()\n"
      ],
      "metadata": {
        "id": "cp7zsWyggPtL",
        "colab": {
          "base_uri": "https://localhost:8080/"
        },
        "outputId": "0af9181d-d8f7-433f-b577-8ff848695f36"
      },
      "execution_count": 3,
      "outputs": [
        {
          "output_type": "stream",
          "name": "stdout",
          "text": [
            "10\n",
            "Trying to override\n"
          ]
        }
      ]
    },
    {
      "cell_type": "markdown",
      "source": [
        "# Interllay we can get this using __new__() method\n",
        "\n",
        "\n",
        "\n",
        "\n",
        "#  Metaclass:-\n",
        "- this is a class of a class. just like objects are created from the classes, in the same way, every class in python, gets created from the metaclass.\n",
        "- By default, python uses type as the metaclass.\n",
        "\n",
        "-  if you want to control how classes are created, then you can define a custom metaclass(by subclassing type).\n",
        "# Namespace:\n",
        "- it is a dictionary that holds the variable names and their values.\n",
        "- When defining a class, the class body is executed, and all the methods/ attributes are collected into this dictionary.\n",
        "\n",
        "  Example\n",
        "\n",
        "- var = classname._dict_\n",
        "# bases :  \n",
        "\n",
        "- it is a tuple containing the parent classes from which the new class inherits.\n",
        "- Whenever python creates a class,\n",
        "- it known which parent to use via - this bases tuple.\n",
        "- to get bases :\n",
        "\n",
        "- Classname._bases_ : will print the direct parent\n",
        "\n",
        "- to get the list of all the parent classes in a hierarchy:-  mro()\n",
        "\n",
        "\n",
        "#  **getAttr():**\n",
        "\n",
        "- this function returns the list  of variables, methods in a class.\n",
        "\n",
        "- It is a built in function used to access an  attribute of an object dynamically.\n",
        "syntax:\n",
        "- **getAttr(object, name, default)**\n",
        "- object :\n",
        "      \n",
        "    - the object whose attribute you want to check/ access.\n",
        "- name :\n",
        "    \n",
        "     - it is the name of the attribute\n",
        "- default(optional) :  \n",
        "    \n",
        "  - it returns a value if the attribute doesn't exist(otherwise raise AttributeError)\n"
      ],
      "metadata": {
        "id": "ROqrbblkqiL1"
      }
    },
    {
      "cell_type": "code",
      "source": [
        "class FinalMeta(type):\n",
        "    def __new__(cls, name, bases, namespace):\n",
        "        print(\"name : \", name)\n",
        "        print(\"bases : \", bases)\n",
        "        print(\"namespace : \", namespace)\n",
        "\n",
        "        for base in bases:\n",
        "            if getattr(base, \"_is_final_\", False):\n",
        "                raise TypeError(f\"Cannot Inherit from final class {base.__name__}\")\n",
        "\n",
        "        return super().__new__(cls, name, bases, namespace)\n",
        "\n",
        "\n",
        "class Demo:\n",
        "    def __init__(self, a, b):   # ✅ fixed\n",
        "        self.a = a\n",
        "        self.b = b\n",
        "\n",
        "    def addValues(self):\n",
        "        print(f\"Sum of {self.a} and {self.b} is {self.a + self.b}\")\n",
        "\n",
        "\n",
        "class Child1(Demo, metaclass=FinalMeta):\n",
        "    _is_final_ = True     # mark as final\n",
        "\n",
        "    def findProduct(self):\n",
        "        print(f\"Product of {self.a} and {self.b} is {self.a * self.b}\")\n",
        "\n",
        "\n",
        "class Child2(Child1):   # Error\n",
        "    def show(self):\n",
        "        print(f\"value of a : {self.a} and value of b : {self.b}\")\n",
        "\n",
        "\n",
        "# Object banake test karte hain\n",
        "ob1 = Child1(10, 20)\n",
        "ob1.addValues()\n",
        "ob1.findProduct()\n",
        "\n",
        "ob2 = Child2(12, 44)   # ❌ Error: Cannot inherit from final class\n",
        "ob2.show()\n",
        "ob2.addValues()\n"
      ],
      "metadata": {
        "id": "J9kbpWibqgks"
      },
      "execution_count": null,
      "outputs": []
    },
    {
      "cell_type": "code",
      "source": [
        "# Namespace\n",
        "class abc:\n",
        "  pass\n",
        "\n",
        "print(abc.__dict__)"
      ],
      "metadata": {
        "colab": {
          "base_uri": "https://localhost:8080/"
        },
        "id": "sS8_4DvWucMT",
        "outputId": "0710ad15-7837-4808-845f-618fbb01332c"
      },
      "execution_count": null,
      "outputs": [
        {
          "output_type": "stream",
          "name": "stdout",
          "text": [
            "{'__module__': '__main__', '__dict__': <attribute '__dict__' of 'abc' objects>, '__weakref__': <attribute '__weakref__' of 'abc' objects>, '__doc__': None}\n"
          ]
        }
      ]
    },
    {
      "cell_type": "code",
      "source": [
        "# Bases\n",
        "class abc:\n",
        "  pass\n",
        "\n",
        "\n",
        "class bcd(abc):\n",
        "  pass\n",
        "\n",
        "class xyz(bcd):\n",
        "  print(\"Xyz\")\n",
        "\n",
        "\n",
        "print(xyz.__bases__)\n",
        "\n",
        "\n",
        "# to get all parent in hierarchy\n",
        "\n",
        "print(xyz.__mro__)"
      ],
      "metadata": {
        "colab": {
          "base_uri": "https://localhost:8080/"
        },
        "id": "txGXiy_4vpOY",
        "outputId": "7abc4f1c-ee48-4905-8890-735e99096e38"
      },
      "execution_count": null,
      "outputs": [
        {
          "output_type": "stream",
          "name": "stdout",
          "text": [
            "Xyz\n",
            "(<class '__main__.bcd'>,)\n",
            "(<class '__main__.xyz'>, <class '__main__.bcd'>, <class '__main__.abc'>, <class 'object'>)\n"
          ]
        }
      ]
    },
    {
      "cell_type": "markdown",
      "source": [
        "# Other Questions"
      ],
      "metadata": {
        "id": "8Mq4FRfXjexR"
      }
    },
    {
      "cell_type": "markdown",
      "source": [
        "![image.png](data:image/png;base64,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)"
      ],
      "metadata": {
        "id": "G5IWZdeoTcJW"
      }
    },
    {
      "cell_type": "code",
      "source": [
        "class Shape:\n",
        "    def area(self, *args):\n",
        "        if len(args) == 1:\n",
        "            print(f\"Area of square: {args[0] * args[0]}\")\n",
        "        elif len(args) == 2:\n",
        "            print(f\"Area of rectangle: {args[0] * args[1]}\")\n",
        "        elif len(args) == 3:\n",
        "            print(f\"Area of triangle: {0.5 * args[0] * args[1]}\")\n",
        "        else:\n",
        "            print(\"Invalid number of arguments\")\n",
        "\n",
        "\n",
        "ob = Shape()\n",
        "ob.area(5)\n",
        "ob.area(5, 6)\n",
        "ob.area(5, 6, 7)\n"
      ],
      "metadata": {
        "colab": {
          "base_uri": "https://localhost:8080/"
        },
        "id": "LZ2-mjGATdED",
        "outputId": "78b44470-d802-4fef-b6e6-f4ebd10d0fee"
      },
      "execution_count": null,
      "outputs": [
        {
          "output_type": "stream",
          "name": "stdout",
          "text": [
            "Area of square: 25\n",
            "Area of rectangle: 30\n",
            "Area of triangle: 15.0\n"
          ]
        }
      ]
    },
    {
      "cell_type": "code",
      "source": [
        "from functools import singledispatch\n",
        "\n",
        "@singledispatch\n",
        "def show(x):\n",
        "    print(\"Invalid input\")\n",
        "\n",
        "\n",
        "@show.register(int)\n",
        "def _(x):\n",
        "    print(f\"Area of square: {x * x}\")\n",
        "\n",
        "\n",
        "@show.register(tuple)\n",
        "def _(x):\n",
        "    if len(x) == 2:\n",
        "        print(f\"Area of rectangle: {x[0] * x[1]}\")\n",
        "    else:\n",
        "        print(\"Invalid tuple for rectangle\")\n",
        "\n",
        "@show.register(list)\n",
        "def _(x):\n",
        "    if len(x) == 3:\n",
        "        print(f\"Area of triangle: {0.5 * x[0] * x[1]}\")\n",
        "    else:\n",
        "        print(\"Invalid list for triangle\")\n",
        "\n",
        "\n",
        "show(5)\n",
        "show((5,6))\n",
        "show([7,8,9])"
      ],
      "metadata": {
        "colab": {
          "base_uri": "https://localhost:8080/"
        },
        "id": "kOLvSLb4XaXA",
        "outputId": "1c854073-7e37-4c96-aa55-92439d70d1c8"
      },
      "execution_count": null,
      "outputs": [
        {
          "output_type": "stream",
          "name": "stdout",
          "text": [
            "Area of square: 25\n",
            "Area of rectangle: 30\n",
            "Area of triangle: 28.0\n"
          ]
        }
      ]
    },
    {
      "cell_type": "markdown",
      "source": [
        "![image.png](data:image/png;base64,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)"
      ],
      "metadata": {
        "id": "mI7kwEssTdVK"
      }
    },
    {
      "cell_type": "code",
      "source": [
        "class student:\n",
        "    def dispaly_marks(self, *args):\n",
        "        if len(args) == 1:\n",
        "            print(f\"One subject marks : {args[0]}\")\n",
        "        elif len(args) == 2:\n",
        "            print(f\"two subject marks : {args[0] + args[1]}\")\n",
        "        elif len(args) == 3:\n",
        "            print(f\"Average marks of three subject : {(0.5 + args[0] + args[1])/3}\")\n",
        "        else:\n",
        "            print(\"Invalid number of arguments\")\n",
        "\n",
        "\n",
        "ob = student()\n",
        "ob.dispaly_marks(95)\n",
        "ob.dispaly_marks(95,78)\n",
        "ob.dispaly_marks(95,92,93)\n"
      ],
      "metadata": {
        "colab": {
          "base_uri": "https://localhost:8080/"
        },
        "id": "MipeWMAzXG0X",
        "outputId": "d0183d56-f83e-4a09-d805-ab6bf4f76f95"
      },
      "execution_count": null,
      "outputs": [
        {
          "output_type": "stream",
          "name": "stdout",
          "text": [
            "One subject marks : 95\n",
            "two subject marks : 173\n",
            "Average marks of three subject : 62.5\n"
          ]
        }
      ]
    },
    {
      "cell_type": "code",
      "source": [],
      "metadata": {
        "id": "QVbDR-lNghml"
      },
      "execution_count": null,
      "outputs": []
    }
  ]
}