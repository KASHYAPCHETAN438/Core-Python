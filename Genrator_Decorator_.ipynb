{
  "nbformat": 4,
  "nbformat_minor": 0,
  "metadata": {
    "colab": {
      "provenance": [],
      "authorship_tag": "ABX9TyOQodfclXppTocg3Vgek8Jj",
      "include_colab_link": true
    },
    "kernelspec": {
      "name": "python3",
      "display_name": "Python 3"
    },
    "language_info": {
      "name": "python"
    }
  },
  "cells": [
    {
      "cell_type": "markdown",
      "metadata": {
        "id": "view-in-github",
        "colab_type": "text"
      },
      "source": [
        "<a href=\"https://colab.research.google.com/github/KASHYAPCHETAN438/Core-Python/blob/main/Genrator_Decorator_.ipynb\" target=\"_parent\"><img src=\"https://colab.research.google.com/assets/colab-badge.svg\" alt=\"Open In Colab\"/></a>"
      ]
    },
    {
      "cell_type": "markdown",
      "source": [
        "#  Iterators\n",
        "- An iterator is an object in Python that allows you to iterate (loop) through elements one at a time — without storing all values in memory.\n",
        "\n",
        "- Iterator = Object which remembers where it is while iterating.\n",
        "\n",
        "### Important Terms\n",
        "\n",
        "| Term          | Meaning                                                                         |\n",
        "| ------------- | ------------------------------------------------------------------------------- |\n",
        "| **Iterable**  | Any object which can be looped over (`for` loop). Example: list, tuple, string. |\n",
        "| **Iterator**  | Object returned by `iter()` that gives items one by one using `next()`.         |\n",
        "| **Iteration** | The process of fetching next element using `next()`.                            |\n",
        "\n",
        "<br>"
      ],
      "metadata": {
        "id": "Rv7J6zLaxy8G"
      }
    },
    {
      "cell_type": "code",
      "source": [
        "numbers = [10, 20, 30]\n",
        "it = iter(numbers)  # get iterator object\n",
        "\n",
        "print(next(it))  # 10\n",
        "print(next(it))  # 20\n",
        "print(next(it))  # 30\n",
        "# print(next(it))  # ❌ StopIteration (no more elements)\n"
      ],
      "metadata": {
        "colab": {
          "base_uri": "https://localhost:8080/"
        },
        "id": "PmRaW9W96mBn",
        "outputId": "d3482936-a390-41c3-cd37-fdc86cc56def"
      },
      "execution_count": null,
      "outputs": [
        {
          "output_type": "stream",
          "name": "stdout",
          "text": [
            "10\n",
            "20\n",
            "30\n"
          ]
        }
      ]
    },
    {
      "cell_type": "code",
      "source": [
        "numbers = [1, 2, 3]\n",
        "\n",
        "for n in numbers:\n",
        "    print(n)\n"
      ],
      "metadata": {
        "colab": {
          "base_uri": "https://localhost:8080/"
        },
        "id": "53v83gUE6mEj",
        "outputId": "7be50deb-261a-47eb-e34c-3e74f052fd5b"
      },
      "execution_count": null,
      "outputs": [
        {
          "output_type": "stream",
          "name": "stdout",
          "text": [
            "1\n",
            "2\n",
            "3\n"
          ]
        }
      ]
    },
    {
      "cell_type": "code",
      "source": [
        "# Internally, this happens:\n",
        "\n",
        "it = iter(numbers)\n",
        "while True:\n",
        "    try:\n",
        "        item = next(it)\n",
        "        print(item)\n",
        "    except StopIteration:\n",
        "        break\n"
      ],
      "metadata": {
        "colab": {
          "base_uri": "https://localhost:8080/"
        },
        "id": "kAfSUDBI6mHa",
        "outputId": "ca9ed710-ad05-4e28-906a-a29c2f88a3e3"
      },
      "execution_count": null,
      "outputs": [
        {
          "output_type": "stream",
          "name": "stdout",
          "text": [
            "1\n",
            "2\n",
            "3\n"
          ]
        }
      ]
    },
    {
      "cell_type": "markdown",
      "source": [
        "## Creating Your Own Iterator Class\n",
        "\n",
        "\n",
        "- You can create a custom iterator by implementing two special methods:\n",
        "\n",
        "- __ iter __ ()   : returns the iterator object itself\n",
        "\n",
        "- __ next __() : returns the next value"
      ],
      "metadata": {
        "id": "bfbYA7O77lGe"
      }
    },
    {
      "cell_type": "code",
      "source": [
        "class Counter:\n",
        "    def __init__(self, start, end):\n",
        "        self.current = start\n",
        "        self.end = end\n",
        "\n",
        "    def __iter__(self):\n",
        "        return self\n",
        "\n",
        "    def __next__(self):\n",
        "        if self.current <= self.end:\n",
        "            value = self.current\n",
        "            self.current += 1\n",
        "            return value\n",
        "        else:\n",
        "            raise StopIteration\n",
        "\n",
        "for num in Counter(1, 5):\n",
        "    print(num)\n"
      ],
      "metadata": {
        "colab": {
          "base_uri": "https://localhost:8080/"
        },
        "id": "SLdHvAhV6mK9",
        "outputId": "dc8aeb8a-1a03-46d3-e93d-89c1a75590d5"
      },
      "execution_count": null,
      "outputs": [
        {
          "output_type": "stream",
          "name": "stdout",
          "text": [
            "1\n",
            "2\n",
            "3\n",
            "4\n",
            "5\n"
          ]
        }
      ]
    },
    {
      "cell_type": "markdown",
      "source": [
        "\n",
        " #  Generators\n",
        "\n",
        "- A generator in Python is a special type of iterator that allows you to iterate over data without storing it all in memory.\n",
        "\n",
        "-  handles large data without storing everything\n",
        "\n",
        "<br>\n",
        "\n",
        "### Generators are useful when:\n",
        "\n",
        "- You have large data to process.\n",
        "\n",
        "- You want to save memory.\n",
        "\n",
        "- You don’t need all values at once.\n",
        "\n",
        "<br>\n",
        "\n",
        "## How to Create a Generator\n",
        "- When we used yield keyword in a simple function it's called genrator.\n",
        "- It is an object.\n",
        "\n",
        "<br>\n",
        "\n",
        "### 1. Using a generator function (with yield)\n",
        "\n",
        "- A generator function looks like a normal function but uses the yield keyword instead of return.\n",
        "\n",
        "<br>\n",
        "\n",
        "### Example :\n"
      ],
      "metadata": {
        "id": "IE7u53VAumzk"
      }
    },
    {
      "cell_type": "code",
      "source": [
        "# Create a genrator\n",
        "\n",
        "def count_up_to(n):\n",
        "    count = 1\n",
        "    while count <= n:\n",
        "        yield count   # returns one value at a time\n",
        "        count += 1\n",
        "\n",
        "\n",
        "# Calling a genrator\n",
        "gen = count_up_to(5)\n",
        "\n",
        "for num in gen:\n",
        "    print(num)\n"
      ],
      "metadata": {
        "id": "SOAxcqPY0C3V"
      },
      "execution_count": null,
      "outputs": []
    },
    {
      "cell_type": "markdown",
      "source": [
        "## 2. Using Generator Expression\n",
        "\n",
        "- You can also create a generator like a list comprehension, but with parentheses () instead of square brackets [].\n",
        "\n",
        "<br>\n",
        "\n",
        "### Example :"
      ],
      "metadata": {
        "id": "pItb88a80v9V"
      }
    },
    {
      "cell_type": "code",
      "source": [
        "squares = (x*x for x in range(5))\n",
        "\n",
        "print(next(squares))  # 0\n",
        "print(next(squares))  # 1\n",
        "print(next(squares))  # 4\n"
      ],
      "metadata": {
        "colab": {
          "base_uri": "https://localhost:8080/"
        },
        "id": "MSGO38yx1ARr",
        "outputId": "3d8c30a5-10dc-49b6-d078-65fafb1d84c6"
      },
      "execution_count": null,
      "outputs": [
        {
          "output_type": "stream",
          "name": "stdout",
          "text": [
            "0\n",
            "1\n",
            "4\n"
          ]
        }
      ]
    },
    {
      "cell_type": "markdown",
      "source": [
        "### Methods Used with Generators\n",
        "\n",
        "|  Method                         | Description                                           | Example                          |\n",
        "| ----------------------------------------- | ----------------------------------------------------- | -------------------------------- |\n",
        "| `next(generator)`                         | Returns the next value from the generator             | `next(gen)`                      |\n",
        "| `send(value)`                             | Sends a value to the generator (used with coroutines) | `gen.send(value)`                |\n",
        "| `throw(type, value=None, traceback=None)` | Raises an exception inside the generator              | `gen.throw(Exception, \"Error!\")` |\n",
        "| `close()`                                 | Stops the generator                                   | `gen.close()`                    |\n"
      ],
      "metadata": {
        "id": "WsjFy2od1t2N"
      }
    },
    {
      "cell_type": "markdown",
      "source": [
        "<br>\n",
        "\n",
        "### What is send()?\n",
        "\n",
        "- send() is just like next(), but with extra power —\n",
        "- it allows you to send a value back into the generator at the point where it was paused (yield).\n",
        "\n",
        "#### It both:\n",
        "\n",
        "- Resumes the generator\n",
        "\n",
        "- Sends a value that becomes the result of the current yield expressio\n",
        "\n",
        "#### Note : send() method call only first yield\n"
      ],
      "metadata": {
        "id": "TpZty-VWntOB"
      }
    },
    {
      "cell_type": "code",
      "execution_count": null,
      "metadata": {
        "id": "TWUBUCRGuTWl",
        "colab": {
          "base_uri": "https://localhost:8080/"
        },
        "outputId": "92cfc1a7-01e4-4544-de04-d8b41b7be611"
      },
      "outputs": [
        {
          "output_type": "stream",
          "name": "stdout",
          "text": [
            "Who are you\n",
            "Name : hiel\n",
            "Hello,hiel!\n"
          ]
        }
      ],
      "source": [
        "def sayHello():\n",
        "  name=yield \"Who are you\"\n",
        "  yield f\"Hello,{name}!\"\n",
        "\n",
        "ob=sayHello()\n",
        "print(next(ob))\n",
        "print(ob.send(input(\"Name : \")))"
      ]
    },
    {
      "cell_type": "code",
      "source": [
        "def sayHello():\n",
        "  name=yield \"Who are you\"\n",
        "  print(name)\n",
        "  yield \"Who are you\"\n",
        "  yield f\"Hello,{name}!\"\n",
        "\n",
        "ob=sayHello()\n",
        "print(next(ob))\n",
        "print(ob.send(input(\"Name : \")))\n"
      ],
      "metadata": {
        "colab": {
          "base_uri": "https://localhost:8080/"
        },
        "id": "_0lwI6IOoPke",
        "outputId": "5ad07824-7f7b-4f31-980c-bf43a2a3249e"
      },
      "execution_count": null,
      "outputs": [
        {
          "output_type": "stream",
          "name": "stdout",
          "text": [
            "Who are you\n",
            "Name : gsgsr\n",
            "gsgsr\n",
            "Who are you\n"
          ]
        }
      ]
    },
    {
      "cell_type": "code",
      "source": [
        "def abc():\n",
        "  yield \"Hello\"\n",
        "  def xyz():\n",
        "    pass\n",
        "\n",
        "ob=abc()\n",
        "print(dir(ob))\n",
        "print(ob.__class__)\n",
        "print(ob.__hash__)\n",
        "print(ob.send)"
      ],
      "metadata": {
        "colab": {
          "base_uri": "https://localhost:8080/"
        },
        "id": "iQTef-DBoPoE",
        "outputId": "8a838138-e722-4650-c9d0-13fb732237c9"
      },
      "execution_count": null,
      "outputs": [
        {
          "output_type": "stream",
          "name": "stdout",
          "text": [
            "['__class__', '__del__', '__delattr__', '__dir__', '__doc__', '__eq__', '__format__', '__ge__', '__getattribute__', '__getstate__', '__gt__', '__hash__', '__init__', '__init_subclass__', '__iter__', '__le__', '__lt__', '__name__', '__ne__', '__new__', '__next__', '__qualname__', '__reduce__', '__reduce_ex__', '__repr__', '__setattr__', '__sizeof__', '__str__', '__subclasshook__', 'close', 'gi_code', 'gi_frame', 'gi_running', 'gi_suspended', 'gi_yieldfrom', 'send', 'throw']\n",
            "<class 'generator'>\n",
            "<method-wrapper '__hash__' of generator object at 0x7a55843a13c0>\n",
            "<built-in method send of generator object at 0x7a55843a13c0>\n"
          ]
        }
      ]
    },
    {
      "cell_type": "code",
      "source": [
        "s = \"Temperature : 31°c\"\n",
        "lst = []\n",
        "\n",
        "for i in s:\n",
        "    if i.isdigit():\n",
        "        pass\n",
        "    else:\n",
        "        lst.append(i)\n",
        "\n",
        "print(\"\".join(lst))\n"
      ],
      "metadata": {
        "colab": {
          "base_uri": "https://localhost:8080/"
        },
        "id": "tdttDVDGwi2y",
        "outputId": "d491a99d-8942-4395-f57d-5cdb6a7afb3b"
      },
      "execution_count": null,
      "outputs": [
        {
          "output_type": "stream",
          "name": "stdout",
          "text": [
            "Temperature : °c\n"
          ]
        }
      ]
    },
    {
      "cell_type": "code",
      "source": [
        "def fibonacci(limit):\n",
        "    a, b = 0, 1\n",
        "    while a < limit:\n",
        "        yield a\n",
        "        a, b = b, a + b\n",
        "\n",
        "for num in fibonacci(10):\n",
        "    print(num)\n"
      ],
      "metadata": {
        "colab": {
          "base_uri": "https://localhost:8080/"
        },
        "id": "Xx6VyPU31hQO",
        "outputId": "b5c5c341-7c0e-47eb-c6ce-3190ec951255"
      },
      "execution_count": null,
      "outputs": [
        {
          "output_type": "stream",
          "name": "stdout",
          "text": [
            "0\n",
            "1\n",
            "1\n",
            "2\n",
            "3\n",
            "5\n",
            "8\n"
          ]
        }
      ]
    },
    {
      "cell_type": "code",
      "source": [
        "s = \"Temperature : 31 c\"\n",
        "result = ''.join([ch for ch in s if not ch.isdigit()])\n",
        "print(result)\n",
        "\n"
      ],
      "metadata": {
        "id": "7MpocCwHxvbt",
        "outputId": "acf2f884-2166-4f41-f56a-5b395847d5fe",
        "colab": {
          "base_uri": "https://localhost:8080/"
        }
      },
      "execution_count": null,
      "outputs": [
        {
          "output_type": "stream",
          "name": "stdout",
          "text": [
            "Temperature :  c\n"
          ]
        }
      ]
    },
    {
      "cell_type": "code",
      "source": [
        "import array\n",
        "a = array.array('i', [1, 2, 3])\n",
        "for i in a:\n",
        "    print(i, end=' ')\n",
        "\n"
      ],
      "metadata": {
        "colab": {
          "base_uri": "https://localhost:8080/"
        },
        "id": "9KcN29_qU6Rv",
        "outputId": "10d058c4-a88c-4487-b0e4-2ae7b04c4379"
      },
      "execution_count": null,
      "outputs": [
        {
          "output_type": "stream",
          "name": "stdout",
          "text": [
            "1 2 3 "
          ]
        }
      ]
    },
    {
      "cell_type": "markdown",
      "source": [
        "------\n",
        "# Decorators\n",
        "\n",
        "* Functions that modify/enhance other functions.\n",
        "\n",
        "* Implemented using @decorator_name.\n",
        "\n",
        "* Use cases: logging, authentication, timing, validation.\n",
        "\n",
        "* Built-in:\n",
        "\n",
        "    - @staticmethod, @classmethod, @property.\n",
        "\n",
        "### Syntax :      \n",
        "\n",
        "       @decorator_name\n",
        "       def function_name():\n",
        "       # function code\n",
        "\n",
        "\n",
        "\n",
        "\n",
        "#### This is same as :    \n",
        "\n",
        "    \n",
        "    def function_name():\n",
        "    # function code\n",
        "\n",
        "    function_name = decorator_name(function_name)\n"
      ],
      "metadata": {
        "id": "2y7OGj_aun4Y"
      }
    },
    {
      "cell_type": "markdown",
      "source": [
        "### Decorator Function\n",
        "\n",
        "- A decorator takes a function as input, adds something new, and returns a new function.\n",
        "\n",
        "    \n",
        "#### Syntax :     \n",
        "\n",
        "      def my_decorator(func):\n",
        "\n",
        "        def wrapper():\n",
        "\n",
        "        print(\"Before the function runs 🚀\")\n",
        "        func()\n",
        "        print(\"After the function runs ✅\")\n",
        "        return wrapper\n",
        "\n",
        "\n",
        "### Summary Table\n",
        "\n",
        "| Concept           | Explanation                                      |\n",
        "| ----------------- | ------------------------------------------------ |\n",
        "| `@decorator`      | Shortcut to apply a decorator                    |\n",
        "| `wrapper()`       | Inner function that adds new behavior            |\n",
        "| `func()`          | Original function being decorated                |\n",
        "| `*args, **kwargs` | For flexible arguments                           |\n",
        "| Use case          | Logging, security, performance, validation, etc. |\n"
      ],
      "metadata": {
        "id": "d40gavfm0TYm"
      }
    },
    {
      "cell_type": "code",
      "source": [
        " def deco(fun):\n",
        "  def wrapper(*args,**kwargs):\n",
        "    print(\"decorator\")\n",
        "  return wrapper\n",
        "\n",
        "@deco\n",
        "def display():\n",
        "   print(\"Hi i'm using decorator\")\n",
        "\n",
        "display()"
      ],
      "metadata": {
        "id": "1JAeqxURuoGE",
        "colab": {
          "base_uri": "https://localhost:8080/"
        },
        "outputId": "1a76d624-ab01-4f34-e2df-56ed42ca10d2"
      },
      "execution_count": null,
      "outputs": [
        {
          "output_type": "stream",
          "name": "stdout",
          "text": [
            "decorator\n"
          ]
        }
      ]
    },
    {
      "cell_type": "code",
      "source": [
        "def deco(fun):\n",
        "    def wrapper(*args, **kwargs):\n",
        "        print(\"decorator\")\n",
        "        return fun(*args, **kwargs)\n",
        "    return wrapper                  # ✅ return the wrapper function\n",
        "\n",
        "@deco\n",
        "def display():\n",
        "    print(\"Hi I'm using decorator\")\n",
        "\n",
        "display()\n"
      ],
      "metadata": {
        "colab": {
          "base_uri": "https://localhost:8080/"
        },
        "id": "BY7yTYW8fzlz",
        "outputId": "0abac543-8ecf-4907-979d-ba8c6de23af0"
      },
      "execution_count": null,
      "outputs": [
        {
          "output_type": "stream",
          "name": "stdout",
          "text": [
            "decorator\n",
            "Hi I'm using decorator\n"
          ]
        }
      ]
    },
    {
      "cell_type": "code",
      "source": [
        "\n",
        "def admin_access(fun):\n",
        "    def wrapper(name, email, role):\n",
        "        if role.lower() == \"admin\":\n",
        "            return fun(name, email, role)\n",
        "        else:\n",
        "            print(\"Access denied! Only admin can access this function.\")\n",
        "    return wrapper\n",
        "\n",
        "@admin_access\n",
        "def details(name, email, role):\n",
        "    print(\"Access granted!\")\n",
        "    print(f\"Name: {name}\")\n",
        "    print(f\"Email: {email}\")\n",
        "    print(f\"Role: {role}\")\n",
        "\n",
        "name = input(\"Enter your name: \")\n",
        "email = input(\"Enter your email: \")\n",
        "role = input(\"Enter your role: \")\n",
        "\n",
        "details(name, email, role)\n"
      ],
      "metadata": {
        "colab": {
          "base_uri": "https://localhost:8080/"
        },
        "id": "vGkgXzQWfiky",
        "outputId": "09a50b3f-1902-47de-8663-0a2ed2aa8395"
      },
      "execution_count": null,
      "outputs": [
        {
          "output_type": "stream",
          "name": "stdout",
          "text": [
            "Enter your name: ram\n",
            "Enter your email: chetankashyap951@gmail.com\n",
            "Enter your role: admin\n",
            "Access granted!\n",
            "Name: ram\n",
            "Email: chetankashyap951@gmail.com\n",
            "Role: admin\n"
          ]
        }
      ]
    },
    {
      "cell_type": "code",
      "source": [
        "from os import name\n",
        "# Create a decorator which allow only admin user to access the function\n",
        "\n",
        "def admin_access(fun):\n",
        "    def wrapper(*args, **kwargs):\n",
        "        class emp_details:\n",
        "          name=\"\"\n",
        "          email=\"\"\n",
        "          role=\"\"\n",
        "          def set_value(self,name,email,role):\n",
        "            self.name=name\n",
        "            self.email=email\n",
        "            self.role=role\n",
        "\n",
        "        obj=emp_details()\n",
        "\n",
        "\n",
        "    return wrapper                  # ✅ return the wrapper function\n",
        "\n",
        "@admin_access\n",
        "def details(name, email, role):\n",
        "    print(\"Access granted!\")\n",
        "    print(f\"Name: {name}\")\n",
        "    print(f\"Email: {email}\")\n",
        "    print(f\"Role: {role}\")\n",
        "\n",
        "name = input(\"Enter your name: \")\n",
        "email = input(\"Enter your email: \")\n",
        "role = input(\"Enter your role: \")\n",
        "\n",
        "details(name, email, role)\n"
      ],
      "metadata": {
        "id": "WVVzpTgciCjj"
      },
      "execution_count": null,
      "outputs": []
    },
    {
      "cell_type": "code",
      "source": [
        "def allowRoles(allowed_roles):\n",
        "  def decorator(fun):\n",
        "    def wrapper(userrole,*args,**kwargs):\n",
        "      if userrole.lower==admin\n",
        "\n",
        "\n",
        "def delete_userdata(userrole):\n",
        "  print(\"User Data Deleted Successfully!\")\n",
        "\n",
        "def edit_content(userrole):\n",
        "  print(\"Content edited successfully !\")\n",
        "\n",
        "def view_reports(userrole):\n",
        "  print(\"Reports viewd successfully !\")"
      ],
      "metadata": {
        "id": "c88VmQG8jKWb"
      },
      "execution_count": null,
      "outputs": []
    },
    {
      "cell_type": "code",
      "source": [
        "s# Decorator to prevent a function from running more than 3 times\n",
        "\n",
        "\n",
        "def limit(max=3):\n",
        "    count = 0\n",
        "\n",
        "    def decorator(fun):\n",
        "        def wrapper(*args, **kwargs):\n",
        "            nonlocal count\n",
        "            if count >= max :\n",
        "                print(\"\\n Limit reached! You can’t perform this action more than 3 times.\")\n",
        "                return\n",
        "            count += 1\n",
        "            print(f\"\\n Attempt {count} of {max} \\n\")\n",
        "            return fun(*args, **kwargs)\n",
        "        return wrapper\n",
        "    return decorator\n",
        "\n",
        "\n",
        "@limit(max=3)\n",
        "def transfer_money(sender, receiver, amount):\n",
        "    print(f\"Transferring {amount}/- from {sender} to {receiver}\")\n",
        "\n",
        "for i in range(4):\n",
        "  sender=input(\"Enter the name of sender :\")\n",
        "  receiver=input(\"Enter the name of reciver : \")\n",
        "  money=input(\"Enter the amount : \")\n",
        "  transfer_money(sender, receiver,money)\n",
        "\n",
        "\n"
      ],
      "metadata": {
        "colab": {
          "base_uri": "https://localhost:8080/"
        },
        "id": "Yp29ZFrCnlnC",
        "outputId": "e6595e89-05dd-479c-910e-942406e8cbc8"
      },
      "execution_count": null,
      "outputs": [
        {
          "output_type": "stream",
          "name": "stdout",
          "text": [
            "Enter the name of sender :Ram\n",
            "Enter the name of reciver : shyam\n",
            "Enter the amount : 1000\n",
            "\n",
            " Attempt 1 of 3\n",
            " Transferring 1000/- from Ram to shyam\n",
            "Enter the name of sender :ram\n",
            "Enter the name of reciver : shyam\n",
            "Enter the amount : 5000\n",
            "\n",
            " Attempt 2 of 3\n",
            " Transferring 5000/- from ram to shyam\n",
            "Enter the name of sender :ram\n",
            "Enter the name of reciver : shyam\n",
            "Enter the amount : 48520\n",
            "\n",
            " Attempt 3 of 3\n",
            " Transferring 48520/- from ram to shyam\n",
            "Enter the name of sender :ram\n",
            "Enter the name of reciver : shyam\n",
            "Enter the amount : 9870\n",
            "\n",
            " Limit reached! You can’t perform this action more than 3 times.\n"
          ]
        }
      ]
    }
  ]
}