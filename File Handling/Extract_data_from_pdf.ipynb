{
  "nbformat": 4,
  "nbformat_minor": 0,
  "metadata": {
    "colab": {
      "provenance": [],
      "authorship_tag": "ABX9TyNlsxGP81q88iKSVOZfI6bm",
      "include_colab_link": true
    },
    "kernelspec": {
      "name": "python3",
      "display_name": "Python 3"
    },
    "language_info": {
      "name": "python"
    }
  },
  "cells": [
    {
      "cell_type": "markdown",
      "metadata": {
        "id": "view-in-github",
        "colab_type": "text"
      },
      "source": [
        "<a href=\"https://colab.research.google.com/github/KASHYAPCHETAN438/Core-Python/blob/main/Extract_data_from_pdf.ipynb\" target=\"_parent\"><img src=\"https://colab.research.google.com/assets/colab-badge.svg\" alt=\"Open In Colab\"/></a>"
      ]
    },
    {
      "cell_type": "code",
      "execution_count": null,
      "metadata": {
        "id": "wRaiqV-pRLgi",
        "colab": {
          "base_uri": "https://localhost:8080/"
        },
        "outputId": "93aa8fbe-b27e-4a2b-e317-5c1587299313"
      },
      "outputs": [
        {
          "output_type": "stream",
          "name": "stdout",
          "text": [
            "Collecting PyPDF2\n",
            "  Downloading pypdf2-3.0.1-py3-none-any.whl.metadata (6.8 kB)\n",
            "Downloading pypdf2-3.0.1-py3-none-any.whl (232 kB)\n",
            "\u001b[?25l   \u001b[90m━━━━━━━━━━━━━━━━━━━━━━━━━━━━━━━━━━━━━━━━\u001b[0m \u001b[32m0.0/232.6 kB\u001b[0m \u001b[31m?\u001b[0m eta \u001b[36m-:--:--\u001b[0m\r\u001b[2K   \u001b[90m━━━━━━━━━━━━━━━━━━━━━━━━━━━━━━━━━━━━━━━━\u001b[0m \u001b[32m232.6/232.6 kB\u001b[0m \u001b[31m6.9 MB/s\u001b[0m eta \u001b[36m0:00:00\u001b[0m\n",
            "\u001b[?25hInstalling collected packages: PyPDF2\n",
            "Successfully installed PyPDF2-3.0.1\n"
          ]
        }
      ],
      "source": [
        "!pip install PyPDF2"
      ]
    },
    {
      "cell_type": "code",
      "source": [
        "import PyPDF2\n",
        "\n",
        "# PDF file open\n",
        "file = open('front seminar.pdf', 'rb')\n",
        "pdf_reader = PyPDF2.PdfReader(file)\n",
        "\n",
        "# Number of pages\n",
        "print(len(pdf_reader.pages))\n",
        "\n",
        "# Extract text from first page\n",
        "page = pdf_reader.pages[0]\n",
        "text = page.extract_text()\n",
        "print(text)\n",
        "\n",
        "file.close()"
      ],
      "metadata": {
        "colab": {
          "base_uri": "https://localhost:8080/"
        },
        "id": "_H4HP69vkcc1",
        "outputId": "4de60a4e-9414-4b53-92c8-a3df6e111a8e"
      },
      "execution_count": null,
      "outputs": [
        {
          "output_type": "stream",
          "name": "stdout",
          "text": [
            "1\n",
            "   \n",
            " \n",
            "   \n",
            " G B Pant  DSEU  Okhla  I Campus  1 \n",
            "(Formerly  G B Pant  Govt.  Engineering  College) 2 \n",
            "(Govt. Of NCT of Delhi)  3 \n",
            "Okhla  Industrial  Estate  Phase -III 4 \n",
            "New Delhi -110020  5 \n",
            " 6 \n",
            "                    Department  of Computer  Science  & Engineering  7 \n",
            "                                                         202 2-202 6  8 \n",
            " 9 \n",
            " 10 \n",
            "                              A Seminar  Report  11 \n",
            "                                              On 12 \n",
            "                         \"Autonomous  Vehicles\"  13 \n",
            " 14 \n",
            " 15 \n",
            "Submit ted to : Submitted  by: 16 \n",
            "Mrs.  Sunita  Kumari  Chetan  (231632043006)  17 \n",
            "Assistant  Professor  CSE 6 th  Semester  18 \n",
            "CSE Department  19 \n",
            " 20 \n",
            "        21 \n",
            " 22 \n",
            " 23 \n",
            "                                                                            29/9/202 5        24 \n",
            "\n"
          ]
        }
      ]
    },
    {
      "cell_type": "code",
      "source": [
        "from google.colab import files\n",
        "uploaded = files.upload()"
      ],
      "metadata": {
        "id": "LVsSPM8mkPqS"
      },
      "execution_count": null,
      "outputs": []
    }
  ]
}